{
 "cells": [
  {
   "cell_type": "markdown",
   "id": "962cd6c0-671c-407e-9fab-1997a1025dfa",
   "metadata": {},
   "source": [
    "# Books vs. Movies Adaptations: A Comparative Analysis of Ratings\n",
    "Camryn Soo - 12/8/24\n",
    "\n",
    "HCDE410: Human Data Interaction - Assignment A7"
   ]
  },
  {
   "cell_type": "markdown",
   "id": "cd5d4792-55c0-4581-9be4-af6d0514dcf1",
   "metadata": {},
   "source": [
    "## Scientific Abstract \n",
    "(This abstract was written with the assistance Perplexity AI December 8, 2024)\n",
    "\n",
    "This study aims to address the debate of whether books are better than their movie adaptations. The research focused on a quantitative analysis of 82 unique book ratings and their corresponding IMDb movie adaptation ratings. A custom dataset was constructed from three open data sources to facilitate this comparison. Key findings include:\n",
    "\n",
    "- Determining the difference observed between the book and movie ratings is statistically significant.\n",
    "- Observing books had a higher rating than their movie counterparts in 86.6% of cases, while movies surpassed book ratings in 12.2% of instances. Equal ratings occurred in 1.2% of the sample.\n",
    "\n",
    "Despite these results, there needs to be caution in generalizing these findings beyond the scope of this study. The project's limitations stem from specific assumptions and methodological choices that may not accurately reflect the broader landscape of book-to-film adaptations.\n"
   ]
  },
  {
   "cell_type": "markdown",
   "id": "00d90c25-bf31-4776-a2cd-690cc89b3e15",
   "metadata": {},
   "source": [
    "## Introduction\r",
    "###  Motivations\n",
    "As a person who has grown to appreciate reading, my stance on if books are better than movies has changed. As a kid who struggled to read, books were never as engaging as a movie because I was limited by my ability. Now as a college student, I've come to realize how fun and special books are when it comes to storytelling. But can I really say books are better than movies? Not exactly! Because of this, it has inspired me to try to see if I could quantify **How does book popularity compare to their movie adaptations and see if there is an answer to this age old debate: are books better than movies?**\n",
    "\n",
    "By looking at books with movie adaptations it helps me examine how the mediums compare. I was thinking about using popularity rankings to help determine this. With this said, there are still many other factors that this analysis can't cover which I will discuss in more depth in my unknown and dependencies section below.\n",
    "\n",
    "Acknowledging these limitations are important when considering the usefulness of the findings of this study. I'd ideally like to use this project's findings as a starting point in a conversation about mediums of storytelling. It can make people think about their preconceived notions in books or movies and help them start to see the strengths and weaknesses in both of them.\n"
   ]
  },
  {
   "cell_type": "markdown",
   "id": "b67bcaeb-07ba-4c96-850f-8ac6baf05a18",
   "metadata": {},
   "source": [
    "## Background & Related Work\r\n",
    "From what I've found so far, I struggled to find very \"official\" previous research. Many projects or articles I found on the debate between books vs movies come from media sites that include high school newspapers, libraries, student projects, and new sources. I think that the topic is fairly informal because it's based on subjective foundation.\r\n",
    "\r\n",
    "The [Indiana University's libraries site covers the debate in a 2018 article](https://blogs.libraries.indiana.edu/mediabeat/2018/03/19/books-vs-movies-the-age-old-debate/) covering the benefits and drawback of books and movies. The student author, Robiati Endashaw, points out, \"at the end of the day, the two mediums of storytelling have different advantages and different qualifications for what makes them good.\" While this is true, for the sake of this project I will still try to quantify the differences between the two mediums based on the same story. But I will keep this important factor in as I proceed forward and as I talk about my findings later. Because of this, **I think it's good that much of the work I've found is \"informal\" because it's more important for people to critically think about their opinion as opposed to being told what is \"correct\" when tha answer ultimately depends on the person or in the case of this study the data.**\r\n",
    "\r\n",
    "As referenced in this article, the [Washington Post wrote a 2016 analysis](https://www.washingtonpost.com/news/wonk/wp/2016/01/05/the-book-really-is-better-than-the-movie/) concluding that books were better than movies. While I can't access this piece due to a pay wall, from the visual shared through the Indiana University's libraries' article I could see they had graphed the ratings of movies on the y axis to the rating of books on the x axis. Using a center line as \"neutral\" this image showed how the data favored books as better than movies. Even though I can't see their methodology, I would to try to see if I can recreate these findings on my own. By putting the movie and book ratings on opposite axis it helps show how they contrast. But with my study I'd also like to include some other factors such as time between book release and movie release. Its something I haven't found covered yet and think it could be interesting to see if there are any trends in that space of this debate.\r\n",
    "\r\n",
    "Finally, one useful related work that I have drawn inspiration on finding my datasets is an an analysis done by Sushant Vema in 2021 on [\"Predicting Box Office Returns for Movies Adapted from Books\"](https://saas.studentorg.berkeley.edu/rp/box-office). Sushant looked at what features of a book indicate its success at box office. While I don't have intentions for creating a model to predict things, I think Sushant's work has similar starting points as this project. As Sushant pointed out, there are limited datasets available to the public that capture both book data and their adapted movie data. Because of this gap in data, Sushant breaks down their process of cleaning up the data, finding its limitations, and considerations when merging the movie and book datasets together. Because I will have to go through this similar process to get the right data for my analysis, I'm thankful I came across their work. When building up my dataset I want to be sure to incorporate steps of making visualizations of what I'm working with. I think this incremental approach is important to be able to understand the limitations of my work as well as show me other potential areas of interest for future work as Sushant mentioned.\r\n"
   ]
  },
  {
   "cell_type": "markdown",
   "id": "25ce2269-e491-4e27-a2a1-0fa1f4caf7e7",
   "metadata": {},
   "source": [
    "## Research Questions / Hypotheses\n",
    "**MAIN QUESTION: How does book popularity compare to their movie adaptations and see if there is an answer to this age old debate: are books better than movies?**\n",
    "\n",
    "Other research questions I'm interested in exploring:\n",
    "- How do at least 75 books compare to their movie adaptations according to their ratings?\n",
    "- What percentage of time is a category (book vs. book adaptation) higher than the other?\n",
    "- What is the average difference between a book release and its adaptation release?\n",
    "- Consider edge cases and limitations of this work!\n"
   ]
  },
  {
   "cell_type": "markdown",
   "id": "2688ca3c-b6b6-410b-a532-f269d12102aa",
   "metadata": {},
   "source": [
    "## Methodology\n",
    "### Data Selected for Analysis\n",
    "In order to start to answer this question I knew my dataset would need to cover both book ratings and movie ratings. But after researching options, I was unable to find a source that had a combination of the two. That is why for this project I will need to examine up to three data sources to accomplish my analysis:\n",
    "- **Books ratings [(Kaggle by Abdallah Wagih Ibrahim - ](https://www.kaggle.com/abdallahwagih)[\"Books Dataset\")](https://www.kaggle.com/datasets/abdallahwagih/books-dataset):** contains information about the book such as its publication date and its rating out of 5.\n",
    "- **List of books that have movie adaptations [(IMDb by Addicted-to-Films - ](https://www.imdb.com/user/ur3017944/?ref_=ls_usr_ov) [\"Book-to-Film Adaptations\")](https://www.imdb.com/list/ls000989358/?view=compact&sort=alpha%2Casc) and [(IMDb by kiraalt - ](https://www.imdb.com/user/ur3582225/?ref_=ls_usr_ov)[\"100 Movies based on 100 Classic Great Books\")](https://www.imdb.com/list/ls074934904/):** Both of these lists are curated by individuals who have compiled a list of movies whose story originated from a book. They both include IMDb ratings out of 10.\n",
    "\n",
    "The Kaggle **book ratings dataset** contains, as stated on the data card, the title, author, genre, publication year, and more for about 6810 books. I think the most useful fields I'm interested in are the title, author, average rating (out of 5), and publication year. This will help me build out the book rating portion of the dataset. But my main concern with this dataset is that it doesn't share where the data was collected from. I think this gap in knowledge could bring up ethical concerns of the validity of it. But from the other datasets I've seen, I liked this one the most because it covered a wide range of information tracked. While I understand this is a concerning issue, I think the dataset's high download rate gives me some more confidence in its credibility and usability. But to be safe I will be sure to note this issue in my documentation. Also the dataset uses the [Apache 2.0](https://www.apache.org/licenses/LICENSE-2.0) license which from my understanding allows me to use the dataset as long as I credit the creator and clearly cite if I make any modifications to it.\n",
    "\n",
    "The other part of information I need to answer my question is a **list of books that were adapted to become movies**. Both sources I've found for this so far are from IMDb and from what I am aware are available to the public. I will continue to look into this but in the meantime will be sure to credit the owner of the database. While I'm not sure if I want to use one or both of lists of movies that are adaptations of books, they both contain excel files that store information such as the fields I'm most interested in like the title of the movie, the rating, and the year it was published. I will use these lists to filter out the books/movies I'd include. For the sake of time management, I've decided to use the movie ratings they’ve included as the rating to compare to the book ratings from the other dataset.\n",
    "\n",
    "### Procedures & Justifications \n",
    "I broke down my data analysis process into three main steps with their own substeps (Assisted by Perplexity Ai to refine the heading title):\n",
    "- **Step 1:** Creation  |  Establish the dataset\n",
    "- **Step 2:** Visualization  |  Represent data graphically\n",
    "- **Step 3:** Analysis  |  Examine and interpret results\n",
    "\n",
    "For the **first step** I needed to address the fact as I mentioned in the previous section that there was no dataset that had all the data I needed (book ratings and movie adaptation ratings). Because of this the best course of action was to build it myself using the datasets I compiled above. While I had concerns about the sources of these datasets and their accuracy, for the sake of this project the best thing I could do was note them and keep on moving forward. This process resulted in whittling down of data which made me note concerns of validity but I worked hard to document these assumptions made in the sections to come. Since I built the dataset, I grew very familiar with its content which made the following steps run smoother than I expected.\n",
    "\n",
    "For the **second step** I chose to then visualize the data I had compiled. I thought this was the best next step because when viewing data as lists and dictionaries it can get very easy to forget the meaning they hold beyond just numbers. By creating a scatter plot I was able to start to visualize how book ratings compared to movie adaption ratings by having them be on opposite axes. Of all the choices of ways to visualize data, I thought the scatter plot allowed me to best see the relationship between the two variables as well as start to see if I could note any general trends, statistically significant or not yet.\n",
    "\n",
    "Finally for the  **third step** I decided to conduct two statistical analyses to see if the results of my scatter plot were significant or not. For both I chose to use I chose a significance level of 0.05 because I wanted to match other frequently used practices in t-tests. \n",
    "\n",
    "For my first test in part a I wanted to examine the mean difference between a title’s book and movie adaption rating. I chose to use a one-sample t-test because I felt as though the hypothesis structure fit well for the question I was trying to answer. Because I knew the hypothetical mean difference should be 0 if there is if there was no difference between book and movie ratings I thought this would be a good test to conduct.\n",
    "\n",
    "- My null hypothesis: the mean difference between of book and movie adaptations ratings **won't** be statistically different. Mean difference between book and movie adaptations ratings <= hypothetical mean difference of 0.\n",
    "- My alternative hypothesis: the mean difference between of book and movie adaptations ratings  **will** be statistically different. Mean difference between book and movie adaptations ratings >  hypothetical mean difference of 0.\n",
    "(note: 0 represents the hypothetical mean difference because if there was no difference between book and movie ratings it should be 0)\n",
    "\n",
    "For my second test in part b, I wanted to examine if there was a significant difference between the mean of book ratings and movie ratings. Because of this I chose to conduct an independent two sample t-test. I chose this method of analysis because I wanted to affirm that even if the books and movie adaptations have connections through their plot lines that they are still treated as their own independent forms of media. Because even if we are looking to see how they compare, books have capabilities that movies don't and vice versa. I chose a significance level of 0.05 because I wanted to match other frequently used practices in t-tests. \n",
    "\n",
    "- My null hypothesis: the mean ratings of book and movie adaptations **won't** be statistically different. Book mean rating = Movie mean rating\n",
    "- My alternative hypothesis: the mean ratings of book and movie adaptations **will** be statistically different. Book mean rating != Movie mean rating\n",
    "\n",
    "Based on the results of these tests I started to see if the findings are statistically significant or not which would help me figure out how to move forward with my findings.\n"
   ]
  },
  {
   "cell_type": "markdown",
   "id": "0dd81bcd-a468-4f34-ac5c-2beb8c1e21ca",
   "metadata": {},
   "source": [
    "### Step 1: Creation  |  Establish the dataset\n",
    "The main goal of this step was to build a usable dataset that contained at least the title of the book/movie adaption, the book rating, and the movie rating. I used the following parts to complete this.\n",
    "\n",
    "- **Part A:** Loading in all the datasets\n",
    "- **Part B:** Cleaning up the lists of books that have movie adaptations datasets\n",
    "- **Part C:** Cleaning up the book dataset\n",
    "- **Part D:** Finding the overlap of between the datasets\n",
    "- **Part E:** Cleaning up the new dataset (with book and movie ratings)\n",
    "\n",
    "##### Summary of Assumptions:\n",
    "- the credibility of the sources of the all the datasets \n",
    "- averaging duplicate ratings a sufficient enough representation of the true rating\n",
    "- duplicate titles are representations of the same book (this doesn't account of if two books/movie adaptations have the same name but a different plot/author)\n"
   ]
  },
  {
   "cell_type": "markdown",
   "id": "61c70200-b00c-4671-889b-05c68c21b823",
   "metadata": {},
   "source": [
    "#### Part A: Loading in all the datasets\n",
    "In this part I needed to put the datasets from the 3 sources into usable formats. I downloaded the datasets as excel sheets and uploaded them to the full-datasets folder. Using the csv module, I created the prepare_datasets method to create a list for each dataset and each row of data was represented by a dictionary."
   ]
  },
  {
   "cell_type": "code",
   "execution_count": 41,
   "id": "b543a3ef-00a5-42e3-a965-03cf47ac6e54",
   "metadata": {},
   "outputs": [],
   "source": [
    "#import the csv module, a little code toolkit for working with spreadsheet-style data files\n",
    "import csv"
   ]
  },
  {
   "cell_type": "code",
   "execution_count": 42,
   "id": "506a5077-43fa-490d-81e4-af6b8173810f",
   "metadata": {},
   "outputs": [],
   "source": [
    "# method created from HCDE 410 A2 assignment framework and modified for this assignment \n",
    "def prepare_datasets(file_path):\n",
    "    \"\"\" \n",
    "    Accepts: path to a tab-separated plaintext file\n",
    "    Returns: a list containing a dictionary for every row in the file, \n",
    "        with the file column headers as keys\n",
    "    \"\"\"\n",
    "    \n",
    "    with open(file_path) as infile:\n",
    "        reader = csv.DictReader(infile, delimiter=',')\n",
    "        list_of_dicts = [dict(r) for r in reader]\n",
    "        \n",
    "    return list_of_dicts"
   ]
  },
  {
   "cell_type": "markdown",
   "id": "02b47baa-560b-4431-92c6-02aa328aa29d",
   "metadata": {},
   "source": [
    "I called the method for each dataset and printed the item in each list. This way I was able to double check the data matched the original dataset. From here it looked good to move forward."
   ]
  },
  {
   "cell_type": "code",
   "execution_count": 43,
   "id": "c3a6fc62-24db-4fae-ae35-da4145c1bfe4",
   "metadata": {},
   "outputs": [
    {
     "name": "stdout",
     "output_type": "stream",
     "text": [
      "book data row 1: {'isbn13': '9.78E+12', 'isbn10': '2005883', 'title': 'Gilead', 'subtitle': '', 'authors': 'Marilynne Robinson', 'categories': 'Fiction', 'thumbnail': 'http://books.google.com/books/content?id=KQZCPgAACAAJ&printsec=frontcover&img=1&zoom=1&source=gbs_api', 'description': 'A NOVEL THAT READERS and critics have been eagerly anticipating for over a decade, Gilead is an astonishingly imagined story of remarkable lives. John Ames is a preacher, the son of a preacher and the grandson (both maternal and paternal) of preachers. It’s 1956 in Gilead, Iowa, towards the end of the Reverend Ames’s life, and he is absorbed in recording his family’s story, a legacy for the young son he will never see grow up. Haunted by his grandfather’s presence, John tells of the rift between his grandfather and his father: the elder, an angry visionary who fought for the abolitionist cause, and his son, an ardent pacifist. He is troubled, too, by his prodigal namesake, Jack (John Ames) Boughton, his best friend’s lost son who returns to Gilead searching for forgiveness and redemption. Told in John Ames’s joyous, rambling voice that finds beauty, humour and truth in the smallest of life’s details, Gilead is a song of celebration and acceptance of the best and the worst the world has to offer. At its heart is a tale of the sacred bonds between fathers and sons, pitch-perfect in style and story, set to dazzle critics and readers alike.', 'published_year': '2004', 'average_rating': '3.85', 'num_pages': '247', 'ratings_count': '361'}\n",
      "book data length: 6810\n",
      "\n",
      "book movie adaption list 1 row 1: {'Position': '1', 'Const': 'tt0046672', 'Created': '8/17/2015', 'Modified': '8/17/2015', 'Description': '', 'Title': '20,000 Leagues Under the Sea', 'Original Title': '20,000 Leagues Under the Sea', 'URL': 'https://www.imdb.com/title/tt0046672/', 'Title Type': 'Movie', 'IMDb Rating': '7.2', 'Runtime (mins)': '127', 'Year': '1954', 'Genres': 'Adventure, Drama, Family, Fantasy, Sci-Fi', 'Num Votes': '38070', 'Release Date': '7/20/1955', 'Directors': 'Richard Fleischer'}\n",
      "book movie adaption list 1 length: 97\n",
      "\n",
      "book movie adaption list 2 row 1: {'Position': '1', 'Const': 'tt1099212', 'Created': '7/1/2011', 'Modified': '7/1/2011', 'Description': \"I've read the book and watched the movie.\", 'Title': 'Twilight', 'Original Title': 'Twilight', 'URL': 'https://www.imdb.com/title/tt1099212/', 'Title Type': 'Movie', 'IMDb Rating': '5.3', 'Runtime (mins)': '122', 'Year': '2008', 'Genres': 'Drama, Fantasy, Romance', 'Num Votes': '496070', 'Release Date': '11/21/2008', 'Directors': 'Catherine Hardwicke'}\n",
      "book movie adaption list 2: 71\n"
     ]
    }
   ],
   "source": [
    "#load the data from the files into three lists-of-dictionaries\n",
    "\n",
    "# full book dataset \n",
    "book_data = prepare_datasets(\"full-datasets/full-book-dataset.csv\")\n",
    "print(\"book data row 1:\",book_data[0])\n",
    "print(\"book data length:\",len(book_data))\n",
    "print()\n",
    "\n",
    "# books with movie adaption list 1 \n",
    "book_movie_data_1 = prepare_datasets(\"full-datasets/full-100-movies-based-on-books-dataset.csv\")\n",
    "print(\"book movie adaption list 1 row 1:\", book_movie_data_1[0])\n",
    "print(\"book movie adaption list 1 length:\", len(book_movie_data_1))\n",
    "print()\n",
    "\n",
    "# books with movie adaption list 2 \n",
    "book_movie_data_2 = prepare_datasets(\"full-datasets/full-book-to-film-adaptions-dataset.csv\")\n",
    "print(\"book movie adaption list 2 row 1:\", book_movie_data_2[0])\n",
    "print(\"book movie adaption list 2:\",len(book_movie_data_2))"
   ]
  },
  {
   "cell_type": "markdown",
   "id": "0fcf0262-6077-4b19-b93c-fd137c5b1c56",
   "metadata": {},
   "source": [
    "#### Part B: Cleaning up the lists of books that have movie adaptations dataset\n",
    "I chose to start with the movie adaptationsdataset because even though it required combining two lists, it in total had less rows that the book dataset so it felt more manageable. \n",
    "\n",
    "In this part I need to first focus my data on elements I needed to answer my main research question. Because of this I narrowed it down to just storing the movie adaption title and its rating (out of 10). To do this I created the filter_and_convert method with the assistance of ChatGPT Ai. I also noticed later in this process that the ratings were stored as string values so I also included the process of converting them to doubles in this step.\n"
   ]
  },
  {
   "cell_type": "code",
   "execution_count": 44,
   "id": "072a45a3-69eb-411a-9b04-21f1980e8760",
   "metadata": {},
   "outputs": [],
   "source": [
    "# This function was developed with the assistance of ChatGPT (OpenAI), November 26, 2024.\n",
    "# the goal is to:\n",
    "# 1. filter out the fields we don't want \n",
    "# 2. convert the data in to the correct storage types (numbers should be doubles over strings)\n",
    "\n",
    "def filter_and_convert(data, keys_to_keep, keys_to_convert):\n",
    "    filtered_data = []\n",
    "    \n",
    "    for item in data:\n",
    "        if isinstance(item, dict):  # Ensure each item is a dictionary\n",
    "            # Filter the dictionary and convert specified keys\n",
    "            filtered_item = {\n",
    "                k: (float(v) if k in keys_to_convert and isinstance(v, str) and v.replace('.', '', 1).isdigit() else v)\n",
    "                for k, v in item.items() if k in keys_to_keep\n",
    "            }\n",
    "            filtered_data.append(filtered_item)\n",
    "        else:\n",
    "            # Handle non-dictionary items if necessary (optional)\n",
    "            pass\n",
    "    \n",
    "    return filtered_data"
   ]
  },
  {
   "cell_type": "markdown",
   "id": "4414c256-44ee-464a-b3ba-6c0d45b469b6",
   "metadata": {},
   "source": [
    "I determined the right keys to pass in to my method by familiarizing myself with the movie adaptationsdatasets structure headings before doing this step. Then I printed out the first item in new shortened datasets to double check the method was successful. Finally I combined the two lists of movie adaptationsto make the list \"all_book_movie_adaptions_data\". I double checked that the process didn't miss any data points by comparing the lengths of individual movie adaptationslists to the joint one."
   ]
  },
  {
   "cell_type": "code",
   "execution_count": 45,
   "id": "06ae6299-7dee-4f78-b536-926d4dc23f6d",
   "metadata": {},
   "outputs": [
    {
     "name": "stdout",
     "output_type": "stream",
     "text": [
      "Revised book movie adaption list 1: {'Title': '20,000 Leagues Under the Sea', 'IMDb Rating': 7.2}\n",
      "Revised book movie adaption list 2: {'Title': 'Twilight', 'IMDb Rating': 5.3}\n",
      "Checking for correct total (should be 168 = 97+71): 168\n"
     ]
    }
   ],
   "source": [
    "# defining the parameters to pass in to the data cleaning up method (def filter_and_convert)\n",
    "keys_to_keep = {\"Title\", \"IMDb Rating\"}\n",
    "keys_to_convert = {\"IMDb Rating\"}\n",
    "\n",
    "# clean up the first list of books with movie adaptions\n",
    "book_movie_adaptions_data_1  = filter_and_convert(book_movie_data_1, keys_to_keep, keys_to_convert)\n",
    "print(\"Revised book movie adaption list 1:\", book_movie_adaptions_data_1[0])\n",
    "\n",
    "# clean up the second list of books with movie adaptions\n",
    "book_movie_adaptions_data_2  = filter_and_convert(book_movie_data_2, keys_to_keep, keys_to_convert)\n",
    "print(\"Revised book movie adaption list 2:\", book_movie_adaptions_data_2[0])\n",
    "\n",
    "# create a new dataset with both list 1 and 2 combined\n",
    "all_book_movie_adaptions_data = book_movie_adaptions_data_1 + book_movie_adaptions_data_2\n",
    "print(\"Checking for correct total (should be 168 = 97+71):\",len(all_book_movie_adaptions_data))"
   ]
  },
  {
   "cell_type": "markdown",
   "id": "8db70156-4266-49d3-ae3a-d526757e72e8",
   "metadata": {},
   "source": [
    "Since I combined two lists of unique movies that were adaptations of books, I knew there could be a chance that my combined list had duplicates. To overcome this I created the determine_dupes method to track if a title of an item showed up more than once by returning a list of all the doubled titles. From here I learned my dataset had 4 doubles which were of ‘Pride & Prejudice', 'Jane Eyre', 'Vanity Fair', and 'Little Women'."
   ]
  },
  {
   "cell_type": "code",
   "execution_count": 46,
   "id": "54f66009-7253-4d56-8a7d-3537808ddedc",
   "metadata": {},
   "outputs": [],
   "source": [
    "# method created from HCDE 410 A2 assignment framework and modified for this assignment\n",
    "def determine_dupes(data, key):\n",
    "    # create a data storage for tracking all the unique data\n",
    "    unique_data = set()\n",
    "\n",
    "    # create new data storage to track the lists of duplicate data\n",
    "    dupes_list = []  \n",
    "\n",
    "    for w in data:\n",
    "        if w[key] in unique_data: # the key is a duplicate so we track it\n",
    "            dupes_list.append(w[key])\n",
    "        else: # otherwise add the key to the list of unique data\n",
    "            unique_data.add(w[key])\n",
    "\n",
    "    return dupes_list"
   ]
  },
  {
   "cell_type": "code",
   "execution_count": 47,
   "id": "3d28b4e2-3f44-4de8-af84-c70bc699db30",
   "metadata": {},
   "outputs": [
    {
     "name": "stdout",
     "output_type": "stream",
     "text": [
      "List of duplicate titles: ['Pride & Prejudice', 'Jane Eyre', 'Vanity Fair', 'Little Women']\n"
     ]
    }
   ],
   "source": [
    "#we'll call determine_dupes to check for duplicates in the combined list of book movie adaptions\n",
    "dupes_list = determine_dupes(all_book_movie_adaptions_data, \"Title\")\n",
    "\n",
    "#prints out the list of duplicate titles\n",
    "print(\"List of duplicate titles:\",dupes_list)\n",
    "\n",
    "#(and because it each list was made up of unique data, it means the duplicates only occur twice) "
   ]
  },
  {
   "cell_type": "markdown",
   "id": "954507b6-3559-4262-ad9f-ceeb51711c4e",
   "metadata": {},
   "source": [
    "Because each original data set was made up of unique data, it means the duplicates only occur twice in my new combined dataset. So instead of 168 unique data points there should really be 164. But since the number of duplicates was relatively small, I chose to examine how different (or similar) these duplicates were from each other. I found that while 'Pride & Prejudice' and 'Vanity Fair' had the same IMDb ratings, 'Jane Eyre' and 'Little Women' did not. "
   ]
  },
  {
   "cell_type": "code",
   "execution_count": 48,
   "id": "ad97cfc7-b533-46da-9f4e-3cedde93eba2",
   "metadata": {},
   "outputs": [
    {
     "name": "stdout",
     "output_type": "stream",
     "text": [
      "From book_movie_adaptions_data_1\n",
      "{'Title': 'Pride & Prejudice', 'IMDb Rating': 7.8}\n",
      "{'Title': 'Jane Eyre', 'IMDb Rating': 7.3}\n",
      "{'Title': 'Vanity Fair', 'IMDb Rating': 6.2}\n",
      "{'Title': 'Little Women', 'IMDb Rating': 7.2}\n",
      "\n",
      "From book_movie_adaptions_data_2\n",
      "{'Title': 'Pride & Prejudice', 'IMDb Rating': 7.8}\n",
      "{'Title': 'Jane Eyre', 'IMDb Rating': 6.8}\n",
      "{'Title': 'Vanity Fair', 'IMDb Rating': 6.2}\n",
      "{'Title': 'Little Women', 'IMDb Rating': 7.3}\n"
     ]
    }
   ],
   "source": [
    "# look over the first list of movie adaptationsto pull the information about the duplicates\n",
    "print(\"From book_movie_adaptions_data_1\")\n",
    "for w in book_movie_adaptions_data_1:\n",
    "    if w[\"Title\"] in dupes_list:\n",
    "        print(w)\n",
    "print()\n",
    "\n",
    "print(\"From book_movie_adaptions_data_2\")\n",
    "# look over the second list of movie adaptationsto pull the information about the duplicates\n",
    "for w in book_movie_adaptions_data_2:\n",
    "    if w[\"Title\"] in dupes_list:\n",
    "        print(w)"
   ]
  },
  {
   "cell_type": "markdown",
   "id": "b7008650-cde5-41cd-a65b-1531551211c8",
   "metadata": {},
   "source": [
    "From here I had to think about the best approaches forward. Due to the time constraints of this project, I determined that the best step forward to reflect the discrepancy of ratings would be to take the average of it. Better approaches to this in the future when more time is available is to look at the number of people who contributed to the rating to help determine the validity of each rating to compare to each other.\n",
    "\n",
    "From here I worked to build a new dataset of a list of movie adaptations with titles and ratings without any duplicates. I had to both remove the duplicate data in the previous dataset I had made, calculate the updated rating averages for the duplicate data points, and add them into the new dataset.\n",
    "\n",
    "Once I was done I checked my work by running the new dataset, “all_book_movie_adaptions_data”, into my determine_dupes methods to confirm that there were no duplicates left. Now my new total of available data points is 164 titles with their ratings.\n"
   ]
  },
  {
   "cell_type": "code",
   "execution_count": 49,
   "id": "8121d09c-815d-4b58-8122-d06ce39f2fa7",
   "metadata": {},
   "outputs": [
    {
     "name": "stdout",
     "output_type": "stream",
     "text": [
      "count of unique movie adaption: 160\n"
     ]
    }
   ],
   "source": [
    "# create a list of all the unique book movie adaptationswithout the copies\n",
    "# this will be used in the following code block!\n",
    "book_movie_title_list = []\n",
    "for y in all_book_movie_adaptions_data:\n",
    "    if y[\"Title\"] not in dupes_list:\n",
    "        book_movie_title_list.append(y[\"Title\"])\n",
    "print(\"count of unique movie adaption:\", str(len(book_movie_title_list)))"
   ]
  },
  {
   "cell_type": "code",
   "execution_count": 50,
   "id": "c706fcc6-3f73-4e90-9e17-b427195345ac",
   "metadata": {},
   "outputs": [
    {
     "name": "stdout",
     "output_type": "stream",
     "text": [
      "Checking for the correct # of unique books with movie adaptations(should be 164): 164\n",
      "List of duplicates left: []\n"
     ]
    }
   ],
   "source": [
    "# because the duplicates are different and small enough to handle induvidually,\n",
    "# I chose to manaually take the average of the imdb score to hard code in to my new data set\n",
    "\n",
    "# look through the first list of book movie adaption ratings\n",
    "for w in book_movie_adaptions_data_1:\n",
    "    if w[\"Title\"] in dupes_list: # when a duplicate data is found in this dataset\n",
    "       \n",
    "        # look through the second list of book movie adaption ratings for a match\n",
    "        for x in book_movie_adaptions_data_2:\n",
    "            if x[\"Title\"] == w[\"Title\"]: # when have the dulipcate data in each list present\n",
    "                \n",
    "                # create the new rating by taking the average between the two ratings\n",
    "                new_rating = (w[\"IMDb Rating\"] + x[\"IMDb Rating\"])/2\n",
    "\n",
    "                # making sure the updated movie adaption information hasn't been added\n",
    "                # to the main list of all book movie adaptations\n",
    "                if x[\"Title\"] not in book_movie_title_list:\n",
    "                    \n",
    "                    # update the list of all the unique book movie adaptions\n",
    "                    # to now include the titles that had copies\n",
    "                    book_movie_title_list.append(x[\"Title\"])\n",
    "\n",
    "                    # remove the duplicates data from the main list of all book movie adaptions\n",
    "                    if w in all_book_movie_adaptions_data:\n",
    "                        all_book_movie_adaptions_data.remove(w)\n",
    "                    if x in all_book_movie_adaptions_data:\n",
    "                        all_book_movie_adaptions_data.remove(x)\n",
    "                    \n",
    "                    # remove the new adjusted data for the duplicate so its only counted once\n",
    "                    all_book_movie_adaptions_data.append(\n",
    "                        {'Title' : w[\"Title\"],\n",
    "                         'IMDb Rating': new_rating}\n",
    "                    )\n",
    "                     \n",
    "print(\"Checking for the correct # of unique books with movie adaptations(should be 164):\", len(all_book_movie_adaptions_data))\n",
    "\n",
    "# run the determine_dupes method again to see if there are any duplicates left\n",
    "dupes = determine_dupes(all_book_movie_adaptions_data, \"Title\")\n",
    "print(\"List of duplicates left:\", dupes)\n",
    "\n",
    "# create an new variable name to represent the data!\n",
    "unique_book_movie_adaptions_data = all_book_movie_adaptions_data"
   ]
  },
  {
   "cell_type": "markdown",
   "id": "899d0dc2-9288-40dc-a252-e15a81b1c232",
   "metadata": {},
   "source": [
    "#### Part C: Cleaning up the book dataset\n",
    "In this part I pivoted to examine the book dataset made up of 6810 titles. As I did with the movie adaption data, I determined the right keys to pass in to my filter_and_convert method by familiarizing myself with the book dataset structure headings. After passing in the data to the method I had a new data structure called “updated_book_data” which contained the title of the book and its rating OUT OF 5 (this will be addressed later in part e).\n"
   ]
  },
  {
   "cell_type": "code",
   "execution_count": 51,
   "id": "923c755f-f858-4ca2-84a5-2156f493b0bc",
   "metadata": {},
   "outputs": [
    {
     "name": "stdout",
     "output_type": "stream",
     "text": [
      "Revised full book data row 1: {'title': 'Gilead', 'average_rating': 3.85}\n",
      "Revised full book data length (should be 6810): 6810\n"
     ]
    }
   ],
   "source": [
    "# defining the parameters to pass in to the data cleaning up method (def filter_and_convert)\n",
    "keys_to_keep = {\"title\", \"average_rating\"}\n",
    "keys_to_convert = {\"average_rating\"}\n",
    "\n",
    "# clean up the full book dataset based on similar parameters as part b\n",
    "updated_book_data = filter_and_convert(book_data, keys_to_keep, keys_to_convert)\n",
    "print(\"Revised full book data row 1:\",updated_book_data[0])\n",
    "print(\"Revised full book data length (should be 6810):\",len(updated_book_data))"
   ]
  },
  {
   "cell_type": "markdown",
   "id": "d3d46ff3-c39d-4634-80e1-f590dc7a8bf9",
   "metadata": {},
   "source": [
    "Similarly to part b, I wanted to check if the book dataset had any duplicate titles so I checked by using the determine_dupes method. I found the dataset had 412 duplicates! But since I know I am limited by the 84 movies adaptations of books from part b, I thought it would be smart to move forward to find the overlaps between the two datasets before addressing the duplicates in the book dataset.\r\n"
   ]
  },
  {
   "cell_type": "code",
   "execution_count": 52,
   "id": "2f4ae4d0-2d96-4f74-bbfb-4da5c30a2bbd",
   "metadata": {},
   "outputs": [
    {
     "name": "stdout",
     "output_type": "stream",
     "text": [
      "412\n"
     ]
    }
   ],
   "source": [
    "#we'll call determine_dupes to check for duplicates in the list of books\n",
    "book_dupes_list = determine_dupes(updated_book_data, \"title\")\n",
    "\n",
    "print(len(book_dupes_list))\n",
    "#print(book_dupes_list)\n",
    "\n",
    "# yesh there is a lot of dulipcates but lets focus our energy to the more important duplicates that we care about"
   ]
  },
  {
   "cell_type": "markdown",
   "id": "e8bf1b61-e612-4733-8c95-6edb5775c930",
   "metadata": {},
   "source": [
    "#### Part D: Finding the overlap of between the datasets\n",
    "As mentioned in part c, the limit of data I was working with was the 164 unique number of movie adaptations. So working this list of titles as my filter, I looked through updated_book_data movie data to track which titles overlapped between the two. From this I learned there were 150 matching titles! But once I printed them out to examine I realized the problem of book data duplicates was coming back around. it needed to be dealt with but at least it's in a smaller quantity which is much more manageable to work with.\n"
   ]
  },
  {
   "cell_type": "code",
   "execution_count": 53,
   "id": "7abc0bdd-f84b-4198-bbb2-f6b513762345",
   "metadata": {},
   "outputs": [
    {
     "name": "stdout",
     "output_type": "stream",
     "text": [
      "Total number of unique movie adaptions: 164\n",
      "Total number of data that overlap between the two datasets: 150\n",
      "(THE OVERLAP DATA) Books that have movie adpations: ['Brave New World', 'Brave New World', 'Stardust', 'Atonement', 'A Farewell to Arms', 'Of Mice and Men', 'Lord of the Flies', 'The Canterbury Tales', 'Ivanhoe', 'The Canterbury Tales', 'Faust', 'Madame Bovary', 'Anna Karenina', 'The Brothers Karamazov', 'Wuthering Heights', 'Dracula', 'Hamlet', \"A Midsummer Night's Dream\", \"Bridget Jones's Diary\", 'Pygmalion', 'Emma', 'A Tale of Two Cities', 'The Portrait of a Lady', 'Mansfield Park', 'Robinson Crusoe', 'Vanity Fair', 'Charlie and the Chocolate Factory', 'A Little Princess', 'Jane Eyre', 'Emma', 'Persuasion', 'Mansfield Park', \"Gulliver's Travels\", 'Great Expectations', 'The Canterbury Tales', 'War and Peace', 'Faust', \"Aesop's Fables\", \"A Midsummer Night's Dream\", 'The Canterbury Tales', '20,000 Leagues Under the Sea', 'Hamlet', 'I Capture the Castle', 'Little Children', 'Twilight', 'The Lovely Bones', 'Brideshead Revisited', 'The Talisman', 'The Brothers Karamazov', 'No Country for Old Men', 'Great Expectations', 'War and Peace', \"Nick and Norah's Infinite Playlist\", 'The Client', 'The Rainmaker', 'Atonement', 'Atonement', 'Trainspotting', 'Paradise Lost', 'The Scarlet Letter', 'Paradise Lost', 'Robinson Crusoe', 'Frankenstein', 'Dracula', 'Sense and Sensibility', 'Wuthering Heights', 'Lord of the Flies', 'Alice in Wonderland', 'The Time Machine', 'Harry Potter and the Chamber of Secrets', 'The Adventures of Sherlock Holmes', 'Beowulf', 'The Black Dahlia', 'Dr. Jekyll and Mr. Hyde', 'The Odyssey', 'Beowulf', 'Madame Bovary', 'The Time Machine', 'Wuthering Heights', 'David Copperfield', 'Pygmalion', 'A Portrait of the Artist as a Young Man', 'The Odyssey', 'Anna Karenina', 'Paradise Lost', 'The Secret Garden', \"A Midsummer Night's Dream\", 'Hamlet', 'The Brothers Karamazov', 'Emma', 'The Last of the Mohicans', 'Lord of the Flies', 'Beowulf', 'The Firm', 'Of Mice and Men', 'Never Let Me Go', 'Crime and Punishment', 'The Sound and the Fury', 'The Red and the Black', 'Crime and Punishment', 'The Time Machine', 'The Other Boleyn Girl', 'Frankenstein', 'Benjamin Franklin', 'Romeo and Juliet', 'Dracula', \"A Midsummer Night's Dream\", 'Romeo and Juliet', 'The Count of Monte Cristo', 'The Scarlet Letter', 'Frankenstein', 'Harry Potter and the Goblet of Fire', 'Harry Potter and the Prisoner of Azkaban', 'Romeo and Juliet', 'The Three Musketeers', '20,000 Leagues Under the Sea', \"Bram Stoker's Dracula\", \"Gulliver's Travels\", 'The Odyssey', 'Anna Karenina', 'Lord of the Flies', 'Trainspotting', '20,000 Leagues Under the Sea', 'Sherlock Holmes', 'Billy Budd', 'Crime and Punishment', 'Beowulf', 'Treasure Island', 'The Secret Garden', 'A Little Princess', 'Treasure Island', 'The Secret Garden', 'The Adventures of Huckleberry Finn', \"Gulliver's Travels\", 'The Scarlet Letter', 'Lord Jim', 'The Three Musketeers', 'High Fidelity', 'The Red Badge of Courage', 'Frankenstein', 'Ivanhoe', 'Robinson Crusoe', \"Uncle Tom's Cabin\", 'Sense and Sensibility', 'Sense and Sensibility', 'The Three Musketeers', 'Cyrano de Bergerac', 'The Odyssey', 'Little Women', 'War and Peace']\n"
     ]
    }
   ],
   "source": [
    "# wanted to see how much overlap our book/movie adaption list has with our book rating list! 150 books we can use!\n",
    "print(\"Total number of unique movie adaptions:\",len(book_movie_title_list))\n",
    "\n",
    "#of the data that we know books have movie adaptationsof a book, how many of them overlap? = 150\n",
    "\n",
    "# data storage to track the number of movie adaptationstitles overlap with the book dataset\n",
    "data_overlap = []\n",
    "for n in updated_book_data:\n",
    "    if n[\"title\"] in book_movie_title_list: # when there is a match of titles, add it to the tracking list\n",
    "        data_overlap.append(n[\"title\"])\n",
    "\n",
    "print(\"Total number of data that overlap between the two datasets:\",len(data_overlap))\n",
    "print(\"(THE OVERLAP DATA) Books that have movie adpations:\", data_overlap)"
   ]
  },
  {
   "cell_type": "markdown",
   "id": "e9f46465-2f2a-4973-8294-4877e4f9a734",
   "metadata": {},
   "source": [
    "To address the duplication problem I chose to create a set of the titles which showed me I only had 83 truly unique titles left to work with."
   ]
  },
  {
   "cell_type": "code",
   "execution_count": 54,
   "id": "1a9195fb-662b-42d1-b199-071e1578b53b",
   "metadata": {},
   "outputs": [
    {
     "name": "stdout",
     "output_type": "stream",
     "text": [
      "# of unique books with movie adaptions: 83\n",
      "List of titles of unique books with movie adaptions: {\"Nick and Norah's Infinite Playlist\", \"Gulliver's Travels\", 'Mansfield Park', 'Trainspotting', 'Stardust', 'Beowulf', 'The Three Musketeers', 'I Capture the Castle', 'Pygmalion', 'The Portrait of a Lady', 'Robinson Crusoe', 'Never Let Me Go', '20,000 Leagues Under the Sea', 'Great Expectations', 'The Odyssey', 'A Portrait of the Artist as a Young Man', 'The Brothers Karamazov', 'Sherlock Holmes', 'The Client', 'The Time Machine', 'Little Women', 'Lord Jim', 'Treasure Island', 'Hamlet', 'Lord of the Flies', 'Harry Potter and the Goblet of Fire', \"Uncle Tom's Cabin\", 'The Canterbury Tales', 'High Fidelity', 'The Sound and the Fury', 'A Little Princess', 'Of Mice and Men', 'Anna Karenina', 'Romeo and Juliet', 'Faust', 'The Secret Garden', 'The Lovely Bones', 'The Firm', 'The Other Boleyn Girl', 'Little Children', \"A Midsummer Night's Dream\", 'Brave New World', 'Madame Bovary', 'The Adventures of Sherlock Holmes', 'The Black Dahlia', 'Ivanhoe', 'Emma', 'Atonement', 'The Last of the Mohicans', 'Alice in Wonderland', 'No Country for Old Men', 'A Tale of Two Cities', 'The Rainmaker', 'The Count of Monte Cristo', 'Billy Budd', 'A Farewell to Arms', 'Brideshead Revisited', 'Benjamin Franklin', 'David Copperfield', 'Wuthering Heights', 'Paradise Lost', 'The Red and the Black', \"Bridget Jones's Diary\", 'The Talisman', 'The Adventures of Huckleberry Finn', 'Vanity Fair', 'The Red Badge of Courage', 'The Scarlet Letter', \"Bram Stoker's Dracula\", 'Crime and Punishment', 'Twilight', 'Sense and Sensibility', 'Jane Eyre', 'Dracula', 'War and Peace', 'Harry Potter and the Chamber of Secrets', 'Harry Potter and the Prisoner of Azkaban', 'Persuasion', 'Charlie and the Chocolate Factory', 'Dr. Jekyll and Mr. Hyde', \"Aesop's Fables\", 'Frankenstein', 'Cyrano de Bergerac'}\n"
     ]
    }
   ],
   "source": [
    "# of the number of books we know have movie adaptions, how many have duplicate book ratings? 83\n",
    "# but we don't know if how many times one book is duplicated!\n",
    "\n",
    "# create a set of all unique books with movie adaptations\n",
    "set_data_overlap = set(data_overlap)\n",
    "print(\"# of unique books with movie adaptions:\",len(set_data_overlap))\n",
    "print(\"List of titles of unique books with movie adaptions:\",set_data_overlap)"
   ]
  },
  {
   "cell_type": "markdown",
   "id": "bf7fd27e-de1b-4657-a1f7-3cce90b7b88d",
   "metadata": {},
   "source": [
    "But unlike the previous datasets, I was unsure how many times a title was being duplicated in the book data. Because of this I found it beneficial to take the time to restructure the data to show me per title the number of times it appears in the book dataset for the 83 overlaps data points I cared about. I built a nested list of dictionaries, each key was a title and its value represented the number of times it occurred. The total number of values added up to 150, connecting to the 150 matching titles I found and there were 83 items in the list which represented the 83 unique tiles that existed."
   ]
  },
  {
   "cell_type": "code",
   "execution_count": 55,
   "id": "8590199f-6617-4080-ad0d-e9a93a44f8c7",
   "metadata": {},
   "outputs": [
    {
     "name": "stdout",
     "output_type": "stream",
     "text": [
      "Total count of unqiue books: 83\n",
      "[{'Brave New World': 2}, {'Stardust': 1}, {'Atonement': 3}, {'A Farewell to Arms': 1}, {'Of Mice and Men': 2}, {'Lord of the Flies': 4}, {'The Canterbury Tales': 4}, {'Ivanhoe': 2}, {'Faust': 2}, {'Madame Bovary': 2}, {'Anna Karenina': 3}, {'The Brothers Karamazov': 3}, {'Wuthering Heights': 3}, {'Dracula': 3}, {'Hamlet': 3}, {\"A Midsummer Night's Dream\": 4}, {\"Bridget Jones's Diary\": 1}, {'Pygmalion': 2}, {'Emma': 3}, {'A Tale of Two Cities': 1}, {'The Portrait of a Lady': 1}, {'Mansfield Park': 2}, {'Robinson Crusoe': 3}, {'Vanity Fair': 1}, {'Charlie and the Chocolate Factory': 1}, {'A Little Princess': 2}, {'Jane Eyre': 1}, {'Persuasion': 1}, {\"Gulliver's Travels\": 3}, {'Great Expectations': 2}, {'War and Peace': 3}, {\"Aesop's Fables\": 1}, {'20,000 Leagues Under the Sea': 3}, {'I Capture the Castle': 1}, {'Little Children': 1}, {'Twilight': 1}, {'The Lovely Bones': 1}, {'Brideshead Revisited': 1}, {'The Talisman': 1}, {'No Country for Old Men': 1}, {\"Nick and Norah's Infinite Playlist\": 1}, {'The Client': 1}, {'The Rainmaker': 1}, {'Trainspotting': 2}, {'Paradise Lost': 3}, {'The Scarlet Letter': 3}, {'Frankenstein': 4}, {'Sense and Sensibility': 3}, {'Alice in Wonderland': 1}, {'The Time Machine': 3}, {'Harry Potter and the Chamber of Secrets': 1}, {'The Adventures of Sherlock Holmes': 1}, {'Beowulf': 4}, {'The Black Dahlia': 1}, {'Dr. Jekyll and Mr. Hyde': 1}, {'The Odyssey': 4}, {'David Copperfield': 1}, {'A Portrait of the Artist as a Young Man': 1}, {'The Secret Garden': 3}, {'The Last of the Mohicans': 1}, {'The Firm': 1}, {'Never Let Me Go': 1}, {'Crime and Punishment': 3}, {'The Sound and the Fury': 1}, {'The Red and the Black': 1}, {'The Other Boleyn Girl': 1}, {'Benjamin Franklin': 1}, {'Romeo and Juliet': 3}, {'The Count of Monte Cristo': 1}, {'Harry Potter and the Goblet of Fire': 1}, {'Harry Potter and the Prisoner of Azkaban': 1}, {'The Three Musketeers': 3}, {\"Bram Stoker's Dracula\": 1}, {'Sherlock Holmes': 1}, {'Billy Budd': 1}, {'Treasure Island': 2}, {'The Adventures of Huckleberry Finn': 1}, {'Lord Jim': 1}, {'High Fidelity': 1}, {'The Red Badge of Courage': 1}, {\"Uncle Tom's Cabin\": 1}, {'Cyrano de Bergerac': 1}, {'Little Women': 1}]\n",
      "\n",
      "Total sum of all values: 150\n"
     ]
    }
   ],
   "source": [
    "# This code was developed with the assistance of ChatGPT (OpenAI), November 26, 2024.\n",
    "\n",
    "# create dictionary storage of 83 unqiue books as keys with a count of 0 as its value\n",
    "overlap_count_list = [{n:0} for n in set_data_overlap]\n",
    "\n",
    "#\n",
    "issue_dict = {}\n",
    "for m in data_overlap:\n",
    "    issue_dict[m] = issue_dict.get(m, 0) + 1\n",
    "\n",
    "# Convert the dictionary to a list of dictionaries\n",
    "overlap_count_list = [{k: v} for k, v in issue_dict.items()]\n",
    "\n",
    "print(\"Total count of unqiue books:\",len(overlap_count_list))\n",
    "print(overlap_count_list)\n",
    "print()\n",
    "\n",
    "# calculate the sum of the all counts the titles in the list \n",
    "#(should be equal to 150 because that is the # of overlapping titles betweenthe two datasets)\n",
    "total_sum = sum(value for item in overlap_count_list for value in item.values())\n",
    "print(\"Total sum of all values:\", total_sum)"
   ]
  },
  {
   "cell_type": "markdown",
   "id": "69488f7f-3727-45c1-b697-c163d9c2bc55",
   "metadata": {},
   "source": [
    "#### Part E: Cleaning up the new dataset (with book and movie ratings)\n",
    "Now that I learned my dataset of book/movie titles, book ratings, and movie ratings is going to be 83 data points, I could pivot to start building it out. Similarly to how I handled the duplicates of the movie adaptationsratings, I decided to make an assumption that all books with the same title are the same novel and average their ratings. As I covered in previous parts I understand that this has its limitations. It doesn't account for booking being in different languages or really account for any other context related to the existence of the rating. Because of this, it's very important to keep this in mind later as I start to analyze the data.\n",
    "\n",
    "As I started trying to build the new combined dataset I realized there were issues with the book dataset. Some entries had gaps, such as missing ratings, which was breakin my code. Because of this I decided to add a part to my for loop to show me which data points were causing the problem. I learned the books’ ‘The Last of the Mohicans’ and ‘Crime and Punishment’ had at least one entry missing a rating. Because ‘The Last of the Mohicans’ only appeared once in the dataset, this meant the total number of datapoints would drop to 82. But because ‘Crime and Punishment’ appeared 3 times in the dataset, there is still a chance 2 of the copies had ratings while 1 didn’t. Because of this I wanted to note my uncertainty about the size of the final dataset I’d be working with.\n"
   ]
  },
  {
   "cell_type": "code",
   "execution_count": 56,
   "id": "d49d28bf-facf-4bc7-8486-ee0befbedb09",
   "metadata": {},
   "outputs": [
    {
     "name": "stdout",
     "output_type": "stream",
     "text": [
      "book with no rating = The Last of the Mohicans\n",
      "# of times title appears in dataset: 1\n",
      "\n",
      "book with no rating = Crime and Punishment\n",
      "# of times title appears in dataset: 3\n",
      "\n",
      "length of the updated book rating list: 83\n"
     ]
    }
   ],
   "source": [
    "# time to make assumptions....\n",
    "# for the sake of this scale of this project... I'm going to make an another assuption that the duplicates are of the same book.....\n",
    "# this doesn't accomidate for time.... or if books are translated in to another langueae...\n",
    "# I'm going to treat it like the same novel and average the rating.....\n",
    "\n",
    "# correct the book rating to accomidate for dulpicates joint data strucutre\n",
    "# learned there are 2 books that don't have a rating which means we can't use it\n",
    "\n",
    "# update data strorage name to be more relvant to this section\n",
    "updated_book_rating_list = overlap_count_list\n",
    "\n",
    "# look through each unique title in the list with counts of number of duplicates for each\n",
    "for item in updated_book_rating_list:\n",
    "    # reset tracker variable for each item in the list\n",
    "    total_book_rating = 0.0\n",
    "    new_average_book_rating = 0.0\n",
    "    \n",
    "    for key in item.keys():  # Extract keys from the dictionary\n",
    "        for book in updated_book_data: # look at each book in the full cleaned book dataset\n",
    "            # check if the title in the full book data matches a title in our overlap data\n",
    "            if book[\"title\"] == key:\n",
    "                if isinstance(book[\"average_rating\"], float): # check if the book rating exists \n",
    "                    total_book_rating += book[\"average_rating\"] \n",
    "                else: # otherwise the book doesn't have a rating\n",
    "                    print(\"book with no rating =\",book[\"title\"])\n",
    "                    print(\"# of times title appears in dataset:\",item[book[\"title\"]])\n",
    "                    print()\n",
    "        \n",
    "       # Calculate the new average\n",
    "        if total_book_rating != 0.0:  # Avoid division by zero\n",
    "            new_average_book_rating = total_book_rating / item[key]\n",
    "        else:\n",
    "            new_average_book_rating = 0.0  # Handle cases with zero count\n",
    "    # reset the item's average before updating it\n",
    "    item[\"average_rating\"] = 0\n",
    "    item[\"average_rating\"] = new_average_book_rating\n",
    "        \n",
    "# double check we didn't miss any values        \n",
    "print(\"length of the updated book rating list:\",len(updated_book_rating_list))"
   ]
  },
  {
   "cell_type": "markdown",
   "id": "50049f5a-5f4c-450a-8671-06f6f1cd9cf8",
   "metadata": {},
   "source": [
    "Finally I started to build the new dataset with the book/movie titles, book ratings, and movie ratings! By the end I learned my dataset was 82 entries long, which confirmed that the ‘Crime and Punishment’ had at least 1 entry with a book title which allowed it to be included in the final dataset."
   ]
  },
  {
   "cell_type": "code",
   "execution_count": 57,
   "id": "81ec1272-bb6f-4252-8e03-80855e49d3e3",
   "metadata": {},
   "outputs": [
    {
     "name": "stdout",
     "output_type": "stream",
     "text": [
      "Checking the formatting: {'Title': '20,000 Leagues Under the Sea', 'IMDb Rating': 7.2, 'Book Rating': 3.84}\n",
      "Checking the length: 82\n"
     ]
    }
   ],
   "source": [
    "# create a joint new data structure and add a dictionary with a title, movie rating, and book rating\n",
    "\n",
    "# creating a new data storage\n",
    "book_movie_data = []\n",
    "\n",
    "# look through each title in the # of unique books with movie adaptations(these contain the movie ratings)\n",
    "for item in unique_book_movie_adaptions_data:\n",
    "    \n",
    "    # look through each book in the list of books that overlap with the movie adaptationslist (these contain the book ratings)\n",
    "    for book in updated_book_rating_list:\n",
    "        for key in book.keys():\n",
    "            \n",
    "            # checks if the book/movie title matches and that there is data on the book rating\n",
    "            if key == item[\"Title\"] and book[\"average_rating\"] > 0:\n",
    "                # adds to the dataset the title, movie rating, and book rating)\n",
    "                book_movie_data.append(\n",
    "                    {'Title' : item[\"Title\"],\n",
    "                     'IMDb Rating': item[\"IMDb Rating\"],\n",
    "                     'Book Rating' : book[\"average_rating\"] \n",
    "                    }\n",
    "                )\n",
    "print(\"Checking the formatting:\",book_movie_data[0])\n",
    "print(\"Checking the length:\",len(book_movie_data))"
   ]
  },
  {
   "cell_type": "markdown",
   "id": "371e6ebb-40d9-436e-a534-b8366d7f0a5c",
   "metadata": {},
   "source": [
    "Now I could finally address the scaling difference between the movie and the book ratings. While I considered both options of scaling, I chose scaling the booking ratings (out of 5) would be easiest to scale to the movie ratings (out of 10). Because of this I went through the dataset and adjusted book rating. I also chose to include other information about the ratings, such as ‘Rating Difference’ (calculated by subtracting the movie rating from the book rating. So positive numbers represent high book ratings, negative numbers represent higher movie ratings, and 0 represent a similar rating for both) and ‘Combined Average Rating’."
   ]
  },
  {
   "cell_type": "code",
   "execution_count": 58,
   "id": "c4876f60-48eb-46f4-b831-5048790dd6cb",
   "metadata": {},
   "outputs": [
    {
     "name": "stdout",
     "output_type": "stream",
     "text": [
      "Checking the formatting: {'Title': '20,000 Leagues Under the Sea', 'IMDb Rating': 7.2, 'Book Rating': 7.68, 'Rating Difference': 0.47999999999999954, 'Combined Average Rating': 7.4399999999999995}\n",
      "Checking the length: 82\n"
     ]
    }
   ],
   "source": [
    "# make the ratings be on the same scale\n",
    "scaled_book_movie_data = []\n",
    "\n",
    "# look through the new datastructure that has the joint ratings saved\n",
    "for item in book_movie_data:\n",
    "    updated_rating = item['Book Rating'] * 2 # double the ratings on the book ratings 5pt scale to match the movie rating's 10pt scale\n",
    "    average_rating = (updated_rating + item[\"IMDb Rating\"]) / 2 # calcuate the average of the movie and book ratings (for potential use later)\n",
    "    # add updated information to the new scaled joint data structure\n",
    "    scaled_book_movie_data.append(\n",
    "        {'Title' : item[\"Title\"],\n",
    "         'IMDb Rating': item[\"IMDb Rating\"],\n",
    "         'Book Rating' : updated_rating,\n",
    "         'Rating Difference' : updated_rating-item[\"IMDb Rating\"], # difference = books - movies\n",
    "         'Combined Average Rating' : average_rating # could be useful in analysis\n",
    "        }\n",
    "    )\n",
    "\n",
    "print(\"Checking the formatting:\",scaled_book_movie_data[0])\n",
    "print(\"Checking the length:\",len(scaled_book_movie_data))\n",
    "\n",
    "# to view the full dataset uncomment the next line to print it here\n",
    "# print(\"Full book and movie adaption rating dataset:\",scaled_book_movie_data)"
   ]
  },
  {
   "cell_type": "markdown",
   "id": "70048c0b-8d6c-4c22-bf08-f0c96d06691d",
   "metadata": {},
   "source": [
    "FINALLY, all the data reorganization is done! I next needed to reformat my data structure to be a list of lists so that it could properly be saved as a CSV file. I used the [GeeksForGeeks](https://www.geeksforgeeks.org/python-convert-list-of-dictionaries-to-list-of-lists/) to help me accomplish this.  The file **‘scaled_book_movie_data.csv’** within this folder contains the dataset I created to perform the next steps of the process! Check out the README for more information on this!\n"
   ]
  },
  {
   "cell_type": "code",
   "execution_count": 59,
   "id": "47b0a832-ccf2-40d0-9a50-58c86831d2a4",
   "metadata": {},
   "outputs": [],
   "source": [
    "# work to reformate the storage dictionary\n",
    "# this code was written with the help of GeeksForGeeks website: https://www.geeksforgeeks.org/python-convert-list-of-dictionaries-to-list-of-lists/\n",
    "nested_list = [list(idx.values()) for idx in scaled_book_movie_data ]\n"
   ]
  },
  {
   "cell_type": "code",
   "execution_count": 60,
   "id": "bcdde9fb-c77f-477c-99c4-b30c5c24257e",
   "metadata": {},
   "outputs": [],
   "source": [
    "# method created from HCDE 410 A2 assignment framework and modified for this assignment \n",
    "\n",
    "#create a cvs file to store this new dataset\n",
    "import csv\n",
    "with open('scaled_book_movie_data.csv', 'w', encoding='utf-8') as f:\n",
    "    writer = csv.writer(f)\n",
    "    #write a header row\n",
    "    writer.writerow(('Title', \n",
    "                     'IMDb Rating',\n",
    "                     'Book Rating',\n",
    "                     'Rating Difference',\n",
    "                     'Combined Average Rating'\n",
    "                    ))\n",
    "    \n",
    "    for i in nested_list:\n",
    "        writer.writerow((i[0], i[1], i[2], i[3], i[4]))"
   ]
  },
  {
   "cell_type": "markdown",
   "id": "435b26ba-bc02-4c69-993b-d28b73efff66",
   "metadata": {},
   "source": [
    "### Step 2: Visualization  |  Represent data graphically\n",
    "In this step I utilize the [Plotly](https://plotly.com/python/line-and-scatter/) graph objects to create a scatter plot of the book ratings compared to the movie ratings. I utilized ChatGPT to help make my plot look prettier and easier to understand. When you hover over a datapoint you can see the title of the book/movie adaption, book rating, and movie rating.\n",
    "\n",
    "I chose to graph 2 lines among the data points. The blue line represents the trendline of the data. I thought this could help better illustrate if there was a trend that one type of rating was higher or more frequent than the other. I also chose to include the black dashed line which represents the x=y line. This line represents if both book and moving ratings are equal. By having this line present I also thought it would help determine if the data was skewed in a certain direction or not. \n",
    "\n",
    "To build on this, I chose to add the color scale on the right to help people determine what the datapoint meant. The color scale represents the rating difference between books and movies. Positive differences represent higher book ratings and are blue. Negative differences represent higher movie ratings and are red. The whiter a point is the smaller the difference is between the book and movie rating which makes it more neutral. As you can tell the closer to the x=y line a point is, the more white it appears which means they both represent the same idea in two different ways.\n",
    "\n",
    "An IMPORTANT thing to note with this step is that I decided to graph the data two ways but **I will only be using one to move forward with:**\n",
    "- (NOT USING TO ANALYZE) Scatter Plot 1: x-axis = movie ratings / y-axis = book ratings\n",
    "- **(USING TO ANALYZE) Scatter Plot 2: x-axis = book ratings / y-axis = movie ratings**\n",
    "\n",
    "In scatter plot 1 the trendline of the data intersects with the x=y and I had no idea what that meant. But when I looked at scatter plot 2 this overlap didn’t occur. Because I understood scatter plot 2 more I chose to move forward with analyzing that one because of the time limitation of this project.\n",
    "\n",
    "##### Summary of Assumptions:\n",
    "- Having book ratings be on the x-axis and movie ratings be on the y-axis is the same as having movie ratings on the x-axis and book ratings be on the y-axis….\n"
   ]
  },
  {
   "cell_type": "markdown",
   "id": "f7771d24-266d-4d90-927d-a8a2663728d3",
   "metadata": {},
   "source": [
    "#### (NOT USING TO ANALYZE) Scatter Plot 1: x-axis = movie ratings / y-axis = book ratings"
   ]
  },
  {
   "cell_type": "code",
   "execution_count": 61,
   "id": "f48e8c31-ac97-41ba-8175-1ab024d13659",
   "metadata": {},
   "outputs": [
    {
     "data": {
      "application/vnd.plotly.v1+json": {
       "config": {
        "plotlyServerURL": "https://plot.ly"
       },
       "data": [
        {
         "hovertemplate": "Book: %{text}<br>Movie Rating: %{x}<br>Book Rating: %{y}",
         "marker": {
          "cmid": 0,
          "color": [
           0.4799999999999995,
           1.4800000000000004,
           0,
           0.3199999999999994,
           1.7999999999999998,
           -0.6399999999999997,
           0.5,
           1.0199999999999996,
           3.0200000000000005,
           1.2199999999999998,
           0.6199999999999992,
           0.9400000000000004,
           1.34,
           1.5199999999999996,
           0.9500000000000002,
           -0.08,
           0.1799999999999997,
           0.3199999999999994,
           1.9400000000000004,
           0.7800000000000002,
           2.76,
           2.1,
           0.54,
           -0.1199999999999992,
           0.7000000000000011,
           1.62,
           0.3199999999999994,
           1.4500000000000002,
           1.34,
           -0.1199999999999992,
           1.4799999999999995,
           0.5899999999999999,
           1.4800000000000004,
           0.4266666666666667,
           1.5200000000000005,
           0.96,
           1.7199999999999998,
           0.5800000000000001,
           0.2400000000000002,
           -0.1399999999999996,
           3.06,
           -1.58,
           0.9799999999999996,
           2.8199999999999994,
           0.1000000000000005,
           1.42,
           -0.3949999999999996,
           0.3600000000000003,
           1.88,
           0.9399999999999996,
           0.5599999999999996,
           0.4400000000000004,
           1.2000000000000002,
           1.0999999999999996,
           1.2800000000000002,
           0.6600000000000001,
           1.3800000000000008,
           0.7000000000000002,
           0.7800000000000011,
           0.8400000000000007,
           1.0733333333333333,
           1.42,
           1.3999999999999997,
           1.1999999999999993,
           0.2599999999999998,
           1.3999999999999997,
           1.9000000000000004,
           -0.2599999999999998,
           0.7199999999999998,
           -0.0099999999999997,
           0.92,
           1.0199999999999996,
           0.4799999999999995,
           0.0600000000000005,
           -0.0199999999999995,
           0.9800000000000004,
           0.5200000000000005,
           1.4000000000000004,
           0.5600000000000005,
           1.1700000000000008,
           1.3599999999999994,
           0.8699999999999992
          ],
          "colorbar": {
           "title": {
            "text": "Rating Difference (books = +, movies = -) "
           }
          },
          "colorscale": [
           [
            0,
            "red"
           ],
           [
            0.5,
            "white"
           ],
           [
            1,
            "blue"
           ]
          ],
          "showscale": true
         },
         "mode": "markers",
         "name": "Ratings",
         "text": [
          "20,000 Leagues Under the Sea",
          "The Scarlet Letter",
          "Dr. Jekyll and Mr. Hyde",
          "Gulliver's Travels",
          "A Farewell to Arms",
          "The Red Badge of Courage",
          "The Odyssey",
          "A Portrait of the Artist as a Young Man",
          "Paradise Lost",
          "Great Expectations",
          "Cyrano de Bergerac",
          "The Canterbury Tales",
          "The Portrait of a Lady",
          "Uncle Tom's Cabin",
          "Treasure Island",
          "The Adventures of Sherlock Holmes",
          "Wuthering Heights",
          "Of Mice and Men",
          "The Brothers Karamazov",
          "The Count of Monte Cristo",
          "Brave New World",
          "Aesop's Fables",
          "Lord Jim",
          "Benjamin Franklin",
          "The Three Musketeers",
          "Madame Bovary",
          "Hamlet",
          "Pygmalion",
          "Robinson Crusoe",
          "Romeo and Juliet",
          "A Midsummer Night's Dream",
          "Beowulf",
          "Anna Karenina",
          "The Time Machine",
          "War and Peace",
          "The Talisman",
          "Alice in Wonderland",
          "Dracula",
          "The Red and the Black",
          "A Tale of Two Cities",
          "Faust",
          "Billy Budd",
          "Ivanhoe",
          "The Sound and the Fury",
          "Crime and Punishment",
          "The Adventures of Huckleberry Finn",
          "Frankenstein",
          "David Copperfield",
          "Twilight",
          "Lord of the Flies",
          "Persuasion",
          "Sense and Sensibility",
          "I Capture the Castle",
          "The Firm",
          "The Client",
          "The Rainmaker",
          "Emma",
          "Mansfield Park",
          "A Little Princess",
          "Nick and Norah's Infinite Playlist",
          "The Secret Garden",
          "Harry Potter and the Chamber of Secrets",
          "Harry Potter and the Goblet of Fire",
          "Harry Potter and the Prisoner of Azkaban",
          "Bram Stoker's Dracula",
          "The Other Boleyn Girl",
          "The Black Dahlia",
          "Little Children",
          "Bridget Jones's Diary",
          "Trainspotting",
          "Sherlock Holmes",
          "Charlie and the Chocolate Factory",
          "High Fidelity",
          "No Country for Old Men",
          "Atonement",
          "The Lovely Bones",
          "Never Let Me Go",
          "Brideshead Revisited",
          "Stardust",
          "Jane Eyre",
          "Vanity Fair",
          "Little Women"
         ],
         "type": "scatter",
         "x": [
          7.2,
          5.3,
          7.6,
          6.9,
          5.8,
          7.1,
          7,
          6.2,
          4.6,
          6.3,
          7.5,
          6.3,
          6.2,
          6.2,
          7,
          8.7,
          7.5,
          7.4,
          6.7,
          7.7,
          5.2,
          6,
          6.7,
          8.1,
          7.1,
          5.7,
          7.7,
          6.7,
          6,
          7.6,
          6.4,
          6.3,
          6.6,
          7.5,
          6.7,
          7.3,
          6.3,
          7.4,
          7.5,
          7.8,
          4.4,
          7.8,
          6.7,
          4.9,
          5.5,
          6.2,
          7.8,
          7.6,
          5.3,
          6.4,
          7.7,
          7.7,
          6.8,
          6.9,
          6.7,
          7.2,
          6.6,
          7,
          7.6,
          6.6,
          7.3,
          7.4,
          7.7,
          7.9,
          7.4,
          6.7,
          5.6,
          7.5,
          6.8,
          8.1,
          7.6,
          6.7,
          7.4,
          8.2,
          7.8,
          6.6,
          7.1,
          6.6,
          7.6,
          7.05,
          6.2,
          7.25
         ],
         "y": [
          7.68,
          6.78,
          7.6,
          7.22,
          7.6,
          6.46,
          7.5,
          7.22,
          7.62,
          7.52,
          8.12,
          7.24,
          7.54,
          7.72,
          7.95,
          8.62,
          7.68,
          7.72,
          8.64,
          8.48,
          7.96,
          8.1,
          7.24,
          7.98,
          7.800000000000001,
          7.32,
          8.02,
          8.15,
          7.34,
          7.48,
          7.88,
          6.89,
          8.08,
          7.926666666666667,
          8.22,
          8.26,
          8.02,
          7.98,
          7.74,
          7.66,
          7.46,
          6.22,
          7.68,
          7.72,
          5.6000000000000005,
          7.62,
          7.405,
          7.96,
          7.18,
          7.34,
          8.26,
          8.14,
          8,
          8,
          7.98,
          7.86,
          7.98,
          7.7,
          8.38,
          7.44,
          8.373333333333333,
          8.82,
          9.1,
          9.1,
          7.66,
          8.1,
          7.5,
          7.24,
          7.52,
          8.09,
          8.52,
          7.72,
          7.88,
          8.26,
          7.78,
          7.58,
          7.62,
          8,
          8.16,
          8.22,
          7.56,
          8.12
         ]
        },
        {
         "line": {
          "color": "black",
          "width": 2
         },
         "mode": "lines",
         "name": "Trendline",
         "type": "scatter",
         "x": [
          4.4,
          8.7
         ],
         "y": [
          7.110217064010403,
          8.270882235178126
         ]
        },
        {
         "line": {
          "color": "blue",
          "dash": "dash",
          "width": 2
         },
         "mode": "lines",
         "name": "y = x Line",
         "type": "scatter",
         "x": [
          5.6000000000000005,
          8.7
         ],
         "y": [
          5.6000000000000005,
          8.7
         ]
        }
       ],
       "layout": {
        "height": 700,
        "legend": {
         "font": {
          "size": 12
         },
         "title": {
          "text": "Key"
         },
         "x": 1,
         "xanchor": "right",
         "y": 1
        },
        "plot_bgcolor": "#dbdbd9",
        "template": {
         "data": {
          "bar": [
           {
            "error_x": {
             "color": "#2a3f5f"
            },
            "error_y": {
             "color": "#2a3f5f"
            },
            "marker": {
             "line": {
              "color": "#E5ECF6",
              "width": 0.5
             },
             "pattern": {
              "fillmode": "overlay",
              "size": 10,
              "solidity": 0.2
             }
            },
            "type": "bar"
           }
          ],
          "barpolar": [
           {
            "marker": {
             "line": {
              "color": "#E5ECF6",
              "width": 0.5
             },
             "pattern": {
              "fillmode": "overlay",
              "size": 10,
              "solidity": 0.2
             }
            },
            "type": "barpolar"
           }
          ],
          "carpet": [
           {
            "aaxis": {
             "endlinecolor": "#2a3f5f",
             "gridcolor": "white",
             "linecolor": "white",
             "minorgridcolor": "white",
             "startlinecolor": "#2a3f5f"
            },
            "baxis": {
             "endlinecolor": "#2a3f5f",
             "gridcolor": "white",
             "linecolor": "white",
             "minorgridcolor": "white",
             "startlinecolor": "#2a3f5f"
            },
            "type": "carpet"
           }
          ],
          "choropleth": [
           {
            "colorbar": {
             "outlinewidth": 0,
             "ticks": ""
            },
            "type": "choropleth"
           }
          ],
          "contour": [
           {
            "colorbar": {
             "outlinewidth": 0,
             "ticks": ""
            },
            "colorscale": [
             [
              0,
              "#0d0887"
             ],
             [
              0.1111111111111111,
              "#46039f"
             ],
             [
              0.2222222222222222,
              "#7201a8"
             ],
             [
              0.3333333333333333,
              "#9c179e"
             ],
             [
              0.4444444444444444,
              "#bd3786"
             ],
             [
              0.5555555555555556,
              "#d8576b"
             ],
             [
              0.6666666666666666,
              "#ed7953"
             ],
             [
              0.7777777777777778,
              "#fb9f3a"
             ],
             [
              0.8888888888888888,
              "#fdca26"
             ],
             [
              1,
              "#f0f921"
             ]
            ],
            "type": "contour"
           }
          ],
          "contourcarpet": [
           {
            "colorbar": {
             "outlinewidth": 0,
             "ticks": ""
            },
            "type": "contourcarpet"
           }
          ],
          "heatmap": [
           {
            "colorbar": {
             "outlinewidth": 0,
             "ticks": ""
            },
            "colorscale": [
             [
              0,
              "#0d0887"
             ],
             [
              0.1111111111111111,
              "#46039f"
             ],
             [
              0.2222222222222222,
              "#7201a8"
             ],
             [
              0.3333333333333333,
              "#9c179e"
             ],
             [
              0.4444444444444444,
              "#bd3786"
             ],
             [
              0.5555555555555556,
              "#d8576b"
             ],
             [
              0.6666666666666666,
              "#ed7953"
             ],
             [
              0.7777777777777778,
              "#fb9f3a"
             ],
             [
              0.8888888888888888,
              "#fdca26"
             ],
             [
              1,
              "#f0f921"
             ]
            ],
            "type": "heatmap"
           }
          ],
          "heatmapgl": [
           {
            "colorbar": {
             "outlinewidth": 0,
             "ticks": ""
            },
            "colorscale": [
             [
              0,
              "#0d0887"
             ],
             [
              0.1111111111111111,
              "#46039f"
             ],
             [
              0.2222222222222222,
              "#7201a8"
             ],
             [
              0.3333333333333333,
              "#9c179e"
             ],
             [
              0.4444444444444444,
              "#bd3786"
             ],
             [
              0.5555555555555556,
              "#d8576b"
             ],
             [
              0.6666666666666666,
              "#ed7953"
             ],
             [
              0.7777777777777778,
              "#fb9f3a"
             ],
             [
              0.8888888888888888,
              "#fdca26"
             ],
             [
              1,
              "#f0f921"
             ]
            ],
            "type": "heatmapgl"
           }
          ],
          "histogram": [
           {
            "marker": {
             "pattern": {
              "fillmode": "overlay",
              "size": 10,
              "solidity": 0.2
             }
            },
            "type": "histogram"
           }
          ],
          "histogram2d": [
           {
            "colorbar": {
             "outlinewidth": 0,
             "ticks": ""
            },
            "colorscale": [
             [
              0,
              "#0d0887"
             ],
             [
              0.1111111111111111,
              "#46039f"
             ],
             [
              0.2222222222222222,
              "#7201a8"
             ],
             [
              0.3333333333333333,
              "#9c179e"
             ],
             [
              0.4444444444444444,
              "#bd3786"
             ],
             [
              0.5555555555555556,
              "#d8576b"
             ],
             [
              0.6666666666666666,
              "#ed7953"
             ],
             [
              0.7777777777777778,
              "#fb9f3a"
             ],
             [
              0.8888888888888888,
              "#fdca26"
             ],
             [
              1,
              "#f0f921"
             ]
            ],
            "type": "histogram2d"
           }
          ],
          "histogram2dcontour": [
           {
            "colorbar": {
             "outlinewidth": 0,
             "ticks": ""
            },
            "colorscale": [
             [
              0,
              "#0d0887"
             ],
             [
              0.1111111111111111,
              "#46039f"
             ],
             [
              0.2222222222222222,
              "#7201a8"
             ],
             [
              0.3333333333333333,
              "#9c179e"
             ],
             [
              0.4444444444444444,
              "#bd3786"
             ],
             [
              0.5555555555555556,
              "#d8576b"
             ],
             [
              0.6666666666666666,
              "#ed7953"
             ],
             [
              0.7777777777777778,
              "#fb9f3a"
             ],
             [
              0.8888888888888888,
              "#fdca26"
             ],
             [
              1,
              "#f0f921"
             ]
            ],
            "type": "histogram2dcontour"
           }
          ],
          "mesh3d": [
           {
            "colorbar": {
             "outlinewidth": 0,
             "ticks": ""
            },
            "type": "mesh3d"
           }
          ],
          "parcoords": [
           {
            "line": {
             "colorbar": {
              "outlinewidth": 0,
              "ticks": ""
             }
            },
            "type": "parcoords"
           }
          ],
          "pie": [
           {
            "automargin": true,
            "type": "pie"
           }
          ],
          "scatter": [
           {
            "fillpattern": {
             "fillmode": "overlay",
             "size": 10,
             "solidity": 0.2
            },
            "type": "scatter"
           }
          ],
          "scatter3d": [
           {
            "line": {
             "colorbar": {
              "outlinewidth": 0,
              "ticks": ""
             }
            },
            "marker": {
             "colorbar": {
              "outlinewidth": 0,
              "ticks": ""
             }
            },
            "type": "scatter3d"
           }
          ],
          "scattercarpet": [
           {
            "marker": {
             "colorbar": {
              "outlinewidth": 0,
              "ticks": ""
             }
            },
            "type": "scattercarpet"
           }
          ],
          "scattergeo": [
           {
            "marker": {
             "colorbar": {
              "outlinewidth": 0,
              "ticks": ""
             }
            },
            "type": "scattergeo"
           }
          ],
          "scattergl": [
           {
            "marker": {
             "colorbar": {
              "outlinewidth": 0,
              "ticks": ""
             }
            },
            "type": "scattergl"
           }
          ],
          "scattermapbox": [
           {
            "marker": {
             "colorbar": {
              "outlinewidth": 0,
              "ticks": ""
             }
            },
            "type": "scattermapbox"
           }
          ],
          "scatterpolar": [
           {
            "marker": {
             "colorbar": {
              "outlinewidth": 0,
              "ticks": ""
             }
            },
            "type": "scatterpolar"
           }
          ],
          "scatterpolargl": [
           {
            "marker": {
             "colorbar": {
              "outlinewidth": 0,
              "ticks": ""
             }
            },
            "type": "scatterpolargl"
           }
          ],
          "scatterternary": [
           {
            "marker": {
             "colorbar": {
              "outlinewidth": 0,
              "ticks": ""
             }
            },
            "type": "scatterternary"
           }
          ],
          "surface": [
           {
            "colorbar": {
             "outlinewidth": 0,
             "ticks": ""
            },
            "colorscale": [
             [
              0,
              "#0d0887"
             ],
             [
              0.1111111111111111,
              "#46039f"
             ],
             [
              0.2222222222222222,
              "#7201a8"
             ],
             [
              0.3333333333333333,
              "#9c179e"
             ],
             [
              0.4444444444444444,
              "#bd3786"
             ],
             [
              0.5555555555555556,
              "#d8576b"
             ],
             [
              0.6666666666666666,
              "#ed7953"
             ],
             [
              0.7777777777777778,
              "#fb9f3a"
             ],
             [
              0.8888888888888888,
              "#fdca26"
             ],
             [
              1,
              "#f0f921"
             ]
            ],
            "type": "surface"
           }
          ],
          "table": [
           {
            "cells": {
             "fill": {
              "color": "#EBF0F8"
             },
             "line": {
              "color": "white"
             }
            },
            "header": {
             "fill": {
              "color": "#C8D4E3"
             },
             "line": {
              "color": "white"
             }
            },
            "type": "table"
           }
          ]
         },
         "layout": {
          "annotationdefaults": {
           "arrowcolor": "#2a3f5f",
           "arrowhead": 0,
           "arrowwidth": 1
          },
          "autotypenumbers": "strict",
          "coloraxis": {
           "colorbar": {
            "outlinewidth": 0,
            "ticks": ""
           }
          },
          "colorscale": {
           "diverging": [
            [
             0,
             "#8e0152"
            ],
            [
             0.1,
             "#c51b7d"
            ],
            [
             0.2,
             "#de77ae"
            ],
            [
             0.3,
             "#f1b6da"
            ],
            [
             0.4,
             "#fde0ef"
            ],
            [
             0.5,
             "#f7f7f7"
            ],
            [
             0.6,
             "#e6f5d0"
            ],
            [
             0.7,
             "#b8e186"
            ],
            [
             0.8,
             "#7fbc41"
            ],
            [
             0.9,
             "#4d9221"
            ],
            [
             1,
             "#276419"
            ]
           ],
           "sequential": [
            [
             0,
             "#0d0887"
            ],
            [
             0.1111111111111111,
             "#46039f"
            ],
            [
             0.2222222222222222,
             "#7201a8"
            ],
            [
             0.3333333333333333,
             "#9c179e"
            ],
            [
             0.4444444444444444,
             "#bd3786"
            ],
            [
             0.5555555555555556,
             "#d8576b"
            ],
            [
             0.6666666666666666,
             "#ed7953"
            ],
            [
             0.7777777777777778,
             "#fb9f3a"
            ],
            [
             0.8888888888888888,
             "#fdca26"
            ],
            [
             1,
             "#f0f921"
            ]
           ],
           "sequentialminus": [
            [
             0,
             "#0d0887"
            ],
            [
             0.1111111111111111,
             "#46039f"
            ],
            [
             0.2222222222222222,
             "#7201a8"
            ],
            [
             0.3333333333333333,
             "#9c179e"
            ],
            [
             0.4444444444444444,
             "#bd3786"
            ],
            [
             0.5555555555555556,
             "#d8576b"
            ],
            [
             0.6666666666666666,
             "#ed7953"
            ],
            [
             0.7777777777777778,
             "#fb9f3a"
            ],
            [
             0.8888888888888888,
             "#fdca26"
            ],
            [
             1,
             "#f0f921"
            ]
           ]
          },
          "colorway": [
           "#636efa",
           "#EF553B",
           "#00cc96",
           "#ab63fa",
           "#FFA15A",
           "#19d3f3",
           "#FF6692",
           "#B6E880",
           "#FF97FF",
           "#FECB52"
          ],
          "font": {
           "color": "#2a3f5f"
          },
          "geo": {
           "bgcolor": "white",
           "lakecolor": "white",
           "landcolor": "#E5ECF6",
           "showlakes": true,
           "showland": true,
           "subunitcolor": "white"
          },
          "hoverlabel": {
           "align": "left"
          },
          "hovermode": "closest",
          "mapbox": {
           "style": "light"
          },
          "paper_bgcolor": "white",
          "plot_bgcolor": "#E5ECF6",
          "polar": {
           "angularaxis": {
            "gridcolor": "white",
            "linecolor": "white",
            "ticks": ""
           },
           "bgcolor": "#E5ECF6",
           "radialaxis": {
            "gridcolor": "white",
            "linecolor": "white",
            "ticks": ""
           }
          },
          "scene": {
           "xaxis": {
            "backgroundcolor": "#E5ECF6",
            "gridcolor": "white",
            "gridwidth": 2,
            "linecolor": "white",
            "showbackground": true,
            "ticks": "",
            "zerolinecolor": "white"
           },
           "yaxis": {
            "backgroundcolor": "#E5ECF6",
            "gridcolor": "white",
            "gridwidth": 2,
            "linecolor": "white",
            "showbackground": true,
            "ticks": "",
            "zerolinecolor": "white"
           },
           "zaxis": {
            "backgroundcolor": "#E5ECF6",
            "gridcolor": "white",
            "gridwidth": 2,
            "linecolor": "white",
            "showbackground": true,
            "ticks": "",
            "zerolinecolor": "white"
           }
          },
          "shapedefaults": {
           "line": {
            "color": "#2a3f5f"
           }
          },
          "ternary": {
           "aaxis": {
            "gridcolor": "white",
            "linecolor": "white",
            "ticks": ""
           },
           "baxis": {
            "gridcolor": "white",
            "linecolor": "white",
            "ticks": ""
           },
           "bgcolor": "#E5ECF6",
           "caxis": {
            "gridcolor": "white",
            "linecolor": "white",
            "ticks": ""
           }
          },
          "title": {
           "x": 0.05
          },
          "xaxis": {
           "automargin": true,
           "gridcolor": "white",
           "linecolor": "white",
           "ticks": "",
           "title": {
            "standoff": 15
           },
           "zerolinecolor": "white",
           "zerolinewidth": 2
          },
          "yaxis": {
           "automargin": true,
           "gridcolor": "white",
           "linecolor": "white",
           "ticks": "",
           "title": {
            "standoff": 15
           },
           "zerolinecolor": "white",
           "zerolinewidth": 2
          }
         }
        },
        "title": {
         "text": "(NOT USING)Comparing Book and Movie Adaptation Ratings"
        },
        "width": 1000,
        "xaxis": {
         "autorange": true,
         "range": [
          4.128296703296703,
          8.971703296703296
         ],
         "title": {
          "text": "IMDb Rating"
         },
         "type": "linear"
        },
        "yaxis": {
         "autorange": true,
         "range": [
          5.373887079261673,
          9.326112920738327
         ],
         "title": {
          "text": "Book Rating"
         },
         "type": "linear"
        }
       }
      },
      "image/png": "[encoded data removed]",
      "text/html": [
       "<div>                            <div id=\"88396730-df71-4308-b971-4b4ca209c8c1\" class=\"plotly-graph-div\" style=\"height:700px; width:1000px;\"></div>            <script type=\"text/javascript\">                require([\"plotly\"], function(Plotly) {                    window.PLOTLYENV=window.PLOTLYENV || {};                                    if (document.getElementById(\"88396730-df71-4308-b971-4b4ca209c8c1\")) {                    Plotly.newPlot(                        \"88396730-df71-4308-b971-4b4ca209c8c1\",                        [{\"hovertemplate\":\"Book: %{text}<br>Movie Rating: %{x}<br>Book Rating: %{y}\",\"marker\":{\"cmid\":0,\"color\":[0.4799999999999995,1.4800000000000004,0.0,0.3199999999999994,1.7999999999999998,-0.6399999999999997,0.5,1.0199999999999996,3.0200000000000005,1.2199999999999998,0.6199999999999992,0.9400000000000004,1.34,1.5199999999999996,0.9500000000000002,-0.08,0.1799999999999997,0.3199999999999994,1.9400000000000004,0.7800000000000002,2.76,2.1,0.54,-0.1199999999999992,0.7000000000000011,1.62,0.3199999999999994,1.4500000000000002,1.34,-0.1199999999999992,1.4799999999999995,0.5899999999999999,1.4800000000000004,0.4266666666666667,1.5200000000000005,0.96,1.7199999999999998,0.5800000000000001,0.2400000000000002,-0.1399999999999996,3.06,-1.58,0.9799999999999996,2.8199999999999994,0.1000000000000005,1.42,-0.3949999999999996,0.3600000000000003,1.88,0.9399999999999996,0.5599999999999996,0.4400000000000004,1.2000000000000002,1.0999999999999996,1.2800000000000002,0.6600000000000001,1.3800000000000008,0.7000000000000002,0.7800000000000011,0.8400000000000007,1.0733333333333333,1.42,1.3999999999999997,1.1999999999999993,0.2599999999999998,1.3999999999999997,1.9000000000000004,-0.2599999999999998,0.7199999999999998,-0.0099999999999997,0.92,1.0199999999999996,0.4799999999999995,0.0600000000000005,-0.0199999999999995,0.9800000000000004,0.5200000000000005,1.4000000000000004,0.5600000000000005,1.1700000000000008,1.3599999999999994,0.8699999999999992],\"colorbar\":{\"title\":{\"text\":\"Rating Difference (books = +, movies = -) \"}},\"colorscale\":[[0.0,\"red\"],[0.5,\"white\"],[1.0,\"blue\"]],\"showscale\":true},\"mode\":\"markers\",\"name\":\"Ratings\",\"text\":[\"20,000 Leagues Under the Sea\",\"The Scarlet Letter\",\"Dr. Jekyll and Mr. Hyde\",\"Gulliver's Travels\",\"A Farewell to Arms\",\"The Red Badge of Courage\",\"The Odyssey\",\"A Portrait of the Artist as a Young Man\",\"Paradise Lost\",\"Great Expectations\",\"Cyrano de Bergerac\",\"The Canterbury Tales\",\"The Portrait of a Lady\",\"Uncle Tom's Cabin\",\"Treasure Island\",\"The Adventures of Sherlock Holmes\",\"Wuthering Heights\",\"Of Mice and Men\",\"The Brothers Karamazov\",\"The Count of Monte Cristo\",\"Brave New World\",\"Aesop's Fables\",\"Lord Jim\",\"Benjamin Franklin\",\"The Three Musketeers\",\"Madame Bovary\",\"Hamlet\",\"Pygmalion\",\"Robinson Crusoe\",\"Romeo and Juliet\",\"A Midsummer Night's Dream\",\"Beowulf\",\"Anna Karenina\",\"The Time Machine\",\"War and Peace\",\"The Talisman\",\"Alice in Wonderland\",\"Dracula\",\"The Red and the Black\",\"A Tale of Two Cities\",\"Faust\",\"Billy Budd\",\"Ivanhoe\",\"The Sound and the Fury\",\"Crime and Punishment\",\"The Adventures of Huckleberry Finn\",\"Frankenstein\",\"David Copperfield\",\"Twilight\",\"Lord of the Flies\",\"Persuasion\",\"Sense and Sensibility\",\"I Capture the Castle\",\"The Firm\",\"The Client\",\"The Rainmaker\",\"Emma\",\"Mansfield Park\",\"A Little Princess\",\"Nick and Norah's Infinite Playlist\",\"The Secret Garden\",\"Harry Potter and the Chamber of Secrets\",\"Harry Potter and the Goblet of Fire\",\"Harry Potter and the Prisoner of Azkaban\",\"Bram Stoker's Dracula\",\"The Other Boleyn Girl\",\"The Black Dahlia\",\"Little Children\",\"Bridget Jones's Diary\",\"Trainspotting\",\"Sherlock Holmes\",\"Charlie and the Chocolate Factory\",\"High Fidelity\",\"No Country for Old Men\",\"Atonement\",\"The Lovely Bones\",\"Never Let Me Go\",\"Brideshead Revisited\",\"Stardust\",\"Jane Eyre\",\"Vanity Fair\",\"Little Women\"],\"x\":[7.2,5.3,7.6,6.9,5.8,7.1,7.0,6.2,4.6,6.3,7.5,6.3,6.2,6.2,7.0,8.7,7.5,7.4,6.7,7.7,5.2,6.0,6.7,8.1,7.1,5.7,7.7,6.7,6.0,7.6,6.4,6.3,6.6,7.5,6.7,7.3,6.3,7.4,7.5,7.8,4.4,7.8,6.7,4.9,5.5,6.2,7.8,7.6,5.3,6.4,7.7,7.7,6.8,6.9,6.7,7.2,6.6,7.0,7.6,6.6,7.3,7.4,7.7,7.9,7.4,6.7,5.6,7.5,6.8,8.1,7.6,6.7,7.4,8.2,7.8,6.6,7.1,6.6,7.6,7.05,6.2,7.25],\"y\":[7.68,6.78,7.6,7.22,7.6,6.46,7.5,7.22,7.62,7.52,8.12,7.24,7.54,7.72,7.95,8.62,7.68,7.72,8.64,8.48,7.96,8.1,7.24,7.98,7.800000000000001,7.32,8.02,8.15,7.34,7.48,7.88,6.89,8.08,7.926666666666667,8.22,8.26,8.02,7.98,7.74,7.66,7.46,6.22,7.68,7.72,5.6000000000000005,7.62,7.405,7.96,7.18,7.34,8.26,8.14,8.0,8.0,7.98,7.86,7.98,7.7,8.38,7.44,8.373333333333333,8.82,9.1,9.1,7.66,8.1,7.5,7.24,7.52,8.09,8.52,7.72,7.88,8.26,7.78,7.58,7.62,8.0,8.16,8.22,7.56,8.12],\"type\":\"scatter\"},{\"line\":{\"color\":\"black\",\"width\":2},\"mode\":\"lines\",\"name\":\"Trendline\",\"x\":[4.4,8.7],\"y\":[7.110217064010403,8.270882235178126],\"type\":\"scatter\"},{\"line\":{\"color\":\"blue\",\"dash\":\"dash\",\"width\":2},\"mode\":\"lines\",\"name\":\"y = x Line\",\"x\":[5.6000000000000005,8.7],\"y\":[5.6000000000000005,8.7],\"type\":\"scatter\"}],                        {\"template\":{\"data\":{\"histogram2dcontour\":[{\"type\":\"histogram2dcontour\",\"colorbar\":{\"outlinewidth\":0,\"ticks\":\"\"},\"colorscale\":[[0.0,\"#0d0887\"],[0.1111111111111111,\"#46039f\"],[0.2222222222222222,\"#7201a8\"],[0.3333333333333333,\"#9c179e\"],[0.4444444444444444,\"#bd3786\"],[0.5555555555555556,\"#d8576b\"],[0.6666666666666666,\"#ed7953\"],[0.7777777777777778,\"#fb9f3a\"],[0.8888888888888888,\"#fdca26\"],[1.0,\"#f0f921\"]]}],\"choropleth\":[{\"type\":\"choropleth\",\"colorbar\":{\"outlinewidth\":0,\"ticks\":\"\"}}],\"histogram2d\":[{\"type\":\"histogram2d\",\"colorbar\":{\"outlinewidth\":0,\"ticks\":\"\"},\"colorscale\":[[0.0,\"#0d0887\"],[0.1111111111111111,\"#46039f\"],[0.2222222222222222,\"#7201a8\"],[0.3333333333333333,\"#9c179e\"],[0.4444444444444444,\"#bd3786\"],[0.5555555555555556,\"#d8576b\"],[0.6666666666666666,\"#ed7953\"],[0.7777777777777778,\"#fb9f3a\"],[0.8888888888888888,\"#fdca26\"],[1.0,\"#f0f921\"]]}],\"heatmap\":[{\"type\":\"heatmap\",\"colorbar\":{\"outlinewidth\":0,\"ticks\":\"\"},\"colorscale\":[[0.0,\"#0d0887\"],[0.1111111111111111,\"#46039f\"],[0.2222222222222222,\"#7201a8\"],[0.3333333333333333,\"#9c179e\"],[0.4444444444444444,\"#bd3786\"],[0.5555555555555556,\"#d8576b\"],[0.6666666666666666,\"#ed7953\"],[0.7777777777777778,\"#fb9f3a\"],[0.8888888888888888,\"#fdca26\"],[1.0,\"#f0f921\"]]}],\"heatmapgl\":[{\"type\":\"heatmapgl\",\"colorbar\":{\"outlinewidth\":0,\"ticks\":\"\"},\"colorscale\":[[0.0,\"#0d0887\"],[0.1111111111111111,\"#46039f\"],[0.2222222222222222,\"#7201a8\"],[0.3333333333333333,\"#9c179e\"],[0.4444444444444444,\"#bd3786\"],[0.5555555555555556,\"#d8576b\"],[0.6666666666666666,\"#ed7953\"],[0.7777777777777778,\"#fb9f3a\"],[0.8888888888888888,\"#fdca26\"],[1.0,\"#f0f921\"]]}],\"contourcarpet\":[{\"type\":\"contourcarpet\",\"colorbar\":{\"outlinewidth\":0,\"ticks\":\"\"}}],\"contour\":[{\"type\":\"contour\",\"colorbar\":{\"outlinewidth\":0,\"ticks\":\"\"},\"colorscale\":[[0.0,\"#0d0887\"],[0.1111111111111111,\"#46039f\"],[0.2222222222222222,\"#7201a8\"],[0.3333333333333333,\"#9c179e\"],[0.4444444444444444,\"#bd3786\"],[0.5555555555555556,\"#d8576b\"],[0.6666666666666666,\"#ed7953\"],[0.7777777777777778,\"#fb9f3a\"],[0.8888888888888888,\"#fdca26\"],[1.0,\"#f0f921\"]]}],\"surface\":[{\"type\":\"surface\",\"colorbar\":{\"outlinewidth\":0,\"ticks\":\"\"},\"colorscale\":[[0.0,\"#0d0887\"],[0.1111111111111111,\"#46039f\"],[0.2222222222222222,\"#7201a8\"],[0.3333333333333333,\"#9c179e\"],[0.4444444444444444,\"#bd3786\"],[0.5555555555555556,\"#d8576b\"],[0.6666666666666666,\"#ed7953\"],[0.7777777777777778,\"#fb9f3a\"],[0.8888888888888888,\"#fdca26\"],[1.0,\"#f0f921\"]]}],\"mesh3d\":[{\"type\":\"mesh3d\",\"colorbar\":{\"outlinewidth\":0,\"ticks\":\"\"}}],\"scatter\":[{\"fillpattern\":{\"fillmode\":\"overlay\",\"size\":10,\"solidity\":0.2},\"type\":\"scatter\"}],\"parcoords\":[{\"type\":\"parcoords\",\"line\":{\"colorbar\":{\"outlinewidth\":0,\"ticks\":\"\"}}}],\"scatterpolargl\":[{\"type\":\"scatterpolargl\",\"marker\":{\"colorbar\":{\"outlinewidth\":0,\"ticks\":\"\"}}}],\"bar\":[{\"error_x\":{\"color\":\"#2a3f5f\"},\"error_y\":{\"color\":\"#2a3f5f\"},\"marker\":{\"line\":{\"color\":\"#E5ECF6\",\"width\":0.5},\"pattern\":{\"fillmode\":\"overlay\",\"size\":10,\"solidity\":0.2}},\"type\":\"bar\"}],\"scattergeo\":[{\"type\":\"scattergeo\",\"marker\":{\"colorbar\":{\"outlinewidth\":0,\"ticks\":\"\"}}}],\"scatterpolar\":[{\"type\":\"scatterpolar\",\"marker\":{\"colorbar\":{\"outlinewidth\":0,\"ticks\":\"\"}}}],\"histogram\":[{\"marker\":{\"pattern\":{\"fillmode\":\"overlay\",\"size\":10,\"solidity\":0.2}},\"type\":\"histogram\"}],\"scattergl\":[{\"type\":\"scattergl\",\"marker\":{\"colorbar\":{\"outlinewidth\":0,\"ticks\":\"\"}}}],\"scatter3d\":[{\"type\":\"scatter3d\",\"line\":{\"colorbar\":{\"outlinewidth\":0,\"ticks\":\"\"}},\"marker\":{\"colorbar\":{\"outlinewidth\":0,\"ticks\":\"\"}}}],\"scattermapbox\":[{\"type\":\"scattermapbox\",\"marker\":{\"colorbar\":{\"outlinewidth\":0,\"ticks\":\"\"}}}],\"scatterternary\":[{\"type\":\"scatterternary\",\"marker\":{\"colorbar\":{\"outlinewidth\":0,\"ticks\":\"\"}}}],\"scattercarpet\":[{\"type\":\"scattercarpet\",\"marker\":{\"colorbar\":{\"outlinewidth\":0,\"ticks\":\"\"}}}],\"carpet\":[{\"aaxis\":{\"endlinecolor\":\"#2a3f5f\",\"gridcolor\":\"white\",\"linecolor\":\"white\",\"minorgridcolor\":\"white\",\"startlinecolor\":\"#2a3f5f\"},\"baxis\":{\"endlinecolor\":\"#2a3f5f\",\"gridcolor\":\"white\",\"linecolor\":\"white\",\"minorgridcolor\":\"white\",\"startlinecolor\":\"#2a3f5f\"},\"type\":\"carpet\"}],\"table\":[{\"cells\":{\"fill\":{\"color\":\"#EBF0F8\"},\"line\":{\"color\":\"white\"}},\"header\":{\"fill\":{\"color\":\"#C8D4E3\"},\"line\":{\"color\":\"white\"}},\"type\":\"table\"}],\"barpolar\":[{\"marker\":{\"line\":{\"color\":\"#E5ECF6\",\"width\":0.5},\"pattern\":{\"fillmode\":\"overlay\",\"size\":10,\"solidity\":0.2}},\"type\":\"barpolar\"}],\"pie\":[{\"automargin\":true,\"type\":\"pie\"}]},\"layout\":{\"autotypenumbers\":\"strict\",\"colorway\":[\"#636efa\",\"#EF553B\",\"#00cc96\",\"#ab63fa\",\"#FFA15A\",\"#19d3f3\",\"#FF6692\",\"#B6E880\",\"#FF97FF\",\"#FECB52\"],\"font\":{\"color\":\"#2a3f5f\"},\"hovermode\":\"closest\",\"hoverlabel\":{\"align\":\"left\"},\"paper_bgcolor\":\"white\",\"plot_bgcolor\":\"#E5ECF6\",\"polar\":{\"bgcolor\":\"#E5ECF6\",\"angularaxis\":{\"gridcolor\":\"white\",\"linecolor\":\"white\",\"ticks\":\"\"},\"radialaxis\":{\"gridcolor\":\"white\",\"linecolor\":\"white\",\"ticks\":\"\"}},\"ternary\":{\"bgcolor\":\"#E5ECF6\",\"aaxis\":{\"gridcolor\":\"white\",\"linecolor\":\"white\",\"ticks\":\"\"},\"baxis\":{\"gridcolor\":\"white\",\"linecolor\":\"white\",\"ticks\":\"\"},\"caxis\":{\"gridcolor\":\"white\",\"linecolor\":\"white\",\"ticks\":\"\"}},\"coloraxis\":{\"colorbar\":{\"outlinewidth\":0,\"ticks\":\"\"}},\"colorscale\":{\"sequential\":[[0.0,\"#0d0887\"],[0.1111111111111111,\"#46039f\"],[0.2222222222222222,\"#7201a8\"],[0.3333333333333333,\"#9c179e\"],[0.4444444444444444,\"#bd3786\"],[0.5555555555555556,\"#d8576b\"],[0.6666666666666666,\"#ed7953\"],[0.7777777777777778,\"#fb9f3a\"],[0.8888888888888888,\"#fdca26\"],[1.0,\"#f0f921\"]],\"sequentialminus\":[[0.0,\"#0d0887\"],[0.1111111111111111,\"#46039f\"],[0.2222222222222222,\"#7201a8\"],[0.3333333333333333,\"#9c179e\"],[0.4444444444444444,\"#bd3786\"],[0.5555555555555556,\"#d8576b\"],[0.6666666666666666,\"#ed7953\"],[0.7777777777777778,\"#fb9f3a\"],[0.8888888888888888,\"#fdca26\"],[1.0,\"#f0f921\"]],\"diverging\":[[0,\"#8e0152\"],[0.1,\"#c51b7d\"],[0.2,\"#de77ae\"],[0.3,\"#f1b6da\"],[0.4,\"#fde0ef\"],[0.5,\"#f7f7f7\"],[0.6,\"#e6f5d0\"],[0.7,\"#b8e186\"],[0.8,\"#7fbc41\"],[0.9,\"#4d9221\"],[1,\"#276419\"]]},\"xaxis\":{\"gridcolor\":\"white\",\"linecolor\":\"white\",\"ticks\":\"\",\"title\":{\"standoff\":15},\"zerolinecolor\":\"white\",\"automargin\":true,\"zerolinewidth\":2},\"yaxis\":{\"gridcolor\":\"white\",\"linecolor\":\"white\",\"ticks\":\"\",\"title\":{\"standoff\":15},\"zerolinecolor\":\"white\",\"automargin\":true,\"zerolinewidth\":2},\"scene\":{\"xaxis\":{\"backgroundcolor\":\"#E5ECF6\",\"gridcolor\":\"white\",\"linecolor\":\"white\",\"showbackground\":true,\"ticks\":\"\",\"zerolinecolor\":\"white\",\"gridwidth\":2},\"yaxis\":{\"backgroundcolor\":\"#E5ECF6\",\"gridcolor\":\"white\",\"linecolor\":\"white\",\"showbackground\":true,\"ticks\":\"\",\"zerolinecolor\":\"white\",\"gridwidth\":2},\"zaxis\":{\"backgroundcolor\":\"#E5ECF6\",\"gridcolor\":\"white\",\"linecolor\":\"white\",\"showbackground\":true,\"ticks\":\"\",\"zerolinecolor\":\"white\",\"gridwidth\":2}},\"shapedefaults\":{\"line\":{\"color\":\"#2a3f5f\"}},\"annotationdefaults\":{\"arrowcolor\":\"#2a3f5f\",\"arrowhead\":0,\"arrowwidth\":1},\"geo\":{\"bgcolor\":\"white\",\"landcolor\":\"#E5ECF6\",\"subunitcolor\":\"white\",\"showland\":true,\"showlakes\":true,\"lakecolor\":\"white\"},\"title\":{\"x\":0.05},\"mapbox\":{\"style\":\"light\"}}},\"legend\":{\"font\":{\"size\":12},\"title\":{\"text\":\"Key\"},\"x\":1,\"y\":1,\"xanchor\":\"right\"},\"title\":{\"text\":\"(NOT USING)Comparing Book and Movie Adaptation Ratings\"},\"xaxis\":{\"title\":{\"text\":\"IMDb Rating\"}},\"yaxis\":{\"title\":{\"text\":\"Book Rating\"}},\"width\":1000,\"height\":700,\"plot_bgcolor\":\"#dbdbd9\"},                        {\"responsive\": true}                    ).then(function(){\n",
       "                            \n",
       "var gd = document.getElementById('88396730-df71-4308-b971-4b4ca209c8c1');\n",
       "var x = new MutationObserver(function (mutations, observer) {{\n",
       "        var display = window.getComputedStyle(gd).display;\n",
       "        if (!display || display === 'none') {{\n",
       "            console.log([gd, 'removed!']);\n",
       "            Plotly.purge(gd);\n",
       "            observer.disconnect();\n",
       "        }}\n",
       "}});\n",
       "\n",
       "// Listen for the removal of the full notebook cells\n",
       "var notebookContainer = gd.closest('#notebook-container');\n",
       "if (notebookContainer) {{\n",
       "    x.observe(notebookContainer, {childList: true});\n",
       "}}\n",
       "\n",
       "// Listen for the clearing of the current output cell\n",
       "var outputEl = gd.closest('.output');\n",
       "if (outputEl) {{\n",
       "    x.observe(outputEl, {childList: true});\n",
       "}}\n",
       "\n",
       "                        })                };                });            </script>        </div>"
      ]
     },
     "metadata": {},
     "output_type": "display_data"
    }
   ],
   "source": [
    "# gonna be honest, I don't know what the cross over center means.... so I chose the other view to analyze.\n",
    "\n",
    "# This code was developed with the assistance of ChatGPT (OpenAI), December 3rd, 2024.\n",
    "import plotly.graph_objects as go\n",
    "import pandas as pd\n",
    "import numpy as np\n",
    "\n",
    "# Load data\n",
    "data = pd.read_csv('scaled_book_movie_data.csv')\n",
    "\n",
    "# Calculate trendline\n",
    "coefficients = np.polyfit(data['IMDb Rating'], data['Book Rating'], 1)\n",
    "trendline = np.poly1d(coefficients)\n",
    "\n",
    "min_val = max(data['IMDb Rating'].min(), data['Book Rating'].min())\n",
    "max_val = min(data['IMDb Rating'].max(), data['Book Rating'].max())\n",
    "\n",
    "# Create plot\n",
    "fig = go.Figure([\n",
    "    go.Scatter(\n",
    "        x=data['IMDb Rating'], \n",
    "        y=data['Book Rating'],\n",
    "        mode='markers', \n",
    "        marker=dict(\n",
    "            color=data['Rating Difference'],\n",
    "            colorscale=diverging_colorscale,  # Diverging color scale\n",
    "            cmid=0,   # Set midpoint to 0\n",
    "            showscale=True,\n",
    "            #colorscale='RdBu',\n",
    "            colorbar=dict(\n",
    "                title=\"Rating Difference (books = +, movies = -) \")\n",
    "        ),\n",
    "        text=data['Title'], \n",
    "        name='Ratings',\n",
    "        hovertemplate='Book: %{text}<br>Movie Rating: %{x}<br>Book Rating: %{y}'\n",
    "    ),\n",
    "    go.Scatter(\n",
    "        x=[data['IMDb Rating'].min(), data['IMDb Rating'].max()],\n",
    "        y=trendline([data['IMDb Rating'].min(), data['IMDb Rating'].max()]),\n",
    "        mode='lines', \n",
    "        line=dict(color='black', width=2),\n",
    "        name='Trendline'\n",
    "    ),\n",
    "    go.Scatter(\n",
    "        x=[min_val, max_val],\n",
    "        y=[min_val, max_val],\n",
    "        mode='lines',\n",
    "        line=dict(color='blue', width=2, dash='dash'),\n",
    "        name='y = x Line'\n",
    "    )\n",
    "])\n",
    "\n",
    "# Update layout\n",
    "fig.update_layout(\n",
    "    title='(NOT USING)Comparing Book and Movie Adaptation Ratings',\n",
    "    xaxis_title='IMDb Rating',\n",
    "    yaxis_title='Book Rating',\n",
    "    legend=dict(\n",
    "        title=\"Key\",\n",
    "        x=1,              # Position the legend to the right of the plot\n",
    "        y=1,                # Align the top of the legend with the plot\n",
    "        xanchor='right',    # Anchor the legend's right side\n",
    "        font=dict(size=12),  # Adjust font size if necessary\n",
    "    ),\n",
    "    width=1000,  # Set the width of the plot\n",
    "    height=700, # Set the height of the plot \n",
    "    plot_bgcolor='#dbdbd9',  # Slightly darker background\n",
    ")\n",
    "\n",
    "fig.show()"
   ]
  },
  {
   "cell_type": "markdown",
   "id": "8af88396-74f4-4c6f-b04b-86bd6ee64302",
   "metadata": {},
   "source": [
    "#### (USING TO ANALYZE) Scatter Plot 2: x-axis = book ratings / y-axis = movie ratings\n",
    "From the blue trendline being lower than the neutral x=y line, it appears that in this dataset book ratings tend to be higher than movie ratings. When you look at the distribution of colors which represent the difference in ratings between books and movies you can see that a large portion tend to be blue. But there are a few cases where movie ratings are higher than books such as with the story “Billy Budd” which had a 6.22/10 book rating and a 7.8/10 movie rating. But is this statistically significant? More analysis is needed!\n"
   ]
  },
  {
   "cell_type": "code",
   "execution_count": 62,
   "id": "44d38055-79d4-4cfe-a356-98432c4c5fdb",
   "metadata": {},
   "outputs": [
    {
     "data": {
      "application/vnd.plotly.v1+json": {
       "config": {
        "plotlyServerURL": "https://plot.ly"
       },
       "data": [
        {
         "hovertemplate": "Book: %{text}<br>Book Rating: %{x}<br>Movie Rating: %{y}",
         "marker": {
          "cmid": 0,
          "color": [
           0.4799999999999995,
           1.4800000000000004,
           0,
           0.3199999999999994,
           1.7999999999999998,
           -0.6399999999999997,
           0.5,
           1.0199999999999996,
           3.0200000000000005,
           1.2199999999999998,
           0.6199999999999992,
           0.9400000000000004,
           1.34,
           1.5199999999999996,
           0.9500000000000002,
           -0.08,
           0.1799999999999997,
           0.3199999999999994,
           1.9400000000000004,
           0.7800000000000002,
           2.76,
           2.1,
           0.54,
           -0.1199999999999992,
           0.7000000000000011,
           1.62,
           0.3199999999999994,
           1.4500000000000002,
           1.34,
           -0.1199999999999992,
           1.4799999999999995,
           0.5899999999999999,
           1.4800000000000004,
           0.4266666666666667,
           1.5200000000000005,
           0.96,
           1.7199999999999998,
           0.5800000000000001,
           0.2400000000000002,
           -0.1399999999999996,
           3.06,
           -1.58,
           0.9799999999999996,
           2.8199999999999994,
           0.1000000000000005,
           1.42,
           -0.3949999999999996,
           0.3600000000000003,
           1.88,
           0.9399999999999996,
           0.5599999999999996,
           0.4400000000000004,
           1.2000000000000002,
           1.0999999999999996,
           1.2800000000000002,
           0.6600000000000001,
           1.3800000000000008,
           0.7000000000000002,
           0.7800000000000011,
           0.8400000000000007,
           1.0733333333333333,
           1.42,
           1.3999999999999997,
           1.1999999999999993,
           0.2599999999999998,
           1.3999999999999997,
           1.9000000000000004,
           -0.2599999999999998,
           0.7199999999999998,
           -0.0099999999999997,
           0.92,
           1.0199999999999996,
           0.4799999999999995,
           0.0600000000000005,
           -0.0199999999999995,
           0.9800000000000004,
           0.5200000000000005,
           1.4000000000000004,
           0.5600000000000005,
           1.1700000000000008,
           1.3599999999999994,
           0.8699999999999992
          ],
          "colorbar": {
           "title": {
            "text": "Rating Difference (books = +, movies = -) "
           }
          },
          "colorscale": [
           [
            0,
            "red"
           ],
           [
            0.5,
            "white"
           ],
           [
            1,
            "blue"
           ]
          ],
          "showscale": true
         },
         "mode": "markers",
         "name": "Ratings",
         "text": [
          "20,000 Leagues Under the Sea",
          "The Scarlet Letter",
          "Dr. Jekyll and Mr. Hyde",
          "Gulliver's Travels",
          "A Farewell to Arms",
          "The Red Badge of Courage",
          "The Odyssey",
          "A Portrait of the Artist as a Young Man",
          "Paradise Lost",
          "Great Expectations",
          "Cyrano de Bergerac",
          "The Canterbury Tales",
          "The Portrait of a Lady",
          "Uncle Tom's Cabin",
          "Treasure Island",
          "The Adventures of Sherlock Holmes",
          "Wuthering Heights",
          "Of Mice and Men",
          "The Brothers Karamazov",
          "The Count of Monte Cristo",
          "Brave New World",
          "Aesop's Fables",
          "Lord Jim",
          "Benjamin Franklin",
          "The Three Musketeers",
          "Madame Bovary",
          "Hamlet",
          "Pygmalion",
          "Robinson Crusoe",
          "Romeo and Juliet",
          "A Midsummer Night's Dream",
          "Beowulf",
          "Anna Karenina",
          "The Time Machine",
          "War and Peace",
          "The Talisman",
          "Alice in Wonderland",
          "Dracula",
          "The Red and the Black",
          "A Tale of Two Cities",
          "Faust",
          "Billy Budd",
          "Ivanhoe",
          "The Sound and the Fury",
          "Crime and Punishment",
          "The Adventures of Huckleberry Finn",
          "Frankenstein",
          "David Copperfield",
          "Twilight",
          "Lord of the Flies",
          "Persuasion",
          "Sense and Sensibility",
          "I Capture the Castle",
          "The Firm",
          "The Client",
          "The Rainmaker",
          "Emma",
          "Mansfield Park",
          "A Little Princess",
          "Nick and Norah's Infinite Playlist",
          "The Secret Garden",
          "Harry Potter and the Chamber of Secrets",
          "Harry Potter and the Goblet of Fire",
          "Harry Potter and the Prisoner of Azkaban",
          "Bram Stoker's Dracula",
          "The Other Boleyn Girl",
          "The Black Dahlia",
          "Little Children",
          "Bridget Jones's Diary",
          "Trainspotting",
          "Sherlock Holmes",
          "Charlie and the Chocolate Factory",
          "High Fidelity",
          "No Country for Old Men",
          "Atonement",
          "The Lovely Bones",
          "Never Let Me Go",
          "Brideshead Revisited",
          "Stardust",
          "Jane Eyre",
          "Vanity Fair",
          "Little Women"
         ],
         "type": "scatter",
         "x": [
          7.68,
          6.78,
          7.6,
          7.22,
          7.6,
          6.46,
          7.5,
          7.22,
          7.62,
          7.52,
          8.12,
          7.24,
          7.54,
          7.72,
          7.95,
          8.62,
          7.68,
          7.72,
          8.64,
          8.48,
          7.96,
          8.1,
          7.24,
          7.98,
          7.800000000000001,
          7.32,
          8.02,
          8.15,
          7.34,
          7.48,
          7.88,
          6.89,
          8.08,
          7.926666666666667,
          8.22,
          8.26,
          8.02,
          7.98,
          7.74,
          7.66,
          7.46,
          6.22,
          7.68,
          7.72,
          5.6000000000000005,
          7.62,
          7.405,
          7.96,
          7.18,
          7.34,
          8.26,
          8.14,
          8,
          8,
          7.98,
          7.86,
          7.98,
          7.7,
          8.38,
          7.44,
          8.373333333333333,
          8.82,
          9.1,
          9.1,
          7.66,
          8.1,
          7.5,
          7.24,
          7.52,
          8.09,
          8.52,
          7.72,
          7.88,
          8.26,
          7.78,
          7.58,
          7.62,
          8,
          8.16,
          8.22,
          7.56,
          8.12
         ],
         "y": [
          7.2,
          5.3,
          7.6,
          6.9,
          5.8,
          7.1,
          7,
          6.2,
          4.6,
          6.3,
          7.5,
          6.3,
          6.2,
          6.2,
          7,
          8.7,
          7.5,
          7.4,
          6.7,
          7.7,
          5.2,
          6,
          6.7,
          8.1,
          7.1,
          5.7,
          7.7,
          6.7,
          6,
          7.6,
          6.4,
          6.3,
          6.6,
          7.5,
          6.7,
          7.3,
          6.3,
          7.4,
          7.5,
          7.8,
          4.4,
          7.8,
          6.7,
          4.9,
          5.5,
          6.2,
          7.8,
          7.6,
          5.3,
          6.4,
          7.7,
          7.7,
          6.8,
          6.9,
          6.7,
          7.2,
          6.6,
          7,
          7.6,
          6.6,
          7.3,
          7.4,
          7.7,
          7.9,
          7.4,
          6.7,
          5.6,
          7.5,
          6.8,
          8.1,
          7.6,
          6.7,
          7.4,
          8.2,
          7.8,
          6.6,
          7.1,
          6.6,
          7.6,
          7.05,
          6.2,
          7.25
         ]
        },
        {
         "line": {
          "color": "blue",
          "width": 2
         },
         "mode": "lines",
         "name": "Trendline",
         "type": "scatter",
         "x": [
          5.6000000000000005,
          9.1
         ],
         "y": [
          4.71218798898764,
          7.464457858062057
         ]
        },
        {
         "line": {
          "color": "black",
          "dash": "dash",
          "width": 2
         },
         "mode": "lines",
         "name": "y = x Line",
         "type": "scatter",
         "x": [
          5.6000000000000005,
          8.7
         ],
         "y": [
          5.6000000000000005,
          8.7
         ]
        }
       ],
       "layout": {
        "height": 700,
        "legend": {
         "font": {
          "size": 12
         },
         "title": {
          "text": "Key"
         },
         "x": 0,
         "xanchor": "right",
         "y": 1
        },
        "plot_bgcolor": "#dbdbd9",
        "template": {
         "data": {
          "bar": [
           {
            "error_x": {
             "color": "#2a3f5f"
            },
            "error_y": {
             "color": "#2a3f5f"
            },
            "marker": {
             "line": {
              "color": "#E5ECF6",
              "width": 0.5
             },
             "pattern": {
              "fillmode": "overlay",
              "size": 10,
              "solidity": 0.2
             }
            },
            "type": "bar"
           }
          ],
          "barpolar": [
           {
            "marker": {
             "line": {
              "color": "#E5ECF6",
              "width": 0.5
             },
             "pattern": {
              "fillmode": "overlay",
              "size": 10,
              "solidity": 0.2
             }
            },
            "type": "barpolar"
           }
          ],
          "carpet": [
           {
            "aaxis": {
             "endlinecolor": "#2a3f5f",
             "gridcolor": "white",
             "linecolor": "white",
             "minorgridcolor": "white",
             "startlinecolor": "#2a3f5f"
            },
            "baxis": {
             "endlinecolor": "#2a3f5f",
             "gridcolor": "white",
             "linecolor": "white",
             "minorgridcolor": "white",
             "startlinecolor": "#2a3f5f"
            },
            "type": "carpet"
           }
          ],
          "choropleth": [
           {
            "colorbar": {
             "outlinewidth": 0,
             "ticks": ""
            },
            "type": "choropleth"
           }
          ],
          "contour": [
           {
            "colorbar": {
             "outlinewidth": 0,
             "ticks": ""
            },
            "colorscale": [
             [
              0,
              "#0d0887"
             ],
             [
              0.1111111111111111,
              "#46039f"
             ],
             [
              0.2222222222222222,
              "#7201a8"
             ],
             [
              0.3333333333333333,
              "#9c179e"
             ],
             [
              0.4444444444444444,
              "#bd3786"
             ],
             [
              0.5555555555555556,
              "#d8576b"
             ],
             [
              0.6666666666666666,
              "#ed7953"
             ],
             [
              0.7777777777777778,
              "#fb9f3a"
             ],
             [
              0.8888888888888888,
              "#fdca26"
             ],
             [
              1,
              "#f0f921"
             ]
            ],
            "type": "contour"
           }
          ],
          "contourcarpet": [
           {
            "colorbar": {
             "outlinewidth": 0,
             "ticks": ""
            },
            "type": "contourcarpet"
           }
          ],
          "heatmap": [
           {
            "colorbar": {
             "outlinewidth": 0,
             "ticks": ""
            },
            "colorscale": [
             [
              0,
              "#0d0887"
             ],
             [
              0.1111111111111111,
              "#46039f"
             ],
             [
              0.2222222222222222,
              "#7201a8"
             ],
             [
              0.3333333333333333,
              "#9c179e"
             ],
             [
              0.4444444444444444,
              "#bd3786"
             ],
             [
              0.5555555555555556,
              "#d8576b"
             ],
             [
              0.6666666666666666,
              "#ed7953"
             ],
             [
              0.7777777777777778,
              "#fb9f3a"
             ],
             [
              0.8888888888888888,
              "#fdca26"
             ],
             [
              1,
              "#f0f921"
             ]
            ],
            "type": "heatmap"
           }
          ],
          "heatmapgl": [
           {
            "colorbar": {
             "outlinewidth": 0,
             "ticks": ""
            },
            "colorscale": [
             [
              0,
              "#0d0887"
             ],
             [
              0.1111111111111111,
              "#46039f"
             ],
             [
              0.2222222222222222,
              "#7201a8"
             ],
             [
              0.3333333333333333,
              "#9c179e"
             ],
             [
              0.4444444444444444,
              "#bd3786"
             ],
             [
              0.5555555555555556,
              "#d8576b"
             ],
             [
              0.6666666666666666,
              "#ed7953"
             ],
             [
              0.7777777777777778,
              "#fb9f3a"
             ],
             [
              0.8888888888888888,
              "#fdca26"
             ],
             [
              1,
              "#f0f921"
             ]
            ],
            "type": "heatmapgl"
           }
          ],
          "histogram": [
           {
            "marker": {
             "pattern": {
              "fillmode": "overlay",
              "size": 10,
              "solidity": 0.2
             }
            },
            "type": "histogram"
           }
          ],
          "histogram2d": [
           {
            "colorbar": {
             "outlinewidth": 0,
             "ticks": ""
            },
            "colorscale": [
             [
              0,
              "#0d0887"
             ],
             [
              0.1111111111111111,
              "#46039f"
             ],
             [
              0.2222222222222222,
              "#7201a8"
             ],
             [
              0.3333333333333333,
              "#9c179e"
             ],
             [
              0.4444444444444444,
              "#bd3786"
             ],
             [
              0.5555555555555556,
              "#d8576b"
             ],
             [
              0.6666666666666666,
              "#ed7953"
             ],
             [
              0.7777777777777778,
              "#fb9f3a"
             ],
             [
              0.8888888888888888,
              "#fdca26"
             ],
             [
              1,
              "#f0f921"
             ]
            ],
            "type": "histogram2d"
           }
          ],
          "histogram2dcontour": [
           {
            "colorbar": {
             "outlinewidth": 0,
             "ticks": ""
            },
            "colorscale": [
             [
              0,
              "#0d0887"
             ],
             [
              0.1111111111111111,
              "#46039f"
             ],
             [
              0.2222222222222222,
              "#7201a8"
             ],
             [
              0.3333333333333333,
              "#9c179e"
             ],
             [
              0.4444444444444444,
              "#bd3786"
             ],
             [
              0.5555555555555556,
              "#d8576b"
             ],
             [
              0.6666666666666666,
              "#ed7953"
             ],
             [
              0.7777777777777778,
              "#fb9f3a"
             ],
             [
              0.8888888888888888,
              "#fdca26"
             ],
             [
              1,
              "#f0f921"
             ]
            ],
            "type": "histogram2dcontour"
           }
          ],
          "mesh3d": [
           {
            "colorbar": {
             "outlinewidth": 0,
             "ticks": ""
            },
            "type": "mesh3d"
           }
          ],
          "parcoords": [
           {
            "line": {
             "colorbar": {
              "outlinewidth": 0,
              "ticks": ""
             }
            },
            "type": "parcoords"
           }
          ],
          "pie": [
           {
            "automargin": true,
            "type": "pie"
           }
          ],
          "scatter": [
           {
            "fillpattern": {
             "fillmode": "overlay",
             "size": 10,
             "solidity": 0.2
            },
            "type": "scatter"
           }
          ],
          "scatter3d": [
           {
            "line": {
             "colorbar": {
              "outlinewidth": 0,
              "ticks": ""
             }
            },
            "marker": {
             "colorbar": {
              "outlinewidth": 0,
              "ticks": ""
             }
            },
            "type": "scatter3d"
           }
          ],
          "scattercarpet": [
           {
            "marker": {
             "colorbar": {
              "outlinewidth": 0,
              "ticks": ""
             }
            },
            "type": "scattercarpet"
           }
          ],
          "scattergeo": [
           {
            "marker": {
             "colorbar": {
              "outlinewidth": 0,
              "ticks": ""
             }
            },
            "type": "scattergeo"
           }
          ],
          "scattergl": [
           {
            "marker": {
             "colorbar": {
              "outlinewidth": 0,
              "ticks": ""
             }
            },
            "type": "scattergl"
           }
          ],
          "scattermapbox": [
           {
            "marker": {
             "colorbar": {
              "outlinewidth": 0,
              "ticks": ""
             }
            },
            "type": "scattermapbox"
           }
          ],
          "scatterpolar": [
           {
            "marker": {
             "colorbar": {
              "outlinewidth": 0,
              "ticks": ""
             }
            },
            "type": "scatterpolar"
           }
          ],
          "scatterpolargl": [
           {
            "marker": {
             "colorbar": {
              "outlinewidth": 0,
              "ticks": ""
             }
            },
            "type": "scatterpolargl"
           }
          ],
          "scatterternary": [
           {
            "marker": {
             "colorbar": {
              "outlinewidth": 0,
              "ticks": ""
             }
            },
            "type": "scatterternary"
           }
          ],
          "surface": [
           {
            "colorbar": {
             "outlinewidth": 0,
             "ticks": ""
            },
            "colorscale": [
             [
              0,
              "#0d0887"
             ],
             [
              0.1111111111111111,
              "#46039f"
             ],
             [
              0.2222222222222222,
              "#7201a8"
             ],
             [
              0.3333333333333333,
              "#9c179e"
             ],
             [
              0.4444444444444444,
              "#bd3786"
             ],
             [
              0.5555555555555556,
              "#d8576b"
             ],
             [
              0.6666666666666666,
              "#ed7953"
             ],
             [
              0.7777777777777778,
              "#fb9f3a"
             ],
             [
              0.8888888888888888,
              "#fdca26"
             ],
             [
              1,
              "#f0f921"
             ]
            ],
            "type": "surface"
           }
          ],
          "table": [
           {
            "cells": {
             "fill": {
              "color": "#EBF0F8"
             },
             "line": {
              "color": "white"
             }
            },
            "header": {
             "fill": {
              "color": "#C8D4E3"
             },
             "line": {
              "color": "white"
             }
            },
            "type": "table"
           }
          ]
         },
         "layout": {
          "annotationdefaults": {
           "arrowcolor": "#2a3f5f",
           "arrowhead": 0,
           "arrowwidth": 1
          },
          "autotypenumbers": "strict",
          "coloraxis": {
           "colorbar": {
            "outlinewidth": 0,
            "ticks": ""
           }
          },
          "colorscale": {
           "diverging": [
            [
             0,
             "#8e0152"
            ],
            [
             0.1,
             "#c51b7d"
            ],
            [
             0.2,
             "#de77ae"
            ],
            [
             0.3,
             "#f1b6da"
            ],
            [
             0.4,
             "#fde0ef"
            ],
            [
             0.5,
             "#f7f7f7"
            ],
            [
             0.6,
             "#e6f5d0"
            ],
            [
             0.7,
             "#b8e186"
            ],
            [
             0.8,
             "#7fbc41"
            ],
            [
             0.9,
             "#4d9221"
            ],
            [
             1,
             "#276419"
            ]
           ],
           "sequential": [
            [
             0,
             "#0d0887"
            ],
            [
             0.1111111111111111,
             "#46039f"
            ],
            [
             0.2222222222222222,
             "#7201a8"
            ],
            [
             0.3333333333333333,
             "#9c179e"
            ],
            [
             0.4444444444444444,
             "#bd3786"
            ],
            [
             0.5555555555555556,
             "#d8576b"
            ],
            [
             0.6666666666666666,
             "#ed7953"
            ],
            [
             0.7777777777777778,
             "#fb9f3a"
            ],
            [
             0.8888888888888888,
             "#fdca26"
            ],
            [
             1,
             "#f0f921"
            ]
           ],
           "sequentialminus": [
            [
             0,
             "#0d0887"
            ],
            [
             0.1111111111111111,
             "#46039f"
            ],
            [
             0.2222222222222222,
             "#7201a8"
            ],
            [
             0.3333333333333333,
             "#9c179e"
            ],
            [
             0.4444444444444444,
             "#bd3786"
            ],
            [
             0.5555555555555556,
             "#d8576b"
            ],
            [
             0.6666666666666666,
             "#ed7953"
            ],
            [
             0.7777777777777778,
             "#fb9f3a"
            ],
            [
             0.8888888888888888,
             "#fdca26"
            ],
            [
             1,
             "#f0f921"
            ]
           ]
          },
          "colorway": [
           "#636efa",
           "#EF553B",
           "#00cc96",
           "#ab63fa",
           "#FFA15A",
           "#19d3f3",
           "#FF6692",
           "#B6E880",
           "#FF97FF",
           "#FECB52"
          ],
          "font": {
           "color": "#2a3f5f"
          },
          "geo": {
           "bgcolor": "white",
           "lakecolor": "white",
           "landcolor": "#E5ECF6",
           "showlakes": true,
           "showland": true,
           "subunitcolor": "white"
          },
          "hoverlabel": {
           "align": "left"
          },
          "hovermode": "closest",
          "mapbox": {
           "style": "light"
          },
          "paper_bgcolor": "white",
          "plot_bgcolor": "#E5ECF6",
          "polar": {
           "angularaxis": {
            "gridcolor": "white",
            "linecolor": "white",
            "ticks": ""
           },
           "bgcolor": "#E5ECF6",
           "radialaxis": {
            "gridcolor": "white",
            "linecolor": "white",
            "ticks": ""
           }
          },
          "scene": {
           "xaxis": {
            "backgroundcolor": "#E5ECF6",
            "gridcolor": "white",
            "gridwidth": 2,
            "linecolor": "white",
            "showbackground": true,
            "ticks": "",
            "zerolinecolor": "white"
           },
           "yaxis": {
            "backgroundcolor": "#E5ECF6",
            "gridcolor": "white",
            "gridwidth": 2,
            "linecolor": "white",
            "showbackground": true,
            "ticks": "",
            "zerolinecolor": "white"
           },
           "zaxis": {
            "backgroundcolor": "#E5ECF6",
            "gridcolor": "white",
            "gridwidth": 2,
            "linecolor": "white",
            "showbackground": true,
            "ticks": "",
            "zerolinecolor": "white"
           }
          },
          "shapedefaults": {
           "line": {
            "color": "#2a3f5f"
           }
          },
          "ternary": {
           "aaxis": {
            "gridcolor": "white",
            "linecolor": "white",
            "ticks": ""
           },
           "baxis": {
            "gridcolor": "white",
            "linecolor": "white",
            "ticks": ""
           },
           "bgcolor": "#E5ECF6",
           "caxis": {
            "gridcolor": "white",
            "linecolor": "white",
            "ticks": ""
           }
          },
          "title": {
           "x": 0.05
          },
          "xaxis": {
           "automargin": true,
           "gridcolor": "white",
           "linecolor": "white",
           "ticks": "",
           "title": {
            "standoff": 15
           },
           "zerolinecolor": "white",
           "zerolinewidth": 2
          },
          "yaxis": {
           "automargin": true,
           "gridcolor": "white",
           "linecolor": "white",
           "ticks": "",
           "title": {
            "standoff": 15
           },
           "zerolinecolor": "white",
           "zerolinewidth": 2
          }
         }
        },
        "title": {
         "text": "Comparing Book and Movie Adaptation Ratings"
        },
        "width": 1000,
        "xaxis": {
         "autorange": true,
         "range": [
          5.377505289478747,
          9.322494710521253
         ],
         "title": {
          "text": "Book Rating"
         },
         "type": "linear"
        },
        "yaxis": {
         "autorange": true,
         "range": [
          4.122204125950055,
          8.977795874049946
         ],
         "title": {
          "text": "IMDb Rating"
         },
         "type": "linear"
        }
       }
      },
      "image/png": "[encoded data removed]",
      "text/html": [
       "<div>                            <div id=\"d46eed46-7049-46e2-bd44-a16643a11cc0\" class=\"plotly-graph-div\" style=\"height:700px; width:1000px;\"></div>            <script type=\"text/javascript\">                require([\"plotly\"], function(Plotly) {                    window.PLOTLYENV=window.PLOTLYENV || {};                                    if (document.getElementById(\"d46eed46-7049-46e2-bd44-a16643a11cc0\")) {                    Plotly.newPlot(                        \"d46eed46-7049-46e2-bd44-a16643a11cc0\",                        [{\"hovertemplate\":\"Book: %{text}<br>Book Rating: %{x}<br>Movie Rating: %{y}\",\"marker\":{\"cmid\":0,\"color\":[0.4799999999999995,1.4800000000000004,0.0,0.3199999999999994,1.7999999999999998,-0.6399999999999997,0.5,1.0199999999999996,3.0200000000000005,1.2199999999999998,0.6199999999999992,0.9400000000000004,1.34,1.5199999999999996,0.9500000000000002,-0.08,0.1799999999999997,0.3199999999999994,1.9400000000000004,0.7800000000000002,2.76,2.1,0.54,-0.1199999999999992,0.7000000000000011,1.62,0.3199999999999994,1.4500000000000002,1.34,-0.1199999999999992,1.4799999999999995,0.5899999999999999,1.4800000000000004,0.4266666666666667,1.5200000000000005,0.96,1.7199999999999998,0.5800000000000001,0.2400000000000002,-0.1399999999999996,3.06,-1.58,0.9799999999999996,2.8199999999999994,0.1000000000000005,1.42,-0.3949999999999996,0.3600000000000003,1.88,0.9399999999999996,0.5599999999999996,0.4400000000000004,1.2000000000000002,1.0999999999999996,1.2800000000000002,0.6600000000000001,1.3800000000000008,0.7000000000000002,0.7800000000000011,0.8400000000000007,1.0733333333333333,1.42,1.3999999999999997,1.1999999999999993,0.2599999999999998,1.3999999999999997,1.9000000000000004,-0.2599999999999998,0.7199999999999998,-0.0099999999999997,0.92,1.0199999999999996,0.4799999999999995,0.0600000000000005,-0.0199999999999995,0.9800000000000004,0.5200000000000005,1.4000000000000004,0.5600000000000005,1.1700000000000008,1.3599999999999994,0.8699999999999992],\"colorbar\":{\"title\":{\"text\":\"Rating Difference (books = +, movies = -) \"}},\"colorscale\":[[0.0,\"red\"],[0.5,\"white\"],[1.0,\"blue\"]],\"showscale\":true},\"mode\":\"markers\",\"name\":\"Ratings\",\"text\":[\"20,000 Leagues Under the Sea\",\"The Scarlet Letter\",\"Dr. Jekyll and Mr. Hyde\",\"Gulliver's Travels\",\"A Farewell to Arms\",\"The Red Badge of Courage\",\"The Odyssey\",\"A Portrait of the Artist as a Young Man\",\"Paradise Lost\",\"Great Expectations\",\"Cyrano de Bergerac\",\"The Canterbury Tales\",\"The Portrait of a Lady\",\"Uncle Tom's Cabin\",\"Treasure Island\",\"The Adventures of Sherlock Holmes\",\"Wuthering Heights\",\"Of Mice and Men\",\"The Brothers Karamazov\",\"The Count of Monte Cristo\",\"Brave New World\",\"Aesop's Fables\",\"Lord Jim\",\"Benjamin Franklin\",\"The Three Musketeers\",\"Madame Bovary\",\"Hamlet\",\"Pygmalion\",\"Robinson Crusoe\",\"Romeo and Juliet\",\"A Midsummer Night's Dream\",\"Beowulf\",\"Anna Karenina\",\"The Time Machine\",\"War and Peace\",\"The Talisman\",\"Alice in Wonderland\",\"Dracula\",\"The Red and the Black\",\"A Tale of Two Cities\",\"Faust\",\"Billy Budd\",\"Ivanhoe\",\"The Sound and the Fury\",\"Crime and Punishment\",\"The Adventures of Huckleberry Finn\",\"Frankenstein\",\"David Copperfield\",\"Twilight\",\"Lord of the Flies\",\"Persuasion\",\"Sense and Sensibility\",\"I Capture the Castle\",\"The Firm\",\"The Client\",\"The Rainmaker\",\"Emma\",\"Mansfield Park\",\"A Little Princess\",\"Nick and Norah's Infinite Playlist\",\"The Secret Garden\",\"Harry Potter and the Chamber of Secrets\",\"Harry Potter and the Goblet of Fire\",\"Harry Potter and the Prisoner of Azkaban\",\"Bram Stoker's Dracula\",\"The Other Boleyn Girl\",\"The Black Dahlia\",\"Little Children\",\"Bridget Jones's Diary\",\"Trainspotting\",\"Sherlock Holmes\",\"Charlie and the Chocolate Factory\",\"High Fidelity\",\"No Country for Old Men\",\"Atonement\",\"The Lovely Bones\",\"Never Let Me Go\",\"Brideshead Revisited\",\"Stardust\",\"Jane Eyre\",\"Vanity Fair\",\"Little Women\"],\"x\":[7.68,6.78,7.6,7.22,7.6,6.46,7.5,7.22,7.62,7.52,8.12,7.24,7.54,7.72,7.95,8.62,7.68,7.72,8.64,8.48,7.96,8.1,7.24,7.98,7.800000000000001,7.32,8.02,8.15,7.34,7.48,7.88,6.89,8.08,7.926666666666667,8.22,8.26,8.02,7.98,7.74,7.66,7.46,6.22,7.68,7.72,5.6000000000000005,7.62,7.405,7.96,7.18,7.34,8.26,8.14,8.0,8.0,7.98,7.86,7.98,7.7,8.38,7.44,8.373333333333333,8.82,9.1,9.1,7.66,8.1,7.5,7.24,7.52,8.09,8.52,7.72,7.88,8.26,7.78,7.58,7.62,8.0,8.16,8.22,7.56,8.12],\"y\":[7.2,5.3,7.6,6.9,5.8,7.1,7.0,6.2,4.6,6.3,7.5,6.3,6.2,6.2,7.0,8.7,7.5,7.4,6.7,7.7,5.2,6.0,6.7,8.1,7.1,5.7,7.7,6.7,6.0,7.6,6.4,6.3,6.6,7.5,6.7,7.3,6.3,7.4,7.5,7.8,4.4,7.8,6.7,4.9,5.5,6.2,7.8,7.6,5.3,6.4,7.7,7.7,6.8,6.9,6.7,7.2,6.6,7.0,7.6,6.6,7.3,7.4,7.7,7.9,7.4,6.7,5.6,7.5,6.8,8.1,7.6,6.7,7.4,8.2,7.8,6.6,7.1,6.6,7.6,7.05,6.2,7.25],\"type\":\"scatter\"},{\"line\":{\"color\":\"blue\",\"width\":2},\"mode\":\"lines\",\"name\":\"Trendline\",\"x\":[5.6000000000000005,9.1],\"y\":[4.71218798898764,7.464457858062057],\"type\":\"scatter\"},{\"line\":{\"color\":\"black\",\"dash\":\"dash\",\"width\":2},\"mode\":\"lines\",\"name\":\"y = x Line\",\"x\":[5.6000000000000005,8.7],\"y\":[5.6000000000000005,8.7],\"type\":\"scatter\"}],                        {\"template\":{\"data\":{\"histogram2dcontour\":[{\"type\":\"histogram2dcontour\",\"colorbar\":{\"outlinewidth\":0,\"ticks\":\"\"},\"colorscale\":[[0.0,\"#0d0887\"],[0.1111111111111111,\"#46039f\"],[0.2222222222222222,\"#7201a8\"],[0.3333333333333333,\"#9c179e\"],[0.4444444444444444,\"#bd3786\"],[0.5555555555555556,\"#d8576b\"],[0.6666666666666666,\"#ed7953\"],[0.7777777777777778,\"#fb9f3a\"],[0.8888888888888888,\"#fdca26\"],[1.0,\"#f0f921\"]]}],\"choropleth\":[{\"type\":\"choropleth\",\"colorbar\":{\"outlinewidth\":0,\"ticks\":\"\"}}],\"histogram2d\":[{\"type\":\"histogram2d\",\"colorbar\":{\"outlinewidth\":0,\"ticks\":\"\"},\"colorscale\":[[0.0,\"#0d0887\"],[0.1111111111111111,\"#46039f\"],[0.2222222222222222,\"#7201a8\"],[0.3333333333333333,\"#9c179e\"],[0.4444444444444444,\"#bd3786\"],[0.5555555555555556,\"#d8576b\"],[0.6666666666666666,\"#ed7953\"],[0.7777777777777778,\"#fb9f3a\"],[0.8888888888888888,\"#fdca26\"],[1.0,\"#f0f921\"]]}],\"heatmap\":[{\"type\":\"heatmap\",\"colorbar\":{\"outlinewidth\":0,\"ticks\":\"\"},\"colorscale\":[[0.0,\"#0d0887\"],[0.1111111111111111,\"#46039f\"],[0.2222222222222222,\"#7201a8\"],[0.3333333333333333,\"#9c179e\"],[0.4444444444444444,\"#bd3786\"],[0.5555555555555556,\"#d8576b\"],[0.6666666666666666,\"#ed7953\"],[0.7777777777777778,\"#fb9f3a\"],[0.8888888888888888,\"#fdca26\"],[1.0,\"#f0f921\"]]}],\"heatmapgl\":[{\"type\":\"heatmapgl\",\"colorbar\":{\"outlinewidth\":0,\"ticks\":\"\"},\"colorscale\":[[0.0,\"#0d0887\"],[0.1111111111111111,\"#46039f\"],[0.2222222222222222,\"#7201a8\"],[0.3333333333333333,\"#9c179e\"],[0.4444444444444444,\"#bd3786\"],[0.5555555555555556,\"#d8576b\"],[0.6666666666666666,\"#ed7953\"],[0.7777777777777778,\"#fb9f3a\"],[0.8888888888888888,\"#fdca26\"],[1.0,\"#f0f921\"]]}],\"contourcarpet\":[{\"type\":\"contourcarpet\",\"colorbar\":{\"outlinewidth\":0,\"ticks\":\"\"}}],\"contour\":[{\"type\":\"contour\",\"colorbar\":{\"outlinewidth\":0,\"ticks\":\"\"},\"colorscale\":[[0.0,\"#0d0887\"],[0.1111111111111111,\"#46039f\"],[0.2222222222222222,\"#7201a8\"],[0.3333333333333333,\"#9c179e\"],[0.4444444444444444,\"#bd3786\"],[0.5555555555555556,\"#d8576b\"],[0.6666666666666666,\"#ed7953\"],[0.7777777777777778,\"#fb9f3a\"],[0.8888888888888888,\"#fdca26\"],[1.0,\"#f0f921\"]]}],\"surface\":[{\"type\":\"surface\",\"colorbar\":{\"outlinewidth\":0,\"ticks\":\"\"},\"colorscale\":[[0.0,\"#0d0887\"],[0.1111111111111111,\"#46039f\"],[0.2222222222222222,\"#7201a8\"],[0.3333333333333333,\"#9c179e\"],[0.4444444444444444,\"#bd3786\"],[0.5555555555555556,\"#d8576b\"],[0.6666666666666666,\"#ed7953\"],[0.7777777777777778,\"#fb9f3a\"],[0.8888888888888888,\"#fdca26\"],[1.0,\"#f0f921\"]]}],\"mesh3d\":[{\"type\":\"mesh3d\",\"colorbar\":{\"outlinewidth\":0,\"ticks\":\"\"}}],\"scatter\":[{\"fillpattern\":{\"fillmode\":\"overlay\",\"size\":10,\"solidity\":0.2},\"type\":\"scatter\"}],\"parcoords\":[{\"type\":\"parcoords\",\"line\":{\"colorbar\":{\"outlinewidth\":0,\"ticks\":\"\"}}}],\"scatterpolargl\":[{\"type\":\"scatterpolargl\",\"marker\":{\"colorbar\":{\"outlinewidth\":0,\"ticks\":\"\"}}}],\"bar\":[{\"error_x\":{\"color\":\"#2a3f5f\"},\"error_y\":{\"color\":\"#2a3f5f\"},\"marker\":{\"line\":{\"color\":\"#E5ECF6\",\"width\":0.5},\"pattern\":{\"fillmode\":\"overlay\",\"size\":10,\"solidity\":0.2}},\"type\":\"bar\"}],\"scattergeo\":[{\"type\":\"scattergeo\",\"marker\":{\"colorbar\":{\"outlinewidth\":0,\"ticks\":\"\"}}}],\"scatterpolar\":[{\"type\":\"scatterpolar\",\"marker\":{\"colorbar\":{\"outlinewidth\":0,\"ticks\":\"\"}}}],\"histogram\":[{\"marker\":{\"pattern\":{\"fillmode\":\"overlay\",\"size\":10,\"solidity\":0.2}},\"type\":\"histogram\"}],\"scattergl\":[{\"type\":\"scattergl\",\"marker\":{\"colorbar\":{\"outlinewidth\":0,\"ticks\":\"\"}}}],\"scatter3d\":[{\"type\":\"scatter3d\",\"line\":{\"colorbar\":{\"outlinewidth\":0,\"ticks\":\"\"}},\"marker\":{\"colorbar\":{\"outlinewidth\":0,\"ticks\":\"\"}}}],\"scattermapbox\":[{\"type\":\"scattermapbox\",\"marker\":{\"colorbar\":{\"outlinewidth\":0,\"ticks\":\"\"}}}],\"scatterternary\":[{\"type\":\"scatterternary\",\"marker\":{\"colorbar\":{\"outlinewidth\":0,\"ticks\":\"\"}}}],\"scattercarpet\":[{\"type\":\"scattercarpet\",\"marker\":{\"colorbar\":{\"outlinewidth\":0,\"ticks\":\"\"}}}],\"carpet\":[{\"aaxis\":{\"endlinecolor\":\"#2a3f5f\",\"gridcolor\":\"white\",\"linecolor\":\"white\",\"minorgridcolor\":\"white\",\"startlinecolor\":\"#2a3f5f\"},\"baxis\":{\"endlinecolor\":\"#2a3f5f\",\"gridcolor\":\"white\",\"linecolor\":\"white\",\"minorgridcolor\":\"white\",\"startlinecolor\":\"#2a3f5f\"},\"type\":\"carpet\"}],\"table\":[{\"cells\":{\"fill\":{\"color\":\"#EBF0F8\"},\"line\":{\"color\":\"white\"}},\"header\":{\"fill\":{\"color\":\"#C8D4E3\"},\"line\":{\"color\":\"white\"}},\"type\":\"table\"}],\"barpolar\":[{\"marker\":{\"line\":{\"color\":\"#E5ECF6\",\"width\":0.5},\"pattern\":{\"fillmode\":\"overlay\",\"size\":10,\"solidity\":0.2}},\"type\":\"barpolar\"}],\"pie\":[{\"automargin\":true,\"type\":\"pie\"}]},\"layout\":{\"autotypenumbers\":\"strict\",\"colorway\":[\"#636efa\",\"#EF553B\",\"#00cc96\",\"#ab63fa\",\"#FFA15A\",\"#19d3f3\",\"#FF6692\",\"#B6E880\",\"#FF97FF\",\"#FECB52\"],\"font\":{\"color\":\"#2a3f5f\"},\"hovermode\":\"closest\",\"hoverlabel\":{\"align\":\"left\"},\"paper_bgcolor\":\"white\",\"plot_bgcolor\":\"#E5ECF6\",\"polar\":{\"bgcolor\":\"#E5ECF6\",\"angularaxis\":{\"gridcolor\":\"white\",\"linecolor\":\"white\",\"ticks\":\"\"},\"radialaxis\":{\"gridcolor\":\"white\",\"linecolor\":\"white\",\"ticks\":\"\"}},\"ternary\":{\"bgcolor\":\"#E5ECF6\",\"aaxis\":{\"gridcolor\":\"white\",\"linecolor\":\"white\",\"ticks\":\"\"},\"baxis\":{\"gridcolor\":\"white\",\"linecolor\":\"white\",\"ticks\":\"\"},\"caxis\":{\"gridcolor\":\"white\",\"linecolor\":\"white\",\"ticks\":\"\"}},\"coloraxis\":{\"colorbar\":{\"outlinewidth\":0,\"ticks\":\"\"}},\"colorscale\":{\"sequential\":[[0.0,\"#0d0887\"],[0.1111111111111111,\"#46039f\"],[0.2222222222222222,\"#7201a8\"],[0.3333333333333333,\"#9c179e\"],[0.4444444444444444,\"#bd3786\"],[0.5555555555555556,\"#d8576b\"],[0.6666666666666666,\"#ed7953\"],[0.7777777777777778,\"#fb9f3a\"],[0.8888888888888888,\"#fdca26\"],[1.0,\"#f0f921\"]],\"sequentialminus\":[[0.0,\"#0d0887\"],[0.1111111111111111,\"#46039f\"],[0.2222222222222222,\"#7201a8\"],[0.3333333333333333,\"#9c179e\"],[0.4444444444444444,\"#bd3786\"],[0.5555555555555556,\"#d8576b\"],[0.6666666666666666,\"#ed7953\"],[0.7777777777777778,\"#fb9f3a\"],[0.8888888888888888,\"#fdca26\"],[1.0,\"#f0f921\"]],\"diverging\":[[0,\"#8e0152\"],[0.1,\"#c51b7d\"],[0.2,\"#de77ae\"],[0.3,\"#f1b6da\"],[0.4,\"#fde0ef\"],[0.5,\"#f7f7f7\"],[0.6,\"#e6f5d0\"],[0.7,\"#b8e186\"],[0.8,\"#7fbc41\"],[0.9,\"#4d9221\"],[1,\"#276419\"]]},\"xaxis\":{\"gridcolor\":\"white\",\"linecolor\":\"white\",\"ticks\":\"\",\"title\":{\"standoff\":15},\"zerolinecolor\":\"white\",\"automargin\":true,\"zerolinewidth\":2},\"yaxis\":{\"gridcolor\":\"white\",\"linecolor\":\"white\",\"ticks\":\"\",\"title\":{\"standoff\":15},\"zerolinecolor\":\"white\",\"automargin\":true,\"zerolinewidth\":2},\"scene\":{\"xaxis\":{\"backgroundcolor\":\"#E5ECF6\",\"gridcolor\":\"white\",\"linecolor\":\"white\",\"showbackground\":true,\"ticks\":\"\",\"zerolinecolor\":\"white\",\"gridwidth\":2},\"yaxis\":{\"backgroundcolor\":\"#E5ECF6\",\"gridcolor\":\"white\",\"linecolor\":\"white\",\"showbackground\":true,\"ticks\":\"\",\"zerolinecolor\":\"white\",\"gridwidth\":2},\"zaxis\":{\"backgroundcolor\":\"#E5ECF6\",\"gridcolor\":\"white\",\"linecolor\":\"white\",\"showbackground\":true,\"ticks\":\"\",\"zerolinecolor\":\"white\",\"gridwidth\":2}},\"shapedefaults\":{\"line\":{\"color\":\"#2a3f5f\"}},\"annotationdefaults\":{\"arrowcolor\":\"#2a3f5f\",\"arrowhead\":0,\"arrowwidth\":1},\"geo\":{\"bgcolor\":\"white\",\"landcolor\":\"#E5ECF6\",\"subunitcolor\":\"white\",\"showland\":true,\"showlakes\":true,\"lakecolor\":\"white\"},\"title\":{\"x\":0.05},\"mapbox\":{\"style\":\"light\"}}},\"legend\":{\"font\":{\"size\":12},\"title\":{\"text\":\"Key\"},\"x\":0,\"y\":1,\"xanchor\":\"right\"},\"title\":{\"text\":\"Comparing Book and Movie Adaptation Ratings\"},\"xaxis\":{\"title\":{\"text\":\"Book Rating\"}},\"yaxis\":{\"title\":{\"text\":\"IMDb Rating\"}},\"width\":1000,\"height\":700,\"plot_bgcolor\":\"#dbdbd9\"},                        {\"responsive\": true}                    ).then(function(){\n",
       "                            \n",
       "var gd = document.getElementById('d46eed46-7049-46e2-bd44-a16643a11cc0');\n",
       "var x = new MutationObserver(function (mutations, observer) {{\n",
       "        var display = window.getComputedStyle(gd).display;\n",
       "        if (!display || display === 'none') {{\n",
       "            console.log([gd, 'removed!']);\n",
       "            Plotly.purge(gd);\n",
       "            observer.disconnect();\n",
       "        }}\n",
       "}});\n",
       "\n",
       "// Listen for the removal of the full notebook cells\n",
       "var notebookContainer = gd.closest('#notebook-container');\n",
       "if (notebookContainer) {{\n",
       "    x.observe(notebookContainer, {childList: true});\n",
       "}}\n",
       "\n",
       "// Listen for the clearing of the current output cell\n",
       "var outputEl = gd.closest('.output');\n",
       "if (outputEl) {{\n",
       "    x.observe(outputEl, {childList: true});\n",
       "}}\n",
       "\n",
       "                        })                };                });            </script>        </div>"
      ]
     },
     "metadata": {},
     "output_type": "display_data"
    }
   ],
   "source": [
    "# This code was developed with the assistance of ChatGPT (OpenAI), December 3rd, 2024.\n",
    "import plotly.graph_objects as go\n",
    "import pandas as pd\n",
    "import numpy as np\n",
    "\n",
    "# Load data\n",
    "data = pd.read_csv('scaled_book_movie_data.csv')\n",
    "\n",
    "# Calculate trendline\n",
    "coefficients = np.polyfit(data['Book Rating'], data['IMDb Rating'], 1)\n",
    "trendline = np.poly1d(coefficients)\n",
    "\n",
    "# Define the diagonal line (y = x) within the data range\n",
    "min_val = max(data['IMDb Rating'].min(), data['Book Rating'].min())\n",
    "max_val = min(data['IMDb Rating'].max(), data['Book Rating'].max())\n",
    "\n",
    "# Set diverging color scale\n",
    "diverging_colorscale = [\n",
    "    [0.0, \"red\"],  # Lowest value\n",
    "    [0.5, \"white\"], # Midpoint (0)\n",
    "    [1.0, \"blue\"]    # Highest value\n",
    "]\n",
    "\n",
    "# Create plot\n",
    "fig = go.Figure([\n",
    "    go.Scatter(\n",
    "        x=data['Book Rating'], \n",
    "        y=data['IMDb Rating'],\n",
    "        mode='markers', \n",
    "        marker=dict(\n",
    "            color=data['Rating Difference'],\n",
    "            colorscale=diverging_colorscale,  # Diverging color scale\n",
    "            cmid=0,   # Set midpoint to 0\n",
    "            showscale=True,\n",
    "            #colorscale='RdBu',\n",
    "            colorbar=dict(\n",
    "                title=\"Rating Difference (books = +, movies = -) \")\n",
    "        ),\n",
    "        #labelalias={0: \"0 = no difference\", 3: \"3 = books have a higher rating\", -1.5: \"-1.5 = movies have a higher rating\"},\n",
    "        text=data['Title'], \n",
    "        name='Ratings',\n",
    "        hovertemplate='Book: %{text}<br>Book Rating: %{x}<br>Movie Rating: %{y}'\n",
    "    ),\n",
    "    go.Scatter(\n",
    "        x=[data['Book Rating'].min(), data['Book Rating'].max()],\n",
    "        y=trendline([data['IMDb Rating'].min(), data['IMDb Rating'].max()]),\n",
    "        mode='lines', line=dict(color='blue', width=2),\n",
    "        name='Trendline'\n",
    "    ),\n",
    "    go.Scatter(\n",
    "        x=[min_val, max_val],\n",
    "        y=[min_val, max_val],\n",
    "        mode='lines',\n",
    "        line=dict(color='black', width=2, dash='dash'),\n",
    "        name='y = x Line'\n",
    "    )\n",
    "])\n",
    "\n",
    "# Update layout\n",
    "fig.update_layout(\n",
    "    title='Comparing Book and Movie Adaptation Ratings',\n",
    "    xaxis_title='Book Rating',\n",
    "    yaxis_title='IMDb Rating',\n",
    "    legend=dict(\n",
    "        title=\"Key\",\n",
    "        x=0,              # Position the legend to the right of the plot\n",
    "        y=1,                # Align the top of the legend with the plot\n",
    "        xanchor='right',    # Anchor the legend's right side\n",
    "        font=dict(size=12),  # Adjust font size if necessary\n",
    "    ),\n",
    "    width=1000,  # Set the width of the plot\n",
    "    height=700, # Set the height of the plot \n",
    "    plot_bgcolor='#dbdbd9',  # Slightly darker background  \n",
    ")\n",
    "\n",
    "fig.show()"
   ]
  },
  {
   "cell_type": "markdown",
   "id": "74bbcbaf-6163-4718-8454-e0c02ea6dfc1",
   "metadata": {},
   "source": [
    "### Step 3: Analysis  |  Examine and interpret results\n",
    "In this step I applied explanations learned from [TheDataScientist Website](https://thedatascientist.com/how-to-do-a-t-test-in-python/) on conducting an one sample and independent two sample t-test. \n",
    "\n",
    "- **Part A:** Analyzing the average **rating differences** between books and movies (one sample t-test)\n",
    "- **Part B:** Analyzing the average **rating** between books and movies (two sample t-test)\n",
    "\n",
    "##### Summary of Assumptions:\n",
    "- for part B: that the t-test should be independent. While I explained my justification for this in the Procedures & Justifications section, I acknowledge that this can be incorrect!\n",
    "- for part a and b: an alpha level value of 0.05 being suitable for this test\n"
   ]
  },
  {
   "cell_type": "markdown",
   "id": "52c62788-9e90-4762-a8f3-753eb2220c17",
   "metadata": {},
   "source": [
    "#### Part A: Analyzing the average rating differences between books and movies\n",
    "For this test I chose to conduct a one sample t-test to see if the mean difference between book and movie adaptations ratings is significant or not. On the scatter plot, the trend of more blue points (higher book ratings) than read points (higher movie adaptation ratings) made me wonder if this was actually true in this dataset or not. Because of this I created these hypotheses to test it:\n",
    "\n",
    "- My null hypothesis: the mean difference between of book and movie adaptations ratings **won't** be statistically different. Mean difference between book and movie adaptations ratings <= hypothetical mean difference of 0.\n",
    "- My alternative hypothesis: the mean difference between of book and movie adaptations ratings  **will** be statistically different. Mean difference between book and movie adaptations ratings >  hypothetical mean difference of 0.\n",
    "(note: 0 represents the hypothetical mean difference because if there was no difference between book and movie ratings it should be 0)\n",
    "\n",
    "After determining my hypotheses, I worked on compiling the relevant data I needed from my scaled_book_movie_data.csv dataset, which was the rating_difference. Then I worked on calculating other information I needed for the t-test such as mean difference (0.903719512195122 points) and standard deviation (0.7989574954134917). In this section I also calculated the percentage of time book ratings or movie ratings were high than each other using the difference between them for analysis later in the Findings section."
   ]
  },
  {
   "cell_type": "code",
   "execution_count": 63,
   "id": "027ea419-07eb-4dd2-84d0-da1785a6bd58",
   "metadata": {},
   "outputs": [
    {
     "name": "stdout",
     "output_type": "stream",
     "text": [
      "rating difference mean:  0.903719512195122\n",
      "rating difference sd:  0.7989574954134917\n",
      "\n",
      "% of time with higher book ratings: 86.58536585365853\n",
      "% of time with higher movie ratings: 12.195121951219512\n",
      "% of time with neutral ratings: 1.2195121951219512\n"
     ]
    }
   ],
   "source": [
    "# import necessary packages for this analysis\n",
    "from numpy.random import normal\n",
    "from scipy.stats import ttest_ind, ttest_1samp\n",
    "import statistics\n",
    "\n",
    "# create two seperate lists of book and movie ratings\n",
    "list_of_rating_diff = []\n",
    "\n",
    "for item in scaled_book_movie_data:\n",
    "    list_of_rating_diff.append(item[\"Rating Difference\"])\n",
    "\n",
    "# find means for books and movie ratings\n",
    "rating_diff_mean = statistics.mean(list_of_rating_diff)\n",
    "print(\"rating difference mean: \", rating_diff_mean)\n",
    "\n",
    "# find sd for books and movie ratings \n",
    "rating_diff_sd = statistics.stdev(list_of_rating_diff)\n",
    "print(\"rating difference sd: \", rating_diff_sd)\n",
    "print()\n",
    "\n",
    "# (this work is realted to my subreserach questions at the start)\n",
    "# % of time book ratings are higher vs movie ratings or equal\n",
    "book_rating_higher_count = 0\n",
    "movie_rating_higher_count = 0\n",
    "neutral_rating_count = 0\n",
    "\n",
    "# >0 = books, 0= netural, <0 = movies\n",
    "for item in list_of_rating_diff:\n",
    "    if item > 0:\n",
    "        book_rating_higher_count += 1\n",
    "    elif  item < 0:\n",
    "        movie_rating_higher_count += 1\n",
    "    else:\n",
    "        neutral_rating_count += 1\n",
    "\n",
    "print(\"% of time with higher book ratings:\",book_rating_higher_count/82 *100)\n",
    "print(\"% of time with higher movie ratings:\",movie_rating_higher_count/82 *100)\n",
    "print(\"% of time with neutral ratings:\",neutral_rating_count/82 *100)\n"
   ]
  },
  {
   "cell_type": "markdown",
   "id": "73c82872-2b7b-4fe4-bfd6-b794f2779cd3",
   "metadata": {},
   "source": [
    "Using this information, I created a normal distribution sample with the mean, standard deviation, and the sample size. Using the python Statistics packages ttest_1samp function I conducted the one sample t-test to produce a t-value (11.125896680107166) and a p-value (5.474319598518781e-18). \r\n",
    "\r\n",
    "As I learned from  [TheDataScientist Website](https://thedatascientist.com/how-to-do-a-t-test-in-python/), in order to reject my null hypothesis my p-value must be less than or equal to my alpha value of 0.05. Otherwise it is great I would fail to reject my null hypothesis. Because 5.474319598518781e-18 is smaller than 0.05 I am able to reject my null hypothesis! This means the mean difference between book and movie adaptations ratings is greater than the hypothetical mean difference of 0. I’m not confident I can go as far as saying book ratings are higher than movies, but it does allow me to say there is a statistically significant difference between them!"
   ]
  },
  {
   "cell_type": "code",
   "execution_count": 64,
   "id": "969b1efc-1bf1-48db-8d37-ea47b5551e9c",
   "metadata": {},
   "outputs": [
    {
     "name": "stdout",
     "output_type": "stream",
     "text": [
      "rating difference sample: [ 0.13285361  1.47842427  2.44623968  1.52899359  1.82021698  0.10761826\n",
      "  1.33351928  1.04031282  1.14062116  2.73308176  0.49277167  1.18339486\n",
      "  2.43041321  0.99513274  1.13034206 -0.04186155  0.86982924  1.74643134\n",
      "  1.1613195   1.96379931  1.74957958  0.7155947   0.1760579  -0.24957325\n",
      "  2.94571037  0.6925962   1.47014743  1.83720118  0.43821331  0.72778273\n",
      "  0.7026065   2.27576479  0.50383711 -0.60415231 -0.33775889  0.81249204\n",
      "  0.93759234 -0.49599361  0.97224805 -0.10882708  1.97548981  0.29747689\n",
      "  1.72095928  0.63657116  2.12127116  1.68010368  1.4382681   1.15906646\n",
      "  0.71278011  1.91746014  2.18015368  3.11939981  1.1805993   1.01733546\n",
      "  1.10805561  1.12358674  2.20068329  0.68986351 -0.13941189  0.3342489\n",
      " -0.23561581  0.753037    1.41298005  1.79858356  0.70856232  1.13134819\n",
      " -0.94947853  0.0374361   0.7128489   1.5169007  -0.66250327  0.65620219\n",
      "  0.81374274 -0.08902573  0.87600424  1.71619025  2.35487255 -0.7620534\n",
      "  0.74196893  0.49846252  1.32983315  0.83969404]\n",
      "\n",
      "T-statistic value: 10.366045454465212\n",
      "P-Value: 1.6301568552985312e-16\n"
     ]
    }
   ],
   "source": [
    "# creating the sample \n",
    "# order ofmean, standard deviation, sample size\n",
    "sample= normal(rating_diff_mean, rating_diff_sd, len(list_of_rating_diff)) \n",
    "print(\"rating difference sample:\",sample) \n",
    "print()\n",
    "\n",
    "#conduct the test\n",
    "t_stat, p_value = ttest_1samp(sample, popmean=0)\n",
    "print(\"T-statistic value:\", t_stat)\n",
    "print(\"P-Value:\", p_value)"
   ]
  },
  {
   "cell_type": "markdown",
   "id": "95e70883-2105-434e-96b7-ced138dc44cc",
   "metadata": {},
   "source": [
    "#### Part B: Analyzing the average rating between books and movies\r\n",
    "For this test I chose to conduct an independent two sample t-test to see if the mean ratings between book and movie adaptations ratings is significant or not. Unlike with part 1, I wanted to examine book and movie rating averages instead of the averages of the differences between them. As I mentioned in the procedures and justification section I wanted to treat them independently, but I’m not sure if that is the most accurate still! These are they hypotheses I made for it:\r\n",
    "\r\n",
    "- My null hypothesis: the mean ratings of book and movie adaptations **won't** be statistically different. Book mean rating = Movie mean rating\r\n",
    "- My alternative hypothesis: the mean ratings of book and movie adaptations **will** be statistically different. Book mean rating != Movie mean rating\r\n",
    "\r\n",
    "From here, similarly to in part a, I worked on compiling the relevant data I needed from my scaled_book_movie_data.csv dataset, which was the book_rating and IMBd_rating. Then I worked on calculating other information I needed for the t-test such as means of each type of rating (book = 7.778109756097561 points & movie = 6.874390243902439 points) and the standard deviations of each type (book = 0.5524969981232418 & movie = 0.8507891725920939).\r\n"
   ]
  },
  {
   "cell_type": "code",
   "execution_count": 65,
   "id": "27cc5a3d-c369-4711-b3e8-38c77274e768",
   "metadata": {},
   "outputs": [
    {
     "name": "stdout",
     "output_type": "stream",
     "text": [
      "book mean:  7.778109756097561\n",
      "movie mean:  6.874390243902439\n",
      "\n",
      "book sd:  0.5524969981232418\n",
      "movie sd:  0.8507891725920939\n"
     ]
    }
   ],
   "source": [
    "# import necessary packages for this analysis\n",
    "from numpy.random import normal\n",
    "from scipy.stats import ttest_ind\n",
    "import statistics\n",
    "\n",
    "# create two seperate lists of book and movie ratings\n",
    "list_of_book_rating = []\n",
    "list_of_movie_rating = []\n",
    "\n",
    "for item in scaled_book_movie_data:\n",
    "    list_of_book_rating.append(item[\"Book Rating\"])\n",
    "    list_of_movie_rating.append(item[\"IMDb Rating\"])\n",
    "\n",
    "# find means for books and movie ratings\n",
    "book_mean_rating = statistics.mean(list_of_book_rating)\n",
    "print(\"book mean: \", book_mean_rating)\n",
    "\n",
    "movie_mean_rating = statistics.mean(list_of_movie_rating)\n",
    "print(\"movie mean: \", movie_mean_rating)\n",
    "\n",
    "print()\n",
    "\n",
    "# find sd for books and movie ratings \n",
    "book_sd_rating = statistics.stdev(list_of_book_rating)\n",
    "print(\"book sd: \", book_sd_rating)\n",
    "\n",
    "movie_sd_rating = statistics.stdev(list_of_movie_rating)\n",
    "print(\"movie sd: \", movie_sd_rating)   "
   ]
  },
  {
   "cell_type": "markdown",
   "id": "8d3c8222-c790-462d-aefc-a777be453269",
   "metadata": {},
   "source": [
    "Using this information, I created a normal distribution sample with the mean, standard deviation, and the sample size for each rating type. Using the python Statistics packages ttest_ind function I conducted the two sample independent t-test to produce a t-value (8.275604581599433) and a p-value (4.472423025543725e-14). \r\n",
    "\r\n",
    "As I learned from  [TheDataScientist Website](https://thedatascientist.com/how-to-do-a-t-test-in-python/), for a two sample t-test in order to reject my null hypothesis my p-value must be less than or equal to my alpha value of 0.05. Otherwise it is great I would fail to reject my null hypothesis. Because 4.472423025543725e-14 is smaller than 0.05 I am able to reject my null hypothesis! This means the mean ratings between book and movie adaptations are not equal. Their mean ratings can be greater or less than each other which is another way of saying they are statistically different in some way!"
   ]
  },
  {
   "cell_type": "code",
   "execution_count": 66,
   "id": "293c5590-b40b-4b77-9e71-9192189d1319",
   "metadata": {},
   "outputs": [
    {
     "name": "stdout",
     "output_type": "stream",
     "text": [
      "Sample 1 (book ratings): [7.91962929 8.22431376 7.79128069 7.34835435 7.40320386 8.29434278\n",
      " 8.06147782 8.2234432  7.81175036 7.45401085 7.23054376 7.47578232\n",
      " 7.97789282 8.21719946 8.32379141 7.95039691 8.17884661 8.7086647\n",
      " 8.2674621  8.25345212 7.14439867 7.98717458 6.48265525 8.4616614\n",
      " 7.76401869 7.84501893 6.91707634 6.91692035 7.3301421  7.27978808\n",
      " 7.76135953 8.59136515 7.47864325 7.18073128 7.25948204 7.70216151\n",
      " 7.33837317 8.17298416 8.54432707 8.28305894 8.77279107 8.02571514\n",
      " 7.7133368  8.31624074 7.2295655  6.79511203 8.49974682 7.58555877\n",
      " 8.44477529 7.6547137  7.39461241 6.25045344 8.36921998 7.78291538\n",
      " 7.75009123 7.99227134 8.63184319 8.08622891 7.02890304 8.40965413\n",
      " 8.0406403  7.54135744 7.18472427 7.6300416  7.90619794 7.50914809\n",
      " 7.25402339 6.34937432 7.15744153 7.55418065 8.64627471 7.85928566\n",
      " 8.06613132 7.52514855 7.18898611 6.98560412 7.8850081  8.10951352\n",
      " 7.46845921 7.56947895 7.69188696 7.59341035]\n",
      "Sample 2 (movie ratings): [6.99729583 6.79175513 7.39707971 7.75542712 7.88947258 6.55098312\n",
      " 8.26280827 6.81041803 7.3207917  7.04329059 7.6386049  7.22723026\n",
      " 7.47142412 6.58296505 8.01341414 7.0129901  6.03813144 7.23507026\n",
      " 7.3128727  6.9119384  6.44051591 7.89345763 7.73785341 5.22711545\n",
      " 7.75365295 9.08735126 6.75253136 6.38387466 5.44459311 7.51602032\n",
      " 8.01516873 6.83234408 6.1870986  8.6821764  4.92346207 6.49863557\n",
      " 6.26910752 7.49065698 5.96336562 7.1525338  7.36486976 5.65087789\n",
      " 6.61358002 8.13086514 6.74738588 6.34603359 8.6183992  5.8253726\n",
      " 7.11195538 7.79611669 7.28296364 6.25265109 5.5813905  6.94221703\n",
      " 7.68891752 7.86425629 7.20535317 8.00021071 8.03347648 6.0869417\n",
      " 6.96548384 6.52004171 6.09375646 7.97905114 6.36638899 5.9136051\n",
      " 6.24382485 8.73530818 6.76744107 6.88593313 5.86235678 6.64273382\n",
      " 7.80087433 6.37128335 7.43742648 6.06256294 8.07922683 6.83572241\n",
      " 6.95387071 7.27115863 5.80017955 7.16936468]\n",
      "\n",
      "T-statistic value: 6.585915166318943\n",
      "P-Value: 6.015433492394677e-10\n"
     ]
    }
   ],
   "source": [
    "# creating two independent sample groups\n",
    "# normal fucntion parameter order (mean, standard deviation, sample size\n",
    "sample1= normal(book_mean_rating, book_sd_rating, len(list_of_book_rating)) \n",
    "sample2=normal(movie_mean_rating, movie_sd_rating, len(list_of_movie_rating)) \n",
    "print(\"Sample 1 (book ratings):\",sample1) \n",
    "print(\"Sample 2 (movie ratings):\",sample2)\n",
    "print()\n",
    "\n",
    "#conduct the test\n",
    "t_stat, p_value = ttest_ind(sample1, sample2) \n",
    "print(\"T-statistic value:\", t_stat)\n",
    "print(\"P-Value:\", p_value)"
   ]
  },
  {
   "attachments": {
    "860f6063-3b17-4d34-bdae-99165a8788f8.png": {
     "image/png": "[encoded data removed]"
    }
   },
   "cell_type": "markdown",
   "id": "0f567552-e069-4a0a-9fbc-3db703e72c3c",
   "metadata": {},
   "source": [
    "## Findings\n",
    "*note: I’ve readded a photo and code for the scatter plot so it can be examined here! Feel free to move your cursor over the data points to learn more about it \n",
    "![HCDE 410 - A7 Final Scatter Plot.png](attachment:860f6063-3b17-4d34-bdae-99165a8788f8.png)\n",
    "\n",
    "For this dataset, there were two findings that were important to start answering the question if books are better than movies in this dataset of 82 unique books with movie adaptations.\n",
    "\n",
    "**Finding 1: There is a statistically significant difference between book and movie ratings**\n",
    "I learned this with two types of t-tests examining two ways that book and movie adaptations could be different at a 95% confidence level. First it was found that it is true that the average rating difference between books and movie adaptations is greater than the expected (netural) difference of 0 (also known as no difference). Second it was found true that the average rating for books and movie adaptations were not the same. This means they can be higher or lower than each other but still show a difference exists.\n",
    "\n",
    "Both analyses show that in this dataset there is a statistically significant difference between book and movie adaptations ratings which starts to answer my main research question.\n",
    "\n",
    "**Finding 2: Books had higher ratings than their movie adaptations**\n",
    "As I mentioned in Step 2 of this procedure, when looking at the scatter plot the trendline indicates there were more data points with higher ratings than there were movie adaptations with higher ratings. Blue represented a larger book rating whereas red represented a higher movie rating. The closer the color was to white indicated that the book and movie adaption ratings were closer together. As you can see by looking at the scatter plot, there tends to be more blue points than there are red. While the ranges of colors gave a sense of the trend, I went on to calculate the percentages of the occurrence to better understand and found:\n",
    "- 86.6% of time **book** ratings were higher than movie adaption ratings\n",
    "- 12.2% of time **movie adaption** ratings were higher than book ratings\n",
    "- 1.2% of time neither book or movie adaption rating had a higher rating (they were equal)\n",
    "\n",
    "### What This Means\n",
    "**In the case of this limited dataset, there is evidence that the books included are rated higher than their movie adaptation ratings.** BUT what does this mean outside the context of this project? I will dive deeper into this in the next section.\n"
   ]
  },
  {
   "cell_type": "code",
   "execution_count": 67,
   "id": "37c1f67c-6f19-4d48-ab4d-0bac4ec7c04b",
   "metadata": {},
   "outputs": [
    {
     "data": {
      "application/vnd.plotly.v1+json": {
       "config": {
        "plotlyServerURL": "https://plot.ly"
       },
       "data": [
        {
         "hovertemplate": "Book: %{text}<br>Book Rating: %{x}<br>Movie Rating: %{y}",
         "marker": {
          "cmid": 0,
          "color": [
           0.4799999999999995,
           1.4800000000000004,
           0,
           0.3199999999999994,
           1.7999999999999998,
           -0.6399999999999997,
           0.5,
           1.0199999999999996,
           3.0200000000000005,
           1.2199999999999998,
           0.6199999999999992,
           0.9400000000000004,
           1.34,
           1.5199999999999996,
           0.9500000000000002,
           -0.08,
           0.1799999999999997,
           0.3199999999999994,
           1.9400000000000004,
           0.7800000000000002,
           2.76,
           2.1,
           0.54,
           -0.1199999999999992,
           0.7000000000000011,
           1.62,
           0.3199999999999994,
           1.4500000000000002,
           1.34,
           -0.1199999999999992,
           1.4799999999999995,
           0.5899999999999999,
           1.4800000000000004,
           0.4266666666666667,
           1.5200000000000005,
           0.96,
           1.7199999999999998,
           0.5800000000000001,
           0.2400000000000002,
           -0.1399999999999996,
           3.06,
           -1.58,
           0.9799999999999996,
           2.8199999999999994,
           0.1000000000000005,
           1.42,
           -0.3949999999999996,
           0.3600000000000003,
           1.88,
           0.9399999999999996,
           0.5599999999999996,
           0.4400000000000004,
           1.2000000000000002,
           1.0999999999999996,
           1.2800000000000002,
           0.6600000000000001,
           1.3800000000000008,
           0.7000000000000002,
           0.7800000000000011,
           0.8400000000000007,
           1.0733333333333333,
           1.42,
           1.3999999999999997,
           1.1999999999999993,
           0.2599999999999998,
           1.3999999999999997,
           1.9000000000000004,
           -0.2599999999999998,
           0.7199999999999998,
           -0.0099999999999997,
           0.92,
           1.0199999999999996,
           0.4799999999999995,
           0.0600000000000005,
           -0.0199999999999995,
           0.9800000000000004,
           0.5200000000000005,
           1.4000000000000004,
           0.5600000000000005,
           1.1700000000000008,
           1.3599999999999994,
           0.8699999999999992
          ],
          "colorbar": {
           "title": {
            "text": "Rating Difference (books = +, movies = -) "
           }
          },
          "colorscale": [
           [
            0,
            "red"
           ],
           [
            0.5,
            "white"
           ],
           [
            1,
            "blue"
           ]
          ],
          "showscale": true
         },
         "mode": "markers",
         "name": "Ratings",
         "text": [
          "20,000 Leagues Under the Sea",
          "The Scarlet Letter",
          "Dr. Jekyll and Mr. Hyde",
          "Gulliver's Travels",
          "A Farewell to Arms",
          "The Red Badge of Courage",
          "The Odyssey",
          "A Portrait of the Artist as a Young Man",
          "Paradise Lost",
          "Great Expectations",
          "Cyrano de Bergerac",
          "The Canterbury Tales",
          "The Portrait of a Lady",
          "Uncle Tom's Cabin",
          "Treasure Island",
          "The Adventures of Sherlock Holmes",
          "Wuthering Heights",
          "Of Mice and Men",
          "The Brothers Karamazov",
          "The Count of Monte Cristo",
          "Brave New World",
          "Aesop's Fables",
          "Lord Jim",
          "Benjamin Franklin",
          "The Three Musketeers",
          "Madame Bovary",
          "Hamlet",
          "Pygmalion",
          "Robinson Crusoe",
          "Romeo and Juliet",
          "A Midsummer Night's Dream",
          "Beowulf",
          "Anna Karenina",
          "The Time Machine",
          "War and Peace",
          "The Talisman",
          "Alice in Wonderland",
          "Dracula",
          "The Red and the Black",
          "A Tale of Two Cities",
          "Faust",
          "Billy Budd",
          "Ivanhoe",
          "The Sound and the Fury",
          "Crime and Punishment",
          "The Adventures of Huckleberry Finn",
          "Frankenstein",
          "David Copperfield",
          "Twilight",
          "Lord of the Flies",
          "Persuasion",
          "Sense and Sensibility",
          "I Capture the Castle",
          "The Firm",
          "The Client",
          "The Rainmaker",
          "Emma",
          "Mansfield Park",
          "A Little Princess",
          "Nick and Norah's Infinite Playlist",
          "The Secret Garden",
          "Harry Potter and the Chamber of Secrets",
          "Harry Potter and the Goblet of Fire",
          "Harry Potter and the Prisoner of Azkaban",
          "Bram Stoker's Dracula",
          "The Other Boleyn Girl",
          "The Black Dahlia",
          "Little Children",
          "Bridget Jones's Diary",
          "Trainspotting",
          "Sherlock Holmes",
          "Charlie and the Chocolate Factory",
          "High Fidelity",
          "No Country for Old Men",
          "Atonement",
          "The Lovely Bones",
          "Never Let Me Go",
          "Brideshead Revisited",
          "Stardust",
          "Jane Eyre",
          "Vanity Fair",
          "Little Women"
         ],
         "type": "scatter",
         "x": [
          7.68,
          6.78,
          7.6,
          7.22,
          7.6,
          6.46,
          7.5,
          7.22,
          7.62,
          7.52,
          8.12,
          7.24,
          7.54,
          7.72,
          7.95,
          8.62,
          7.68,
          7.72,
          8.64,
          8.48,
          7.96,
          8.1,
          7.24,
          7.98,
          7.800000000000001,
          7.32,
          8.02,
          8.15,
          7.34,
          7.48,
          7.88,
          6.89,
          8.08,
          7.926666666666667,
          8.22,
          8.26,
          8.02,
          7.98,
          7.74,
          7.66,
          7.46,
          6.22,
          7.68,
          7.72,
          5.6000000000000005,
          7.62,
          7.405,
          7.96,
          7.18,
          7.34,
          8.26,
          8.14,
          8,
          8,
          7.98,
          7.86,
          7.98,
          7.7,
          8.38,
          7.44,
          8.373333333333333,
          8.82,
          9.1,
          9.1,
          7.66,
          8.1,
          7.5,
          7.24,
          7.52,
          8.09,
          8.52,
          7.72,
          7.88,
          8.26,
          7.78,
          7.58,
          7.62,
          8,
          8.16,
          8.22,
          7.56,
          8.12
         ],
         "y": [
          7.2,
          5.3,
          7.6,
          6.9,
          5.8,
          7.1,
          7,
          6.2,
          4.6,
          6.3,
          7.5,
          6.3,
          6.2,
          6.2,
          7,
          8.7,
          7.5,
          7.4,
          6.7,
          7.7,
          5.2,
          6,
          6.7,
          8.1,
          7.1,
          5.7,
          7.7,
          6.7,
          6,
          7.6,
          6.4,
          6.3,
          6.6,
          7.5,
          6.7,
          7.3,
          6.3,
          7.4,
          7.5,
          7.8,
          4.4,
          7.8,
          6.7,
          4.9,
          5.5,
          6.2,
          7.8,
          7.6,
          5.3,
          6.4,
          7.7,
          7.7,
          6.8,
          6.9,
          6.7,
          7.2,
          6.6,
          7,
          7.6,
          6.6,
          7.3,
          7.4,
          7.7,
          7.9,
          7.4,
          6.7,
          5.6,
          7.5,
          6.8,
          8.1,
          7.6,
          6.7,
          7.4,
          8.2,
          7.8,
          6.6,
          7.1,
          6.6,
          7.6,
          7.05,
          6.2,
          7.25
         ]
        },
        {
         "line": {
          "color": "blue",
          "width": 2
         },
         "mode": "lines",
         "name": "Trendline",
         "type": "scatter",
         "x": [
          5.6000000000000005,
          9.1
         ],
         "y": [
          4.71218798898764,
          7.464457858062057
         ]
        },
        {
         "line": {
          "color": "black",
          "dash": "dash",
          "width": 2
         },
         "mode": "lines",
         "name": "y = x Line",
         "type": "scatter",
         "x": [
          5.6000000000000005,
          8.7
         ],
         "y": [
          5.6000000000000005,
          8.7
         ]
        }
       ],
       "layout": {
        "height": 700,
        "legend": {
         "font": {
          "size": 12
         },
         "title": {
          "text": "Key"
         },
         "x": 0,
         "xanchor": "right",
         "y": 1
        },
        "plot_bgcolor": "#dbdbd9",
        "template": {
         "data": {
          "bar": [
           {
            "error_x": {
             "color": "#2a3f5f"
            },
            "error_y": {
             "color": "#2a3f5f"
            },
            "marker": {
             "line": {
              "color": "#E5ECF6",
              "width": 0.5
             },
             "pattern": {
              "fillmode": "overlay",
              "size": 10,
              "solidity": 0.2
             }
            },
            "type": "bar"
           }
          ],
          "barpolar": [
           {
            "marker": {
             "line": {
              "color": "#E5ECF6",
              "width": 0.5
             },
             "pattern": {
              "fillmode": "overlay",
              "size": 10,
              "solidity": 0.2
             }
            },
            "type": "barpolar"
           }
          ],
          "carpet": [
           {
            "aaxis": {
             "endlinecolor": "#2a3f5f",
             "gridcolor": "white",
             "linecolor": "white",
             "minorgridcolor": "white",
             "startlinecolor": "#2a3f5f"
            },
            "baxis": {
             "endlinecolor": "#2a3f5f",
             "gridcolor": "white",
             "linecolor": "white",
             "minorgridcolor": "white",
             "startlinecolor": "#2a3f5f"
            },
            "type": "carpet"
           }
          ],
          "choropleth": [
           {
            "colorbar": {
             "outlinewidth": 0,
             "ticks": ""
            },
            "type": "choropleth"
           }
          ],
          "contour": [
           {
            "colorbar": {
             "outlinewidth": 0,
             "ticks": ""
            },
            "colorscale": [
             [
              0,
              "#0d0887"
             ],
             [
              0.1111111111111111,
              "#46039f"
             ],
             [
              0.2222222222222222,
              "#7201a8"
             ],
             [
              0.3333333333333333,
              "#9c179e"
             ],
             [
              0.4444444444444444,
              "#bd3786"
             ],
             [
              0.5555555555555556,
              "#d8576b"
             ],
             [
              0.6666666666666666,
              "#ed7953"
             ],
             [
              0.7777777777777778,
              "#fb9f3a"
             ],
             [
              0.8888888888888888,
              "#fdca26"
             ],
             [
              1,
              "#f0f921"
             ]
            ],
            "type": "contour"
           }
          ],
          "contourcarpet": [
           {
            "colorbar": {
             "outlinewidth": 0,
             "ticks": ""
            },
            "type": "contourcarpet"
           }
          ],
          "heatmap": [
           {
            "colorbar": {
             "outlinewidth": 0,
             "ticks": ""
            },
            "colorscale": [
             [
              0,
              "#0d0887"
             ],
             [
              0.1111111111111111,
              "#46039f"
             ],
             [
              0.2222222222222222,
              "#7201a8"
             ],
             [
              0.3333333333333333,
              "#9c179e"
             ],
             [
              0.4444444444444444,
              "#bd3786"
             ],
             [
              0.5555555555555556,
              "#d8576b"
             ],
             [
              0.6666666666666666,
              "#ed7953"
             ],
             [
              0.7777777777777778,
              "#fb9f3a"
             ],
             [
              0.8888888888888888,
              "#fdca26"
             ],
             [
              1,
              "#f0f921"
             ]
            ],
            "type": "heatmap"
           }
          ],
          "heatmapgl": [
           {
            "colorbar": {
             "outlinewidth": 0,
             "ticks": ""
            },
            "colorscale": [
             [
              0,
              "#0d0887"
             ],
             [
              0.1111111111111111,
              "#46039f"
             ],
             [
              0.2222222222222222,
              "#7201a8"
             ],
             [
              0.3333333333333333,
              "#9c179e"
             ],
             [
              0.4444444444444444,
              "#bd3786"
             ],
             [
              0.5555555555555556,
              "#d8576b"
             ],
             [
              0.6666666666666666,
              "#ed7953"
             ],
             [
              0.7777777777777778,
              "#fb9f3a"
             ],
             [
              0.8888888888888888,
              "#fdca26"
             ],
             [
              1,
              "#f0f921"
             ]
            ],
            "type": "heatmapgl"
           }
          ],
          "histogram": [
           {
            "marker": {
             "pattern": {
              "fillmode": "overlay",
              "size": 10,
              "solidity": 0.2
             }
            },
            "type": "histogram"
           }
          ],
          "histogram2d": [
           {
            "colorbar": {
             "outlinewidth": 0,
             "ticks": ""
            },
            "colorscale": [
             [
              0,
              "#0d0887"
             ],
             [
              0.1111111111111111,
              "#46039f"
             ],
             [
              0.2222222222222222,
              "#7201a8"
             ],
             [
              0.3333333333333333,
              "#9c179e"
             ],
             [
              0.4444444444444444,
              "#bd3786"
             ],
             [
              0.5555555555555556,
              "#d8576b"
             ],
             [
              0.6666666666666666,
              "#ed7953"
             ],
             [
              0.7777777777777778,
              "#fb9f3a"
             ],
             [
              0.8888888888888888,
              "#fdca26"
             ],
             [
              1,
              "#f0f921"
             ]
            ],
            "type": "histogram2d"
           }
          ],
          "histogram2dcontour": [
           {
            "colorbar": {
             "outlinewidth": 0,
             "ticks": ""
            },
            "colorscale": [
             [
              0,
              "#0d0887"
             ],
             [
              0.1111111111111111,
              "#46039f"
             ],
             [
              0.2222222222222222,
              "#7201a8"
             ],
             [
              0.3333333333333333,
              "#9c179e"
             ],
             [
              0.4444444444444444,
              "#bd3786"
             ],
             [
              0.5555555555555556,
              "#d8576b"
             ],
             [
              0.6666666666666666,
              "#ed7953"
             ],
             [
              0.7777777777777778,
              "#fb9f3a"
             ],
             [
              0.8888888888888888,
              "#fdca26"
             ],
             [
              1,
              "#f0f921"
             ]
            ],
            "type": "histogram2dcontour"
           }
          ],
          "mesh3d": [
           {
            "colorbar": {
             "outlinewidth": 0,
             "ticks": ""
            },
            "type": "mesh3d"
           }
          ],
          "parcoords": [
           {
            "line": {
             "colorbar": {
              "outlinewidth": 0,
              "ticks": ""
             }
            },
            "type": "parcoords"
           }
          ],
          "pie": [
           {
            "automargin": true,
            "type": "pie"
           }
          ],
          "scatter": [
           {
            "fillpattern": {
             "fillmode": "overlay",
             "size": 10,
             "solidity": 0.2
            },
            "type": "scatter"
           }
          ],
          "scatter3d": [
           {
            "line": {
             "colorbar": {
              "outlinewidth": 0,
              "ticks": ""
             }
            },
            "marker": {
             "colorbar": {
              "outlinewidth": 0,
              "ticks": ""
             }
            },
            "type": "scatter3d"
           }
          ],
          "scattercarpet": [
           {
            "marker": {
             "colorbar": {
              "outlinewidth": 0,
              "ticks": ""
             }
            },
            "type": "scattercarpet"
           }
          ],
          "scattergeo": [
           {
            "marker": {
             "colorbar": {
              "outlinewidth": 0,
              "ticks": ""
             }
            },
            "type": "scattergeo"
           }
          ],
          "scattergl": [
           {
            "marker": {
             "colorbar": {
              "outlinewidth": 0,
              "ticks": ""
             }
            },
            "type": "scattergl"
           }
          ],
          "scattermapbox": [
           {
            "marker": {
             "colorbar": {
              "outlinewidth": 0,
              "ticks": ""
             }
            },
            "type": "scattermapbox"
           }
          ],
          "scatterpolar": [
           {
            "marker": {
             "colorbar": {
              "outlinewidth": 0,
              "ticks": ""
             }
            },
            "type": "scatterpolar"
           }
          ],
          "scatterpolargl": [
           {
            "marker": {
             "colorbar": {
              "outlinewidth": 0,
              "ticks": ""
             }
            },
            "type": "scatterpolargl"
           }
          ],
          "scatterternary": [
           {
            "marker": {
             "colorbar": {
              "outlinewidth": 0,
              "ticks": ""
             }
            },
            "type": "scatterternary"
           }
          ],
          "surface": [
           {
            "colorbar": {
             "outlinewidth": 0,
             "ticks": ""
            },
            "colorscale": [
             [
              0,
              "#0d0887"
             ],
             [
              0.1111111111111111,
              "#46039f"
             ],
             [
              0.2222222222222222,
              "#7201a8"
             ],
             [
              0.3333333333333333,
              "#9c179e"
             ],
             [
              0.4444444444444444,
              "#bd3786"
             ],
             [
              0.5555555555555556,
              "#d8576b"
             ],
             [
              0.6666666666666666,
              "#ed7953"
             ],
             [
              0.7777777777777778,
              "#fb9f3a"
             ],
             [
              0.8888888888888888,
              "#fdca26"
             ],
             [
              1,
              "#f0f921"
             ]
            ],
            "type": "surface"
           }
          ],
          "table": [
           {
            "cells": {
             "fill": {
              "color": "#EBF0F8"
             },
             "line": {
              "color": "white"
             }
            },
            "header": {
             "fill": {
              "color": "#C8D4E3"
             },
             "line": {
              "color": "white"
             }
            },
            "type": "table"
           }
          ]
         },
         "layout": {
          "annotationdefaults": {
           "arrowcolor": "#2a3f5f",
           "arrowhead": 0,
           "arrowwidth": 1
          },
          "autotypenumbers": "strict",
          "coloraxis": {
           "colorbar": {
            "outlinewidth": 0,
            "ticks": ""
           }
          },
          "colorscale": {
           "diverging": [
            [
             0,
             "#8e0152"
            ],
            [
             0.1,
             "#c51b7d"
            ],
            [
             0.2,
             "#de77ae"
            ],
            [
             0.3,
             "#f1b6da"
            ],
            [
             0.4,
             "#fde0ef"
            ],
            [
             0.5,
             "#f7f7f7"
            ],
            [
             0.6,
             "#e6f5d0"
            ],
            [
             0.7,
             "#b8e186"
            ],
            [
             0.8,
             "#7fbc41"
            ],
            [
             0.9,
             "#4d9221"
            ],
            [
             1,
             "#276419"
            ]
           ],
           "sequential": [
            [
             0,
             "#0d0887"
            ],
            [
             0.1111111111111111,
             "#46039f"
            ],
            [
             0.2222222222222222,
             "#7201a8"
            ],
            [
             0.3333333333333333,
             "#9c179e"
            ],
            [
             0.4444444444444444,
             "#bd3786"
            ],
            [
             0.5555555555555556,
             "#d8576b"
            ],
            [
             0.6666666666666666,
             "#ed7953"
            ],
            [
             0.7777777777777778,
             "#fb9f3a"
            ],
            [
             0.8888888888888888,
             "#fdca26"
            ],
            [
             1,
             "#f0f921"
            ]
           ],
           "sequentialminus": [
            [
             0,
             "#0d0887"
            ],
            [
             0.1111111111111111,
             "#46039f"
            ],
            [
             0.2222222222222222,
             "#7201a8"
            ],
            [
             0.3333333333333333,
             "#9c179e"
            ],
            [
             0.4444444444444444,
             "#bd3786"
            ],
            [
             0.5555555555555556,
             "#d8576b"
            ],
            [
             0.6666666666666666,
             "#ed7953"
            ],
            [
             0.7777777777777778,
             "#fb9f3a"
            ],
            [
             0.8888888888888888,
             "#fdca26"
            ],
            [
             1,
             "#f0f921"
            ]
           ]
          },
          "colorway": [
           "#636efa",
           "#EF553B",
           "#00cc96",
           "#ab63fa",
           "#FFA15A",
           "#19d3f3",
           "#FF6692",
           "#B6E880",
           "#FF97FF",
           "#FECB52"
          ],
          "font": {
           "color": "#2a3f5f"
          },
          "geo": {
           "bgcolor": "white",
           "lakecolor": "white",
           "landcolor": "#E5ECF6",
           "showlakes": true,
           "showland": true,
           "subunitcolor": "white"
          },
          "hoverlabel": {
           "align": "left"
          },
          "hovermode": "closest",
          "mapbox": {
           "style": "light"
          },
          "paper_bgcolor": "white",
          "plot_bgcolor": "#E5ECF6",
          "polar": {
           "angularaxis": {
            "gridcolor": "white",
            "linecolor": "white",
            "ticks": ""
           },
           "bgcolor": "#E5ECF6",
           "radialaxis": {
            "gridcolor": "white",
            "linecolor": "white",
            "ticks": ""
           }
          },
          "scene": {
           "xaxis": {
            "backgroundcolor": "#E5ECF6",
            "gridcolor": "white",
            "gridwidth": 2,
            "linecolor": "white",
            "showbackground": true,
            "ticks": "",
            "zerolinecolor": "white"
           },
           "yaxis": {
            "backgroundcolor": "#E5ECF6",
            "gridcolor": "white",
            "gridwidth": 2,
            "linecolor": "white",
            "showbackground": true,
            "ticks": "",
            "zerolinecolor": "white"
           },
           "zaxis": {
            "backgroundcolor": "#E5ECF6",
            "gridcolor": "white",
            "gridwidth": 2,
            "linecolor": "white",
            "showbackground": true,
            "ticks": "",
            "zerolinecolor": "white"
           }
          },
          "shapedefaults": {
           "line": {
            "color": "#2a3f5f"
           }
          },
          "ternary": {
           "aaxis": {
            "gridcolor": "white",
            "linecolor": "white",
            "ticks": ""
           },
           "baxis": {
            "gridcolor": "white",
            "linecolor": "white",
            "ticks": ""
           },
           "bgcolor": "#E5ECF6",
           "caxis": {
            "gridcolor": "white",
            "linecolor": "white",
            "ticks": ""
           }
          },
          "title": {
           "x": 0.05
          },
          "xaxis": {
           "automargin": true,
           "gridcolor": "white",
           "linecolor": "white",
           "ticks": "",
           "title": {
            "standoff": 15
           },
           "zerolinecolor": "white",
           "zerolinewidth": 2
          },
          "yaxis": {
           "automargin": true,
           "gridcolor": "white",
           "linecolor": "white",
           "ticks": "",
           "title": {
            "standoff": 15
           },
           "zerolinecolor": "white",
           "zerolinewidth": 2
          }
         }
        },
        "title": {
         "text": "Comparing Book and Movie Adaptation Ratings"
        },
        "width": 1000,
        "xaxis": {
         "autorange": true,
         "range": [
          5.377505289478747,
          9.322494710521253
         ],
         "title": {
          "text": "Book Rating"
         },
         "type": "linear"
        },
        "yaxis": {
         "autorange": true,
         "range": [
          4.122204125950055,
          8.977795874049946
         ],
         "title": {
          "text": "IMDb Rating"
         },
         "type": "linear"
        }
       }
      },
      "image/png": "[encoded data removed]",
      "text/html": [
       "<div>                            <div id=\"a077e0f5-72b4-466f-abcb-2c72cebbea7c\" class=\"plotly-graph-div\" style=\"height:700px; width:1000px;\"></div>            <script type=\"text/javascript\">                require([\"plotly\"], function(Plotly) {                    window.PLOTLYENV=window.PLOTLYENV || {};                                    if (document.getElementById(\"a077e0f5-72b4-466f-abcb-2c72cebbea7c\")) {                    Plotly.newPlot(                        \"a077e0f5-72b4-466f-abcb-2c72cebbea7c\",                        [{\"hovertemplate\":\"Book: %{text}<br>Book Rating: %{x}<br>Movie Rating: %{y}\",\"marker\":{\"cmid\":0,\"color\":[0.4799999999999995,1.4800000000000004,0.0,0.3199999999999994,1.7999999999999998,-0.6399999999999997,0.5,1.0199999999999996,3.0200000000000005,1.2199999999999998,0.6199999999999992,0.9400000000000004,1.34,1.5199999999999996,0.9500000000000002,-0.08,0.1799999999999997,0.3199999999999994,1.9400000000000004,0.7800000000000002,2.76,2.1,0.54,-0.1199999999999992,0.7000000000000011,1.62,0.3199999999999994,1.4500000000000002,1.34,-0.1199999999999992,1.4799999999999995,0.5899999999999999,1.4800000000000004,0.4266666666666667,1.5200000000000005,0.96,1.7199999999999998,0.5800000000000001,0.2400000000000002,-0.1399999999999996,3.06,-1.58,0.9799999999999996,2.8199999999999994,0.1000000000000005,1.42,-0.3949999999999996,0.3600000000000003,1.88,0.9399999999999996,0.5599999999999996,0.4400000000000004,1.2000000000000002,1.0999999999999996,1.2800000000000002,0.6600000000000001,1.3800000000000008,0.7000000000000002,0.7800000000000011,0.8400000000000007,1.0733333333333333,1.42,1.3999999999999997,1.1999999999999993,0.2599999999999998,1.3999999999999997,1.9000000000000004,-0.2599999999999998,0.7199999999999998,-0.0099999999999997,0.92,1.0199999999999996,0.4799999999999995,0.0600000000000005,-0.0199999999999995,0.9800000000000004,0.5200000000000005,1.4000000000000004,0.5600000000000005,1.1700000000000008,1.3599999999999994,0.8699999999999992],\"colorbar\":{\"title\":{\"text\":\"Rating Difference (books = +, movies = -) \"}},\"colorscale\":[[0.0,\"red\"],[0.5,\"white\"],[1.0,\"blue\"]],\"showscale\":true},\"mode\":\"markers\",\"name\":\"Ratings\",\"text\":[\"20,000 Leagues Under the Sea\",\"The Scarlet Letter\",\"Dr. Jekyll and Mr. Hyde\",\"Gulliver's Travels\",\"A Farewell to Arms\",\"The Red Badge of Courage\",\"The Odyssey\",\"A Portrait of the Artist as a Young Man\",\"Paradise Lost\",\"Great Expectations\",\"Cyrano de Bergerac\",\"The Canterbury Tales\",\"The Portrait of a Lady\",\"Uncle Tom's Cabin\",\"Treasure Island\",\"The Adventures of Sherlock Holmes\",\"Wuthering Heights\",\"Of Mice and Men\",\"The Brothers Karamazov\",\"The Count of Monte Cristo\",\"Brave New World\",\"Aesop's Fables\",\"Lord Jim\",\"Benjamin Franklin\",\"The Three Musketeers\",\"Madame Bovary\",\"Hamlet\",\"Pygmalion\",\"Robinson Crusoe\",\"Romeo and Juliet\",\"A Midsummer Night's Dream\",\"Beowulf\",\"Anna Karenina\",\"The Time Machine\",\"War and Peace\",\"The Talisman\",\"Alice in Wonderland\",\"Dracula\",\"The Red and the Black\",\"A Tale of Two Cities\",\"Faust\",\"Billy Budd\",\"Ivanhoe\",\"The Sound and the Fury\",\"Crime and Punishment\",\"The Adventures of Huckleberry Finn\",\"Frankenstein\",\"David Copperfield\",\"Twilight\",\"Lord of the Flies\",\"Persuasion\",\"Sense and Sensibility\",\"I Capture the Castle\",\"The Firm\",\"The Client\",\"The Rainmaker\",\"Emma\",\"Mansfield Park\",\"A Little Princess\",\"Nick and Norah's Infinite Playlist\",\"The Secret Garden\",\"Harry Potter and the Chamber of Secrets\",\"Harry Potter and the Goblet of Fire\",\"Harry Potter and the Prisoner of Azkaban\",\"Bram Stoker's Dracula\",\"The Other Boleyn Girl\",\"The Black Dahlia\",\"Little Children\",\"Bridget Jones's Diary\",\"Trainspotting\",\"Sherlock Holmes\",\"Charlie and the Chocolate Factory\",\"High Fidelity\",\"No Country for Old Men\",\"Atonement\",\"The Lovely Bones\",\"Never Let Me Go\",\"Brideshead Revisited\",\"Stardust\",\"Jane Eyre\",\"Vanity Fair\",\"Little Women\"],\"x\":[7.68,6.78,7.6,7.22,7.6,6.46,7.5,7.22,7.62,7.52,8.12,7.24,7.54,7.72,7.95,8.62,7.68,7.72,8.64,8.48,7.96,8.1,7.24,7.98,7.800000000000001,7.32,8.02,8.15,7.34,7.48,7.88,6.89,8.08,7.926666666666667,8.22,8.26,8.02,7.98,7.74,7.66,7.46,6.22,7.68,7.72,5.6000000000000005,7.62,7.405,7.96,7.18,7.34,8.26,8.14,8.0,8.0,7.98,7.86,7.98,7.7,8.38,7.44,8.373333333333333,8.82,9.1,9.1,7.66,8.1,7.5,7.24,7.52,8.09,8.52,7.72,7.88,8.26,7.78,7.58,7.62,8.0,8.16,8.22,7.56,8.12],\"y\":[7.2,5.3,7.6,6.9,5.8,7.1,7.0,6.2,4.6,6.3,7.5,6.3,6.2,6.2,7.0,8.7,7.5,7.4,6.7,7.7,5.2,6.0,6.7,8.1,7.1,5.7,7.7,6.7,6.0,7.6,6.4,6.3,6.6,7.5,6.7,7.3,6.3,7.4,7.5,7.8,4.4,7.8,6.7,4.9,5.5,6.2,7.8,7.6,5.3,6.4,7.7,7.7,6.8,6.9,6.7,7.2,6.6,7.0,7.6,6.6,7.3,7.4,7.7,7.9,7.4,6.7,5.6,7.5,6.8,8.1,7.6,6.7,7.4,8.2,7.8,6.6,7.1,6.6,7.6,7.05,6.2,7.25],\"type\":\"scatter\"},{\"line\":{\"color\":\"blue\",\"width\":2},\"mode\":\"lines\",\"name\":\"Trendline\",\"x\":[5.6000000000000005,9.1],\"y\":[4.71218798898764,7.464457858062057],\"type\":\"scatter\"},{\"line\":{\"color\":\"black\",\"dash\":\"dash\",\"width\":2},\"mode\":\"lines\",\"name\":\"y = x Line\",\"x\":[5.6000000000000005,8.7],\"y\":[5.6000000000000005,8.7],\"type\":\"scatter\"}],                        {\"template\":{\"data\":{\"histogram2dcontour\":[{\"type\":\"histogram2dcontour\",\"colorbar\":{\"outlinewidth\":0,\"ticks\":\"\"},\"colorscale\":[[0.0,\"#0d0887\"],[0.1111111111111111,\"#46039f\"],[0.2222222222222222,\"#7201a8\"],[0.3333333333333333,\"#9c179e\"],[0.4444444444444444,\"#bd3786\"],[0.5555555555555556,\"#d8576b\"],[0.6666666666666666,\"#ed7953\"],[0.7777777777777778,\"#fb9f3a\"],[0.8888888888888888,\"#fdca26\"],[1.0,\"#f0f921\"]]}],\"choropleth\":[{\"type\":\"choropleth\",\"colorbar\":{\"outlinewidth\":0,\"ticks\":\"\"}}],\"histogram2d\":[{\"type\":\"histogram2d\",\"colorbar\":{\"outlinewidth\":0,\"ticks\":\"\"},\"colorscale\":[[0.0,\"#0d0887\"],[0.1111111111111111,\"#46039f\"],[0.2222222222222222,\"#7201a8\"],[0.3333333333333333,\"#9c179e\"],[0.4444444444444444,\"#bd3786\"],[0.5555555555555556,\"#d8576b\"],[0.6666666666666666,\"#ed7953\"],[0.7777777777777778,\"#fb9f3a\"],[0.8888888888888888,\"#fdca26\"],[1.0,\"#f0f921\"]]}],\"heatmap\":[{\"type\":\"heatmap\",\"colorbar\":{\"outlinewidth\":0,\"ticks\":\"\"},\"colorscale\":[[0.0,\"#0d0887\"],[0.1111111111111111,\"#46039f\"],[0.2222222222222222,\"#7201a8\"],[0.3333333333333333,\"#9c179e\"],[0.4444444444444444,\"#bd3786\"],[0.5555555555555556,\"#d8576b\"],[0.6666666666666666,\"#ed7953\"],[0.7777777777777778,\"#fb9f3a\"],[0.8888888888888888,\"#fdca26\"],[1.0,\"#f0f921\"]]}],\"heatmapgl\":[{\"type\":\"heatmapgl\",\"colorbar\":{\"outlinewidth\":0,\"ticks\":\"\"},\"colorscale\":[[0.0,\"#0d0887\"],[0.1111111111111111,\"#46039f\"],[0.2222222222222222,\"#7201a8\"],[0.3333333333333333,\"#9c179e\"],[0.4444444444444444,\"#bd3786\"],[0.5555555555555556,\"#d8576b\"],[0.6666666666666666,\"#ed7953\"],[0.7777777777777778,\"#fb9f3a\"],[0.8888888888888888,\"#fdca26\"],[1.0,\"#f0f921\"]]}],\"contourcarpet\":[{\"type\":\"contourcarpet\",\"colorbar\":{\"outlinewidth\":0,\"ticks\":\"\"}}],\"contour\":[{\"type\":\"contour\",\"colorbar\":{\"outlinewidth\":0,\"ticks\":\"\"},\"colorscale\":[[0.0,\"#0d0887\"],[0.1111111111111111,\"#46039f\"],[0.2222222222222222,\"#7201a8\"],[0.3333333333333333,\"#9c179e\"],[0.4444444444444444,\"#bd3786\"],[0.5555555555555556,\"#d8576b\"],[0.6666666666666666,\"#ed7953\"],[0.7777777777777778,\"#fb9f3a\"],[0.8888888888888888,\"#fdca26\"],[1.0,\"#f0f921\"]]}],\"surface\":[{\"type\":\"surface\",\"colorbar\":{\"outlinewidth\":0,\"ticks\":\"\"},\"colorscale\":[[0.0,\"#0d0887\"],[0.1111111111111111,\"#46039f\"],[0.2222222222222222,\"#7201a8\"],[0.3333333333333333,\"#9c179e\"],[0.4444444444444444,\"#bd3786\"],[0.5555555555555556,\"#d8576b\"],[0.6666666666666666,\"#ed7953\"],[0.7777777777777778,\"#fb9f3a\"],[0.8888888888888888,\"#fdca26\"],[1.0,\"#f0f921\"]]}],\"mesh3d\":[{\"type\":\"mesh3d\",\"colorbar\":{\"outlinewidth\":0,\"ticks\":\"\"}}],\"scatter\":[{\"fillpattern\":{\"fillmode\":\"overlay\",\"size\":10,\"solidity\":0.2},\"type\":\"scatter\"}],\"parcoords\":[{\"type\":\"parcoords\",\"line\":{\"colorbar\":{\"outlinewidth\":0,\"ticks\":\"\"}}}],\"scatterpolargl\":[{\"type\":\"scatterpolargl\",\"marker\":{\"colorbar\":{\"outlinewidth\":0,\"ticks\":\"\"}}}],\"bar\":[{\"error_x\":{\"color\":\"#2a3f5f\"},\"error_y\":{\"color\":\"#2a3f5f\"},\"marker\":{\"line\":{\"color\":\"#E5ECF6\",\"width\":0.5},\"pattern\":{\"fillmode\":\"overlay\",\"size\":10,\"solidity\":0.2}},\"type\":\"bar\"}],\"scattergeo\":[{\"type\":\"scattergeo\",\"marker\":{\"colorbar\":{\"outlinewidth\":0,\"ticks\":\"\"}}}],\"scatterpolar\":[{\"type\":\"scatterpolar\",\"marker\":{\"colorbar\":{\"outlinewidth\":0,\"ticks\":\"\"}}}],\"histogram\":[{\"marker\":{\"pattern\":{\"fillmode\":\"overlay\",\"size\":10,\"solidity\":0.2}},\"type\":\"histogram\"}],\"scattergl\":[{\"type\":\"scattergl\",\"marker\":{\"colorbar\":{\"outlinewidth\":0,\"ticks\":\"\"}}}],\"scatter3d\":[{\"type\":\"scatter3d\",\"line\":{\"colorbar\":{\"outlinewidth\":0,\"ticks\":\"\"}},\"marker\":{\"colorbar\":{\"outlinewidth\":0,\"ticks\":\"\"}}}],\"scattermapbox\":[{\"type\":\"scattermapbox\",\"marker\":{\"colorbar\":{\"outlinewidth\":0,\"ticks\":\"\"}}}],\"scatterternary\":[{\"type\":\"scatterternary\",\"marker\":{\"colorbar\":{\"outlinewidth\":0,\"ticks\":\"\"}}}],\"scattercarpet\":[{\"type\":\"scattercarpet\",\"marker\":{\"colorbar\":{\"outlinewidth\":0,\"ticks\":\"\"}}}],\"carpet\":[{\"aaxis\":{\"endlinecolor\":\"#2a3f5f\",\"gridcolor\":\"white\",\"linecolor\":\"white\",\"minorgridcolor\":\"white\",\"startlinecolor\":\"#2a3f5f\"},\"baxis\":{\"endlinecolor\":\"#2a3f5f\",\"gridcolor\":\"white\",\"linecolor\":\"white\",\"minorgridcolor\":\"white\",\"startlinecolor\":\"#2a3f5f\"},\"type\":\"carpet\"}],\"table\":[{\"cells\":{\"fill\":{\"color\":\"#EBF0F8\"},\"line\":{\"color\":\"white\"}},\"header\":{\"fill\":{\"color\":\"#C8D4E3\"},\"line\":{\"color\":\"white\"}},\"type\":\"table\"}],\"barpolar\":[{\"marker\":{\"line\":{\"color\":\"#E5ECF6\",\"width\":0.5},\"pattern\":{\"fillmode\":\"overlay\",\"size\":10,\"solidity\":0.2}},\"type\":\"barpolar\"}],\"pie\":[{\"automargin\":true,\"type\":\"pie\"}]},\"layout\":{\"autotypenumbers\":\"strict\",\"colorway\":[\"#636efa\",\"#EF553B\",\"#00cc96\",\"#ab63fa\",\"#FFA15A\",\"#19d3f3\",\"#FF6692\",\"#B6E880\",\"#FF97FF\",\"#FECB52\"],\"font\":{\"color\":\"#2a3f5f\"},\"hovermode\":\"closest\",\"hoverlabel\":{\"align\":\"left\"},\"paper_bgcolor\":\"white\",\"plot_bgcolor\":\"#E5ECF6\",\"polar\":{\"bgcolor\":\"#E5ECF6\",\"angularaxis\":{\"gridcolor\":\"white\",\"linecolor\":\"white\",\"ticks\":\"\"},\"radialaxis\":{\"gridcolor\":\"white\",\"linecolor\":\"white\",\"ticks\":\"\"}},\"ternary\":{\"bgcolor\":\"#E5ECF6\",\"aaxis\":{\"gridcolor\":\"white\",\"linecolor\":\"white\",\"ticks\":\"\"},\"baxis\":{\"gridcolor\":\"white\",\"linecolor\":\"white\",\"ticks\":\"\"},\"caxis\":{\"gridcolor\":\"white\",\"linecolor\":\"white\",\"ticks\":\"\"}},\"coloraxis\":{\"colorbar\":{\"outlinewidth\":0,\"ticks\":\"\"}},\"colorscale\":{\"sequential\":[[0.0,\"#0d0887\"],[0.1111111111111111,\"#46039f\"],[0.2222222222222222,\"#7201a8\"],[0.3333333333333333,\"#9c179e\"],[0.4444444444444444,\"#bd3786\"],[0.5555555555555556,\"#d8576b\"],[0.6666666666666666,\"#ed7953\"],[0.7777777777777778,\"#fb9f3a\"],[0.8888888888888888,\"#fdca26\"],[1.0,\"#f0f921\"]],\"sequentialminus\":[[0.0,\"#0d0887\"],[0.1111111111111111,\"#46039f\"],[0.2222222222222222,\"#7201a8\"],[0.3333333333333333,\"#9c179e\"],[0.4444444444444444,\"#bd3786\"],[0.5555555555555556,\"#d8576b\"],[0.6666666666666666,\"#ed7953\"],[0.7777777777777778,\"#fb9f3a\"],[0.8888888888888888,\"#fdca26\"],[1.0,\"#f0f921\"]],\"diverging\":[[0,\"#8e0152\"],[0.1,\"#c51b7d\"],[0.2,\"#de77ae\"],[0.3,\"#f1b6da\"],[0.4,\"#fde0ef\"],[0.5,\"#f7f7f7\"],[0.6,\"#e6f5d0\"],[0.7,\"#b8e186\"],[0.8,\"#7fbc41\"],[0.9,\"#4d9221\"],[1,\"#276419\"]]},\"xaxis\":{\"gridcolor\":\"white\",\"linecolor\":\"white\",\"ticks\":\"\",\"title\":{\"standoff\":15},\"zerolinecolor\":\"white\",\"automargin\":true,\"zerolinewidth\":2},\"yaxis\":{\"gridcolor\":\"white\",\"linecolor\":\"white\",\"ticks\":\"\",\"title\":{\"standoff\":15},\"zerolinecolor\":\"white\",\"automargin\":true,\"zerolinewidth\":2},\"scene\":{\"xaxis\":{\"backgroundcolor\":\"#E5ECF6\",\"gridcolor\":\"white\",\"linecolor\":\"white\",\"showbackground\":true,\"ticks\":\"\",\"zerolinecolor\":\"white\",\"gridwidth\":2},\"yaxis\":{\"backgroundcolor\":\"#E5ECF6\",\"gridcolor\":\"white\",\"linecolor\":\"white\",\"showbackground\":true,\"ticks\":\"\",\"zerolinecolor\":\"white\",\"gridwidth\":2},\"zaxis\":{\"backgroundcolor\":\"#E5ECF6\",\"gridcolor\":\"white\",\"linecolor\":\"white\",\"showbackground\":true,\"ticks\":\"\",\"zerolinecolor\":\"white\",\"gridwidth\":2}},\"shapedefaults\":{\"line\":{\"color\":\"#2a3f5f\"}},\"annotationdefaults\":{\"arrowcolor\":\"#2a3f5f\",\"arrowhead\":0,\"arrowwidth\":1},\"geo\":{\"bgcolor\":\"white\",\"landcolor\":\"#E5ECF6\",\"subunitcolor\":\"white\",\"showland\":true,\"showlakes\":true,\"lakecolor\":\"white\"},\"title\":{\"x\":0.05},\"mapbox\":{\"style\":\"light\"}}},\"legend\":{\"font\":{\"size\":12},\"title\":{\"text\":\"Key\"},\"x\":0,\"y\":1,\"xanchor\":\"right\"},\"title\":{\"text\":\"Comparing Book and Movie Adaptation Ratings\"},\"xaxis\":{\"title\":{\"text\":\"Book Rating\"}},\"yaxis\":{\"title\":{\"text\":\"IMDb Rating\"}},\"width\":1000,\"height\":700,\"plot_bgcolor\":\"#dbdbd9\"},                        {\"responsive\": true}                    ).then(function(){\n",
       "                            \n",
       "var gd = document.getElementById('a077e0f5-72b4-466f-abcb-2c72cebbea7c');\n",
       "var x = new MutationObserver(function (mutations, observer) {{\n",
       "        var display = window.getComputedStyle(gd).display;\n",
       "        if (!display || display === 'none') {{\n",
       "            console.log([gd, 'removed!']);\n",
       "            Plotly.purge(gd);\n",
       "            observer.disconnect();\n",
       "        }}\n",
       "}});\n",
       "\n",
       "// Listen for the removal of the full notebook cells\n",
       "var notebookContainer = gd.closest('#notebook-container');\n",
       "if (notebookContainer) {{\n",
       "    x.observe(notebookContainer, {childList: true});\n",
       "}}\n",
       "\n",
       "// Listen for the clearing of the current output cell\n",
       "var outputEl = gd.closest('.output');\n",
       "if (outputEl) {{\n",
       "    x.observe(outputEl, {childList: true});\n",
       "}}\n",
       "\n",
       "                        })                };                });            </script>        </div>"
      ]
     },
     "metadata": {},
     "output_type": "display_data"
    }
   ],
   "source": [
    "# This code was developed with the assistance of ChatGPT (OpenAI), December 3rd, 2024.\n",
    "import plotly.graph_objects as go\n",
    "import pandas as pd\n",
    "import numpy as np\n",
    "\n",
    "# Load data\n",
    "data = pd.read_csv('scaled_book_movie_data.csv')\n",
    "\n",
    "# Calculate trendline\n",
    "coefficients = np.polyfit(data['Book Rating'], data['IMDb Rating'], 1)\n",
    "trendline = np.poly1d(coefficients)\n",
    "\n",
    "# Define the diagonal line (y = x) within the data range\n",
    "min_val = max(data['IMDb Rating'].min(), data['Book Rating'].min())\n",
    "max_val = min(data['IMDb Rating'].max(), data['Book Rating'].max())\n",
    "\n",
    "# Set diverging color scale\n",
    "diverging_colorscale = [\n",
    "    [0.0, \"red\"],  # Lowest value\n",
    "    [0.5, \"white\"], # Midpoint (0)\n",
    "    [1.0, \"blue\"]    # Highest value\n",
    "]\n",
    "\n",
    "# Create plot\n",
    "fig = go.Figure([\n",
    "    go.Scatter(\n",
    "        x=data['Book Rating'], \n",
    "        y=data['IMDb Rating'],\n",
    "        mode='markers', \n",
    "        marker=dict(\n",
    "            color=data['Rating Difference'],\n",
    "            colorscale=diverging_colorscale,  # Diverging color scale\n",
    "            cmid=0,   # Set midpoint to 0\n",
    "            showscale=True,\n",
    "            #colorscale='RdBu',\n",
    "            colorbar=dict(\n",
    "                title=\"Rating Difference (books = +, movies = -) \")\n",
    "        ),\n",
    "        #labelalias={0: \"0 = no difference\", 3: \"3 = books have a higher rating\", -1.5: \"-1.5 = movies have a higher rating\"},\n",
    "        text=data['Title'], \n",
    "        name='Ratings',\n",
    "        hovertemplate='Book: %{text}<br>Book Rating: %{x}<br>Movie Rating: %{y}'\n",
    "    ),\n",
    "    go.Scatter(\n",
    "        x=[data['Book Rating'].min(), data['Book Rating'].max()],\n",
    "        y=trendline([data['IMDb Rating'].min(), data['IMDb Rating'].max()]),\n",
    "        mode='lines', line=dict(color='blue', width=2),\n",
    "        name='Trendline'\n",
    "    ),\n",
    "    go.Scatter(\n",
    "        x=[min_val, max_val],\n",
    "        y=[min_val, max_val],\n",
    "        mode='lines',\n",
    "        line=dict(color='black', width=2, dash='dash'),\n",
    "        name='y = x Line'\n",
    "    )\n",
    "])\n",
    "\n",
    "# Update layout\n",
    "fig.update_layout(\n",
    "    title='Comparing Book and Movie Adaptation Ratings',\n",
    "    xaxis_title='Book Rating',\n",
    "    yaxis_title='IMDb Rating',\n",
    "    legend=dict(\n",
    "        title=\"Key\",\n",
    "        x=0,              # Position the legend to the right of the plot\n",
    "        y=1,                # Align the top of the legend with the plot\n",
    "        xanchor='right',    # Anchor the legend's right side\n",
    "        font=dict(size=12),  # Adjust font size if necessary\n",
    "    ),\n",
    "    width=1000,  # Set the width of the plot\n",
    "    height=700, # Set the height of the plot \n",
    "    plot_bgcolor='#dbdbd9',  # Slightly darker background  \n",
    ")\n",
    "\n",
    "fig.show()"
   ]
  },
  {
   "cell_type": "markdown",
   "id": "c3c823fd-bfb7-489f-897c-4fad2548d9d0",
   "metadata": {},
   "source": [
    "## Discussion \n",
    "Because of the timeline of this project and the fact that it was for a school project significantly impacted the choices and assumptions made to arrive at the findings I have. It's important to acknowledge the limitations of the work and therefore the implications of the findings outside of the scope of this project.\n",
    "\n",
    "### Limitations \n",
    "As I laid out in each step of my procedure, I made a significant amount of assumptions that I have been unable to quantify its effects in the results of this project. Starting at the source of my data, because of concerns with licenses for this project I erred on the side of caution and chose freely available data over potentially more credible but harder to access resources. Because of this I didn’t spend too much time checking the credibility of the rating of each source. \n",
    "\n",
    "Because I was limited by my sources of lists that contained books with movie adaptations I was also forced to narrow my scope to what I had access to. It doesn’t reflect the range of books with movie adaptations that exist in the world. For example I noted there were a lot of “classic” book titles I saw but didn’t see even all the Harry Potter novels included (Like who said those were the best examples to make this point???). Because of this I think it could have impacted the results of the findings. \n",
    "\n",
    "Along these same lines, even though ratings are a convenient metric to represent “popularity” it's completely subjective. And since I was already unsure about the sources of my data sources, this level of subjectivity did not help with my confidence of using it as my metric. I ultimately had to roll with it for the sake of the project but I had more time. I would have preferred to even build my own dataset from scratch (Though this would totally introduce my own personal bias into the mix which is a whole other issue too).\n",
    "\n",
    "Finally, other limitations I came across as I did this project was assuming all book titles had the same movie titles. I know this is incorrect because often movie adaptationstitles get changed or altered based on language and location. Similarly not all books are movies and not all movies are books. Some of the best stories might be a standalone movie and because it wasn't based on a novel it would be excluded from this study which is not accurate to movies in the real world. These factors contributes to the narrowing of my dataset even more which significantly can impact the results I found. \n",
    "\n",
    "### Implications \n",
    "**Outside the scope of this project I would not assume that all books are better than movies.** As I covered in my Limitations section, I think the number of choices and assumptions I made would not make sense in other contexts in the world when trying to quantify if books are better than movies. \n",
    "\n",
    "**It's easy to think numbers can solve all debates but to address the full complexity of a situation requires looking outside of assumptions that you use to narrow your vision.** Because of this, I continue to echo the advice I learned in my Background & Related Work section which urges everyone to think about the questions themselves. There will always be outliers or points that will challenge your thinking which means that using numbers to answer an age-old debate won’t always succeed in the way you might hope.\n"
   ]
  },
  {
   "cell_type": "markdown",
   "id": "1b1b9bf6-3a54-4577-b054-b3024c2452b4",
   "metadata": {},
   "source": [
    "## Conclusion \n",
    "In this study I looked into answering the debate if books are better than movies. While this is a very broad question, I worked to narrow the scope by looking at 82 unique book and IMDb movie adaption ratings and examined ways to quantify if there was a difference between them. Because there was no dataset that contained book titles, book ratings, and their movie adaption ratings, I worked to build a dataset from 3 open data sources. From my analysis I found about this specific dataset:\n",
    "\n",
    "- There is a statistically significant difference between the 82 book and movie ratings\n",
    "- Books had tend to have a higher rating than their movie adaptations [ 86.6% of time **book** ratings were higher than movie adaption ratings, 12.2% of time **movie adaption** ratings were higher than book ratings, 1.2% of time neither book or movie adaption rating had a higher rating (they were equal) ]\n",
    "\n",
    "**While these findings are true in this context of the project, I would not apply these reasoning to other books/movies.** Because I made a series of assumptions and choices that narrowed the scope of this project to a point I don’t feel accurately reflects the outside world. I think this provided me with experience of walking through answering a question through data. I think it has also taught me the limitations in which questions it is best suited to answer. \n",
    "\n",
    "In the case of answering the book vs movie debate, I’d echo the advice I learned before I started the project which is: spend time experiencing the different types of media first hand yourself. There will always be outliers but as you start to expose yourself to more examples you might start to build your own personal sense of the answer to the question. So even if this was an exciting find in this project, I push you all to continue answering this question for yourself! \n"
   ]
  }
 ],
 "metadata": {
  "kernelspec": {
   "display_name": "Python 3 (ipykernel)",
   "language": "python",
   "name": "python3"
  },
  "language_info": {
   "codemirror_mode": {
    "name": "ipython",
    "version": 3
   },
   "file_extension": ".py",
   "mimetype": "text/x-python",
   "name": "python",
   "nbconvert_exporter": "python",
   "pygments_lexer": "ipython3",
   "version": "3.10.13"
  }
 },
 "nbformat": 4,
 "nbformat_minor": 5
}
