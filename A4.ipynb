{
 "cells": [
  {
   "cell_type": "markdown",
   "id": "d45b9508-3c81-404f-947e-3021a21feba5",
   "metadata": {},
   "source": [
    "# A4 & A5: Final Project Proposal & Plan\n",
    "Camryn Soo - 11/10/24\n",
    "\n",
    "### Theme: Books vs Movie Adaptions\n",
    "\n",
    "## Overview: Motivations & Reserach Questions\n",
    "As person who has grown to appreciate reading, my stance on if books are better than movies has changed. As a kid who struggled to read, books were never as engaging as a movie because I was limited by my ability. Now as a college student, I've come to realize how fun and special books are when it comes to storytelling. But can I really say books are better than movies? Not exactly! Because of this, it has inspired me to try to see if I could quantify **how does book popularity compares to their movie adaptations and see if there is an answer to this age old debate: are books better than movies?**\n",
    "\n",
    "Other reserach questions I'm interested in exploring include:\n",
    "- How do at least 75 books compare to their movie adaptions according to their ratings?\n",
    "- What percentatge of time does a category (book vs. book adaption) higher than the other?\n",
    "- What is an average difference between a book release and its adpation release?\n",
    "- Concsider edge cases and limiations of this work!\n",
    "\n",
    "By looking at books with movie adaptions it helps me examine how the mediums compare. I was thinking about using popularity rankings to help determine this. With this said, there are still many other factors that this analysis can't cover which I will discuss in more depth in my unknown and dependencies section below.\n",
    "\n",
    "Acknowledging these limitations are important when considering the usefulness of the findings of this study. I'd ideally like to use this project's findings as a starting point in a conversation about mediums of storytelling. It can make people think about their preconceived notions on books or movies and help them start to see the strengths and weakness in both of them.. "
   ]
  },
  {
   "cell_type": "markdown",
   "id": "78f71e30-8544-43df-95d1-77e0ddea2d54",
   "metadata": {},
   "source": [
    "## Background & Related Work\n",
    "From what I've found so far, I struggled to find very \"offical\" previous research. Many projects or articles I found on the debate between books vs movies come from media sites that include high school newspapers, libraries, student projects, and new sources. I think that the topic is fairly informal because its based on subjective foundation.\n",
    "\n",
    "The [Indiana University's libraries site covers the debate in a 2018 article](https://blogs.libraries.indiana.edu/mediabeat/2018/03/19/books-vs-movies-the-age-old-debate/) covering the benifits and drawback of books and movies. The student author, Robiati Endashaw, points out, \"at the end of the day, the two mediums of storytelling have different advantages and different qualifications for what makes them good.\" While this is true, for the sake of this project I will still try to quantify the differences between the two mediums based on the same story. But I will keep this important factor in as I proceed forward and as I talk about my findings later. Becuase of this, **I think its good that many of the work I've found is \"informal\" because its more important for people critcally think about their opinion as opposed to be told what is \"correct\" when tha answer ultimately depends on the person or in the case of this study the data.**\n",
    "\n",
    "As referenced in this article, the [Washington Post wrote a 2016 analysis](https://www.washingtonpost.com/news/wonk/wp/2016/01/05/the-book-really-is-better-than-the-movie/) concluding that books were better than movies. While I can't access this piece due to a pay wall, from the visisual shared through the Indiana University's libraries' article I could see they had graphed the ratings of movies on the y axis to the rating of books on the x axis. Using a center line as \"neutral\" this image showed how the data favored books as better than movies. Even though I can't see their methodology, I would to try to see if I can recreate these findings on my own. By puting the movie and book ratings on opposite axies it helps show how they contrast. But with my study I'd also like to include some other factors such as time between book release and movie release. Its something I haven't found covered yet and think it could be interesting to see if there are any trends in that space of this debate.\n",
    "\n",
    "Finally, one useful related work that I have drawn inspiration on finding my datasets is an an analysis done by Sushant Vema in 2021 on [\"Predicting Box Office Returns for Movies Adapted from Books\"](https://saas.studentorg.berkeley.edu/rp/box-office). Sushant looked at what features of a book indicate it's success at box office. While I don't have intentions for creating a model to predict things, I think Sushant's work has similar starting points as this project. As Sushant pointed out, there is limited datasets available to the public that capture both book data and their adapted movie data. Because of this gap in data, Sushant breaks down their process of cleaning up the data, findings its limitations, and considerations when merging the movie and book datasets togeather. Because I will have to go through this similar process to get the right data for my analysis, I'm thankful I came across their work. When building up my dataset I want to be sure incorporate steps of making viusalizations of what I'm working with. I think this incremental approach is important to be able to understand the limiations of my work as well as show me other potential areas of interest for future work as Sushant mentioned."
   ]
  },
  {
   "cell_type": "markdown",
   "id": "da3666f6-b862-4c17-801b-32f5c3ec7406",
   "metadata": {},
   "source": [
    "## Data Selected for Analysis\n",
    "In order to start to answer this question I knew my data set would need to cover both book ratings and movie ratings. But after researching options, I was unable to find a source that had a combination of the two. That is why for this project I will need to examine up to three data sources to accomplish my analysis:\n",
    "- **Books ratings [(Kaggle - \"Books Dataset\")](https://www.kaggle.com/datasets/abdallahwagih/books-dataset):** contains information about the book such as its publication date and its rating out of 5.\n",
    "- **Movie adaptions of books ratings [(Kaggle - \"Movie Dataset Rating\")](https://www.kaggle.com/datasets/ayushjain001/movie-dataset-rating/data):** contains information about the movie such as its release date and its rating out of 10.\n",
    "- **List of books that have movie adaptions [(IMDb - \"Book-to-Film Adaptations\"](https://www.imdb.com/list/ls000989358/?view=compact&sort=alpha%2Casc) or [IMDb - \"100 Movies based on 100 Classic Great Books\")](https://www.imdb.com/list/ls074934904/):** both of these lists are curated by induviduals who have compiled a list of movies that's story oringinated from a book. \n",
    "\n",
    "The Kaggle **book ratings dataset** contains, as stated on the data card, the title, author, genre, publication year, and more for about 6810 books. I think the most useful fields I'm interested in are the title, author, average rating (out of 5), and publication year. This will help me build out the book rating portion of the dataset. But my main concern with this dataset is that it doesn't share where the data was collected from. I think this gap in knowledge could bring up ethical concerns of the validity of it. But from the other datasets I've seen, I liked this one the most because it covered a wild range of information tracked. While I understand this is a concerning issue, I think the dataset's high download rate gives me some more confidence in it credibility and usability. But to be safe I will be sure to note this issue in my documentation. Also the dataset uses the [Appache 2.0](https://www.apache.org/licenses/LICENSE-2.0) license which from my understanding allows me to use the dataset as long as I credit the creator and clearly cite if I make any modifications to it.\n",
    "\n",
    "The Kaggle **movie dataset** originates from [The Movie database](https://www.themoviedb.org/?language=en-US) and shares multiple fields of information for 9150 movies. The field I'm most interested in include: title, release date, and average vote (out of 10 I think). Similarly to the fields covered in the book rating dataset, these pieces of information will help me create the movie rating part of the dataset. While I have the source of the data, I'm unsure about their methods of collecting this data. I am inferring that the ranking system is out of 10 but assumptions like that are important and add up. This is one of my concerns around this data source because I'm unsure if I will be able to answer those questions before I need to start using it. Like with the book ranking data I will be sure to note this moving forward. This dataset is open to the public domain which means it should be safe to use for this project. I will still plan to credit the datasource creator once I start using it.\n",
    "\n",
    "Finally the last last part of information I need to answer my question is a **list of books that were adapted to become movies**. Both sources I've found for this so far are from IMDb and from what I am aware are available to the public. I will continue to look in to this but in the meantime will be sure to credit the owner of the database. While I'm not sure if I want to use one or both of lists of movies that are adaptations of books, they both contain excel files that store information such as the fields I'm most interested in like the title of the movie, the rating, and the year it was published. While I initially thought I'd just use the list of tiles to filter out the books/movies I'd include, I think it could also be a good secondary source to cross reference the movie ratings."
   ]
  },
  {
   "cell_type": "markdown",
   "id": "7a05528a-5f01-4894-af03-d04d7786cee0",
   "metadata": {},
   "source": [
    "## Methodology\n",
    "You are expected to be thorough with these steps. Please describe to the best of your ability the entire series of gathering, analysis, and presentation methods you plan to use\n",
    "\n",
    "While I have never independently conducted a t-test outside of a stat class, I think it would fit this project very well to analyze my data. But because I haven't taken a stat class in a year, I will need to review the steps of how to conduct this analysis before starting this portion of the project.\n",
    "\n",
    "As outlined in [QuestionPro's site on \"T-Test: What It Is, Its Advantages + Steps to Perform It\"](https://www.questionpro.com/blog/t-test/), I think the best type of t-test for this project is a two-sample t-test for independent data. While the book and movie are similar in that they portray the same story, the people ranking the media are different from what we know which makes the indpendent choice more accurate to what we want. Before performing any analysis, I think its important to check all the data I want is properly formatted. Because ratings have different scales, I want to make sure they are on the same scale to make them comparable.\n",
    "- My null hypothesis is: the mean ratings of book and movie adaptions **won't** be statistically different.\n",
    "- My alternative hypothesis is: the mean ratings of book and movie adaptions **will** be statistically different.\n",
    "\n",
    "From here I will plan to conduct an f-test to check if the variences of the datasets or equal or not as laid out in the [Statology site](https://www.statology.org/determine-equal-or-unequal-variance/). This will determine if I will need to use a student's t-test or a Welch's t-test as stated on the [VitalFlux](https://vitalflux.com/two-sample-t-test-formula-examples/) website which talked about how to conduct t-tests. Then according to the approriate t-test equation I will calculate the needed componets and find my t-statistic. Using a significance level of 0.05, I will then find my critical value of t which I will compare to my t-value to see if the difference is significant or not. I'm not sure the best display for this information may be but I'm considering using a box plot.\n",
    "\n",
    "Along with displaying that my analysis of that part of this project, I'd like to create a scatter plot of the book vs movie ratings as done in the Washington Post articleWhile I haven't made anything like this previously, I found some [Pandas documentation](https://pandas.pydata.org/docs/reference/api/pandas.DataFrame.plot.scatter.html) that could help with this. I'd like to put the movie ratings on one axis and the book ratings on a another so as I mentioned in the earlier section, it can showcase a trend if movies adaptions or books have a higher rating..\n",
    "While I'm less sure how I'd like to analyze or display the data such as the difference between book release date and movie adaption release date because I am unsure if its necessary or interesting to the main focus on this project, I'd consider using the analysis and display methods I walked through for rating.\n"
   ]
  },
  {
   "cell_type": "markdown",
   "id": "0f0371ac-f8a2-4b5e-a27b-3f1d20e00222",
   "metadata": {},
   "source": [
    "## Unknowns & Dependencies\n",
    "As I mentioned in the previous sections, in order to answer my questions with the constraints of my dataset I will have to work with major assumptions. I'll be dependent on the opinions captured in the sources I have found which is not representative of everyone. Its  important to know that the ratings of the people reading books will most likely not be the same people that watched the movie so while I am using it as a control focomparisonon there are issues I am unable to overcome. The ratings will be of each piece as a standalone media but I will try to compare the movie and book ratings to find a conclusion. While this does worry me, I think for the purpose of this project it wi bell alright if I am open with massumptionsns and preface that my conclusions are starting points, not ending ones.\n",
    "\n",
    "I'm also nervous when working with such large datasets if loading time will be an issue. I remember with A2, many of my classmates noted how looking through alot of data took alot of time. But I think through creating smaller testing datasets I should be able to overcome parts of this problem. I'm still slightly worried about knowing what manageablele dataset size is or no I think a good way to display this might be to box plots, but I will want to leave flexibility to make the best choice to display my findings once I have a better picture of what they are after I complete my analysis.\n",
    "\n",
    "While I think I will be able to use parts of all these databases to make a unified one to do my analys  ,,on I'm still aware it will require some codinskillsls I'm not confident in. As I think through the process, I believe it is possible if I take my time. I understand time is a constraint on this project but I think the organization of the new database will be the most complxe part of the project. "
   ]
  },
  {
   "cell_type": "code",
   "execution_count": null,
   "id": "76d92cd2-35ac-4889-a952-30447cc25367",
   "metadata": {},
   "outputs": [],
   "source": []
  }
 ],
 "metadata": {
  "kernelspec": {
   "display_name": "Python 3 (ipykernel)",
   "language": "python",
   "name": "python3"
  },
  "language_info": {
   "codemirror_mode": {
    "name": "ipython",
    "version": 3
   },
   "file_extension": ".py",
   "mimetype": "text/x-python",
   "name": "python",
   "nbconvert_exporter": "python",
   "pygments_lexer": "ipython3",
   "version": "3.10.13"
  }
 },
 "nbformat": 4,
 "nbformat_minor": 5
}
